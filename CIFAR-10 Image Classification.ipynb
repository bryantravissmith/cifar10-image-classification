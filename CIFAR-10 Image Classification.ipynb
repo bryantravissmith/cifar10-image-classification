{
 "cells": [
  {
   "cell_type": "markdown",
   "metadata": {},
   "source": [
    "# Download CIFAR-10 Dataset"
   ]
  },
  {
   "cell_type": "code",
   "execution_count": 1,
   "metadata": {},
   "outputs": [
    {
     "name": "stdout",
     "output_type": "stream",
     "text": [
      "All files found!\n"
     ]
    }
   ],
   "source": [
    "from urllib.request import urlretrieve\n",
    "from os.path import isfile, isdir\n",
    "from tqdm import tqdm\n",
    "import problem_unittests as tests\n",
    "import tarfile\n",
    "\n",
    "cifar10_dataset_folder_path = 'cifar-10-batches-py'\n",
    "\n",
    "# Use Floyd's cifar-10 dataset if present\n",
    "cifar10_location = './python.tar.gz'\n",
    "if isfile(cifar10_location):\n",
    "    tar_gz_path = cifar10_location\n",
    "else:\n",
    "    tar_gz_path = 'cifar-10-python.tar.gz'\n",
    "\n",
    "class DLProgress(tqdm):\n",
    "    last_block = 0\n",
    "\n",
    "    def hook(self, block_num=1, block_size=1, total_size=None):\n",
    "        self.total = total_size\n",
    "        self.update((block_num - self.last_block) * block_size)\n",
    "        self.last_block = block_num\n",
    "\n",
    "if not isfile(tar_gz_path):\n",
    "    with DLProgress(unit='B', unit_scale=True, miniters=1, desc='CIFAR-10 Dataset') as pbar:\n",
    "        urlretrieve(\n",
    "            'https://www.cs.toronto.edu/~kriz/cifar-10-python.tar.gz',\n",
    "            tar_gz_path,\n",
    "            pbar.hook)\n",
    "\n",
    "if not isdir(cifar10_dataset_folder_path):\n",
    "    with tarfile.open(tar_gz_path) as tar:\n",
    "        tar.extractall()\n",
    "        tar.close()\n",
    "\n",
    "\n",
    "tests.test_folder_path(cifar10_dataset_folder_path)"
   ]
  },
  {
   "cell_type": "markdown",
   "metadata": {},
   "source": [
    "# Explore Dataset"
   ]
  },
  {
   "cell_type": "code",
   "execution_count": 2,
   "metadata": {},
   "outputs": [
    {
     "name": "stdout",
     "output_type": "stream",
     "text": [
      "\n",
      "Stats of batch 1:\n",
      "Samples: 10000\n",
      "Label Counts: {0: 1005, 1: 974, 2: 1032, 3: 1016, 4: 999, 5: 937, 6: 1030, 7: 1001, 8: 1025, 9: 981}\n",
      "First 20 Labels: [6, 9, 9, 4, 1, 1, 2, 7, 8, 3, 4, 7, 7, 2, 9, 9, 9, 3, 2, 6]\n",
      "\n",
      "Example of Image 5:\n",
      "Image - Min Value: 0 Max Value: 252\n",
      "Image - Shape: (32, 32, 3)\n",
      "Label - Label Id: 1 Name: automobile\n"
     ]
    },
    {
     "data": {
      "image/png": "[encoded data removed]",
      "text/plain": [
       "<matplotlib.figure.Figure at 0x11a2b34e0>"
      ]
     },
     "metadata": {
      "image/png": {
       "height": 250,
       "width": 253
      }
     },
     "output_type": "display_data"
    }
   ],
   "source": [
    "%matplotlib inline\n",
    "%config InlineBackend.figure_format = 'retina'\n",
    "\n",
    "import helper\n",
    "import numpy as np\n",
    "\n",
    "# Explore the dataset\n",
    "batch_id = 1\n",
    "sample_id = 5\n",
    "helper.display_stats(cifar10_dataset_folder_path, batch_id, sample_id)"
   ]
  },
  {
   "cell_type": "markdown",
   "metadata": {},
   "source": [
    "# Normalize Images"
   ]
  },
  {
   "cell_type": "code",
   "execution_count": 5,
   "metadata": {},
   "outputs": [
    {
     "name": "stdout",
     "output_type": "stream",
     "text": [
      "Tests Passed\n"
     ]
    }
   ],
   "source": [
    "\n",
    "def normalize(x):\n",
    "    \"\"\"\n",
    "    Normalize a list of sample image data in the range of 0 to 1\n",
    "    : x: List of image data.  The image shape is (32, 32, 3)\n",
    "    : return: Numpy array of normalize data\n",
    "    \"\"\"\n",
    "    # TODO: Implement Function\n",
    "    return x/255.\n",
    "\n",
    "\n",
    "\"\"\"\n",
    "DON'T MODIFY ANYTHING IN THIS CELL THAT IS BELOW THIS LINE\n",
    "\"\"\"\n",
    "tests.test_normalize(normalize)"
   ]
  },
  {
   "cell_type": "markdown",
   "metadata": {},
   "source": [
    "# One-hot Encode Labels"
   ]
  },
  {
   "cell_type": "code",
   "execution_count": 43,
   "metadata": {},
   "outputs": [
    {
     "name": "stdout",
     "output_type": "stream",
     "text": [
      "Tests Passed\n"
     ]
    }
   ],
   "source": [
    "import sklearn.preprocessing\n",
    "label_binarizer = sklearn.preprocessing.LabelBinarizer()\n",
    "\n",
    "def one_hot_encode(x):\n",
    "    \"\"\"\n",
    "    One hot encode a list of sample labels. Return a one-hot encoded vector for each label.\n",
    "    : x: List of sample Labels\n",
    "    : return: Numpy array of one-hot encoded labels\n",
    "    \"\"\"\n",
    "    global label_binarizer\n",
    "    try:\n",
    "        return label_binarizer.transform(x)\n",
    "    except:\n",
    "        label_binarizer.fit(x)\n",
    "        return label_binarizer.transform(x)\n",
    "    \n",
    "\"\"\"\n",
    "DON'T MODIFY ANYTHING IN THIS CELL THAT IS BELOW THIS LINE\n",
    "\"\"\"\n",
    "tests.test_one_hot_encode(one_hot_encode)\n"
   ]
  },
  {
   "cell_type": "markdown",
   "metadata": {},
   "source": [
    "# Preprocess Data"
   ]
  },
  {
   "cell_type": "code",
   "execution_count": 7,
   "metadata": {
    "collapsed": true
   },
   "outputs": [],
   "source": [
    "\"\"\"\n",
    "DON'T MODIFY ANYTHING IN THIS CELL\n",
    "\"\"\"\n",
    "# Preprocess Training, Validation, and Testing Data\n",
    "helper.preprocess_and_save_data(cifar10_dataset_folder_path, normalize, one_hot_encode)"
   ]
  },
  {
   "cell_type": "markdown",
   "metadata": {},
   "source": [
    "# Check Point"
   ]
  },
  {
   "cell_type": "code",
   "execution_count": 8,
   "metadata": {
    "collapsed": true
   },
   "outputs": [],
   "source": [
    "\n",
    "\"\"\"\n",
    "DON'T MODIFY ANYTHING IN THIS CELL\n",
    "\"\"\"\n",
    "import pickle\n",
    "import problem_unittests as tests\n",
    "import helper\n",
    "\n",
    "# Load the Preprocessed Validation data\n",
    "valid_features, valid_labels = pickle.load(open('preprocess_validation.p', mode='rb'))"
   ]
  },
  {
   "cell_type": "markdown",
   "metadata": {},
   "source": [
    "## Inputs"
   ]
  },
  {
   "cell_type": "code",
   "execution_count": 10,
   "metadata": {},
   "outputs": [
    {
     "name": "stdout",
     "output_type": "stream",
     "text": [
      "Image Input Tests Passed.\n",
      "Label Input Tests Passed.\n",
      "Keep Prob Tests Passed.\n"
     ]
    }
   ],
   "source": [
    "import tensorflow as tf\n",
    "\n",
    "def neural_net_image_input(image_shape):\n",
    "    \"\"\"\n",
    "    Return a Tensor for a batch of image input\n",
    "    : image_shape: Shape of the images\n",
    "    : return: Tensor for image input.\n",
    "    \"\"\"\n",
    "    # TODO: Implement Function\n",
    "    return tf.placeholder(\n",
    "        tf.float32, \n",
    "        shape=[None,32, 32, 3],\n",
    "        name='x'\n",
    "    )\n",
    "\n",
    "\n",
    "def neural_net_label_input(n_classes):\n",
    "    \"\"\"\n",
    "    Return a Tensor for a batch of label input\n",
    "    : n_classes: Number of classes\n",
    "    : return: Tensor for label input.\n",
    "    \"\"\"\n",
    "    # TODO: Implement Function\n",
    "    return tf.placeholder(\n",
    "        tf.float32, \n",
    "        shape=[None, 10],\n",
    "        name='y'\n",
    "    )\n",
    "\n",
    "\n",
    "def neural_net_keep_prob_input():\n",
    "    \"\"\"\n",
    "    Return a Tensor for keep probability\n",
    "    : return: Tensor for keep probability.\n",
    "    \"\"\"\n",
    "    # TODO: Implement Function\n",
    "    return tf.placeholder(\n",
    "        tf.float32,\n",
    "        name='keep_prob'\n",
    "    )\n",
    "\n",
    "\n",
    "\"\"\"\n",
    "DON'T MODIFY ANYTHING IN THIS CELL THAT IS BELOW THIS LINE\n",
    "\"\"\"\n",
    "tf.reset_default_graph()\n",
    "tests.test_nn_image_inputs(neural_net_image_input)\n",
    "tests.test_nn_label_inputs(neural_net_label_input)\n",
    "tests.test_nn_keep_prob_inputs(neural_net_keep_prob_input)"
   ]
  },
  {
   "cell_type": "markdown",
   "metadata": {},
   "source": [
    "# Convolution and Max Pooling"
   ]
  },
  {
   "cell_type": "code",
   "execution_count": 12,
   "metadata": {
    "scrolled": false
   },
   "outputs": [
    {
     "name": "stdout",
     "output_type": "stream",
     "text": [
      "(?, 32, 32, 5)\n",
      "Tests Passed\n"
     ]
    }
   ],
   "source": [
    "def conv2d_maxpool(x_tensor, conv_num_outputs, conv_ksize, conv_strides, pool_ksize, pool_strides):\n",
    "    \"\"\"\n",
    "    Apply convolution then max pooling to x_tensor\n",
    "    :param x_tensor: TensorFlow Tensor\n",
    "    :param conv_num_outputs: Number of outputs for the convolutional layer\n",
    "    :param conv_ksize: kernal size 2-D Tuple for the convolutional layer\n",
    "    :param conv_strides: Stride 2-D Tuple for convolution\n",
    "    :param pool_ksize: kernal size 2-D Tuple for pool\n",
    "    :param pool_strides: Stride 2-D Tuple for pool\n",
    "    : return: A tensor that represents convolution and max pooling of x_tensor\n",
    "    \"\"\"\n",
    "    print(x_tensor.shape)\n",
    "    # TODO: Implement Function\n",
    "    w = tf.Variable(tf.random_normal(\n",
    "        [conv_ksize[0], conv_ksize[1], x_tensor.shape[3].value, conv_num_outputs]\n",
    "    ))\n",
    "                    \n",
    "    b = tf.Variable(tf.zeros(conv_num_outputs))\n",
    "                    \n",
    "    conv_output = tf.nn.conv2d(\n",
    "        x_tensor,\n",
    "        w,\n",
    "        strides=[1,conv_strides[0],conv_strides[1],1],\n",
    "        padding='SAME'\n",
    "    )\n",
    "                    \n",
    "    conv_output = tf.nn.bias_add(conv_output, b)\n",
    "         \n",
    "    pool_output = tf.nn.max_pool(\n",
    "        conv_output,\n",
    "        ksize=[1,pool_ksize[0],pool_ksize[1],1],\n",
    "        strides=[1,pool_strides[0],pool_strides[1],1],\n",
    "        padding='SAME'\n",
    "        \n",
    "    )\n",
    "    return pool_output \n",
    "\n",
    "\n",
    "\"\"\"\n",
    "DON'T MODIFY ANYTHING IN THIS CELL THAT IS BELOW THIS LINE\n",
    "\"\"\"\n",
    "tests.test_con_pool(conv2d_maxpool)"
   ]
  },
  {
   "cell_type": "markdown",
   "metadata": {},
   "source": [
    "## Flatten Layer\n"
   ]
  },
  {
   "cell_type": "code",
   "execution_count": 13,
   "metadata": {},
   "outputs": [
    {
     "name": "stdout",
     "output_type": "stream",
     "text": [
      "Tests Passed\n"
     ]
    }
   ],
   "source": [
    "def flatten(x_tensor):\n",
    "    \"\"\"\n",
    "    Flatten x_tensor to (Batch Size, Flattened Image Size)\n",
    "    : x_tensor: A tensor of size (Batch Size, ...), where ... are the image dimensions.\n",
    "    : return: A tensor of size (Batch Size, Flattened Image Size).\n",
    "    \"\"\"\n",
    "    # TODO: Implement Function\n",
    "    return tf.contrib.layers.flatten(x_tensor)\n",
    "\n",
    "\"\"\"\n",
    "DON'T MODIFY ANYTHING IN THIS CELL THAT IS BELOW THIS LINE\n",
    "\"\"\"\n",
    "tests.test_flatten(flatten)"
   ]
  },
  {
   "cell_type": "code",
   "execution_count": 14,
   "metadata": {},
   "outputs": [
    {
     "name": "stdout",
     "output_type": "stream",
     "text": [
      "Tests Passed\n"
     ]
    }
   ],
   "source": [
    "def fully_conn(x_tensor, num_outputs):\n",
    "    \"\"\"\n",
    "    Apply a fully connected layer to x_tensor using weight and bias\n",
    "    : x_tensor: A 2-D tensor where the first dimension is batch size.\n",
    "    : num_outputs: The number of output that the new tensor should be.\n",
    "    : return: A 2-D tensor where the second dimension is num_outputs.\n",
    "    \"\"\"\n",
    "    # TODO: Implement Function\n",
    "    return tf.layers.dense(x_tensor, num_outputs)\n",
    "\n",
    "\n",
    "\"\"\"\n",
    "DON'T MODIFY ANYTHING IN THIS CELL THAT IS BELOW THIS LINE\n",
    "\"\"\"\n",
    "tests.test_fully_conn(fully_conn)"
   ]
  },
  {
   "cell_type": "code",
   "execution_count": 15,
   "metadata": {},
   "outputs": [
    {
     "name": "stdout",
     "output_type": "stream",
     "text": [
      "Tests Passed\n"
     ]
    }
   ],
   "source": [
    "def output(x_tensor, num_outputs):\n",
    "    \"\"\"\n",
    "    Apply a output layer to x_tensor using weight and bias\n",
    "    : x_tensor: A 2-D tensor where the first dimension is batch size.\n",
    "    : num_outputs: The number of output that the new tensor should be.\n",
    "    : return: A 2-D tensor where the second dimension is num_outputs.\n",
    "    \"\"\"\n",
    "    # TODO: Implement Function\n",
    "    return tf.layers.dense(x_tensor, num_outputs)\n",
    "\n",
    "\n",
    "\"\"\"\n",
    "DON'T MODIFY ANYTHING IN THIS CELL THAT IS BELOW THIS LINE\n",
    "\"\"\"\n",
    "tests.test_output(output)"
   ]
  },
  {
   "cell_type": "code",
   "execution_count": 16,
   "metadata": {},
   "outputs": [
    {
     "name": "stdout",
     "output_type": "stream",
     "text": [
      "(?, 32, 32, 3)\n",
      "(?, 16, 16, 64)\n",
      "(?, 8, 8, 128)\n",
      "(?, 32, 32, 3)\n",
      "(?, 16, 16, 64)\n",
      "(?, 8, 8, 128)\n",
      "Neural Network Built!\n"
     ]
    }
   ],
   "source": [
    "def conv_net(x, keep_prob):\n",
    "    \"\"\"\n",
    "    Create a convolutional neural network model\n",
    "    : x: Placeholder tensor that holds image data.\n",
    "    : keep_prob: Placeholder tensor that hold dropout keep probability.\n",
    "    : return: Tensor that represents logits\n",
    "    \"\"\"\n",
    "    # TODO: Apply 1, 2, or 3 Convolution and Max Pool layers\n",
    "    #    Play around with different number of outputs, kernel size and stride\n",
    "    # Function Definition from Above:\n",
    "    #    conv2d_maxpool(x_tensor, conv_num_outputs, conv_ksize, conv_strides, pool_ksize, pool_strides)\n",
    "    \n",
    "    layer_1 = conv2d_maxpool(x, 64,(3,3),(1,1),(2,2),(2,2))\n",
    "    layer_2 = conv2d_maxpool(layer_1, 128,(3,3),(1,1),(2,2),(2,2))\n",
    "    layer_3 = conv2d_maxpool(layer_2, 256,(3,3),(1,1),(2,2),(2,2))\n",
    "    # TODO: Apply a Flatten Layer\n",
    "    # Function Definition from Above:\n",
    "    #   flatten(x_tensor)\n",
    "    flat = flatten(layer_3)\n",
    "\n",
    "    # TODO: Apply 1, 2, or 3 Fully Connected Layers\n",
    "    #    Play around with different number of outputs\n",
    "    # Function Definition from Above:\n",
    "    #   fully_conn(x_tensor, num_outputs)\n",
    "    fc_1 = fully_conn(flat,256)\n",
    "    fc_1 = tf.nn.dropout(fc_1, keep_prob=keep_prob)\n",
    "    fc_2 = fully_conn(fc_1,128)\n",
    "    fc_2 = tf.nn.dropout(fc_2, keep_prob=keep_prob)\n",
    "    # TODO: Apply an Output Layer\n",
    "    #    Set this to the number of classes\n",
    "    # Function Definition from Above:\n",
    "    #   output(x_tensor, num_outputs)\n",
    "    pred = output(fc_2, 10)\n",
    "    \n",
    "    # TODO: return output\n",
    "    return pred\n",
    "\n",
    "\n",
    "\"\"\"\n",
    "DON'T MODIFY ANYTHING IN THIS CELL THAT IS BELOW THIS LINE\n",
    "\"\"\"\n",
    "\n",
    "##############################\n",
    "## Build the Neural Network ##\n",
    "##############################\n",
    "\n",
    "# Remove previous weights, bias, inputs, etc..\n",
    "tf.reset_default_graph()\n",
    "\n",
    "# Inputs\n",
    "x = neural_net_image_input((32, 32, 3))\n",
    "y = neural_net_label_input(10)\n",
    "keep_prob = neural_net_keep_prob_input()\n",
    "\n",
    "# Model\n",
    "logits = conv_net(x, keep_prob)\n",
    "\n",
    "# Name logits Tensor, so that is can be loaded from disk after training\n",
    "logits = tf.identity(logits, name='logits')\n",
    "\n",
    "# Loss and Optimizer\n",
    "cost = tf.reduce_mean(tf.nn.softmax_cross_entropy_with_logits(logits=logits, labels=y))\n",
    "optimizer = tf.train.AdamOptimizer().minimize(cost)\n",
    "\n",
    "# Accuracy\n",
    "correct_pred = tf.equal(tf.argmax(logits, 1), tf.argmax(y, 1))\n",
    "accuracy = tf.reduce_mean(tf.cast(correct_pred, tf.float32), name='accuracy')\n",
    "\n",
    "tests.test_conv_net(conv_net)"
   ]
  },
  {
   "cell_type": "code",
   "execution_count": 17,
   "metadata": {},
   "outputs": [
    {
     "name": "stdout",
     "output_type": "stream",
     "text": [
      "Tests Passed\n"
     ]
    }
   ],
   "source": [
    "def train_neural_network(session, optimizer, keep_probability, feature_batch, label_batch):\n",
    "    \"\"\"\n",
    "    Optimize the session on a batch of images and labels\n",
    "    : session: Current TensorFlow session\n",
    "    : optimizer: TensorFlow optimizer function\n",
    "    : keep_probability: keep probability\n",
    "    : feature_batch: Batch of Numpy image data\n",
    "    : label_batch: Batch of Numpy label data\n",
    "    \"\"\"\n",
    "    # TODO: Implement Function\n",
    "    session.run(optimizer, feed_dict={\n",
    "        x: feature_batch,\n",
    "        y: label_batch,\n",
    "        keep_prob: keep_probability\n",
    "    })\n",
    "\n",
    "\n",
    "\"\"\"\n",
    "DON'T MODIFY ANYTHING IN THIS CELL THAT IS BELOW THIS LINE\n",
    "\"\"\"\n",
    "tests.test_train_nn(train_neural_network)"
   ]
  },
  {
   "cell_type": "code",
   "execution_count": 18,
   "metadata": {
    "collapsed": true
   },
   "outputs": [],
   "source": [
    "def print_stats(session, feature_batch, label_batch, cost, accuracy):\n",
    "    \"\"\"\n",
    "    Print information about loss and validation accuracy\n",
    "    : session: Current TensorFlow session\n",
    "    : feature_batch: Batch of Numpy image data\n",
    "    : label_batch: Batch of Numpy label data\n",
    "    : cost: TensorFlow cost function\n",
    "    : accuracy: TensorFlow accuracy function\n",
    "    \"\"\"\n",
    "    # TODO: Implement Function\n",
    "    print(session.run(\n",
    "        [cost, accuracy],\n",
    "        feed_dict={\n",
    "            x:feature_batch,\n",
    "            y:label_batch,\n",
    "            keep_prob:1.0\n",
    "        }\n",
    "    ))"
   ]
  },
  {
   "cell_type": "code",
   "execution_count": 19,
   "metadata": {
    "collapsed": true
   },
   "outputs": [],
   "source": [
    "# TODO: Tune Parameters\n",
    "epochs = 2\n",
    "batch_size = 128\n",
    "keep_probability = 0.4"
   ]
  },
  {
   "cell_type": "code",
   "execution_count": 20,
   "metadata": {},
   "outputs": [
    {
     "name": "stdout",
     "output_type": "stream",
     "text": [
      "Checking the Training on a Single Batch...\n",
      "Epoch  1, CIFAR-10 Batch 1:  [1578.5709, 0.32499999]\n",
      "Epoch  2, CIFAR-10 Batch 1:  [978.46094, 0.44999999]\n"
     ]
    }
   ],
   "source": [
    "\"\"\"\n",
    "DON'T MODIFY ANYTHING IN THIS CELL\n",
    "\"\"\"\n",
    "print('Checking the Training on a Single Batch...')\n",
    "with tf.Session() as sess:\n",
    "    # Initializing the variables\n",
    "    sess.run(tf.global_variables_initializer())\n",
    "    \n",
    "    # Training cycle\n",
    "    for epoch in range(epochs):\n",
    "        batch_i = 1\n",
    "        for batch_features, batch_labels in helper.load_preprocess_training_batch(batch_i, batch_size):\n",
    "            train_neural_network(sess, optimizer, keep_probability, batch_features, batch_labels)\n",
    "        print('Epoch {:>2}, CIFAR-10 Batch {}:  '.format(epoch + 1, batch_i), end='')\n",
    "        print_stats(sess, batch_features, batch_labels, cost, accuracy)"
   ]
  },
  {
   "cell_type": "markdown",
   "metadata": {},
   "source": [
    "# Training"
   ]
  },
  {
   "cell_type": "code",
   "execution_count": 21,
   "metadata": {
    "collapsed": true
   },
   "outputs": [],
   "source": [
    "# TODO: Tune Parameters\n",
    "epochs = 25\n",
    "batch_size = 128\n",
    "keep_probability = 0.4"
   ]
  },
  {
   "cell_type": "code",
   "execution_count": 22,
   "metadata": {},
   "outputs": [
    {
     "name": "stdout",
     "output_type": "stream",
     "text": [
      "Training...\n",
      "Epoch  1, CIFAR-10 Batch 1:  [1452.0588, 0.5]\n",
      "Epoch  1, CIFAR-10 Batch 2:  [661.44214, 0.60000002]\n",
      "Epoch  1, CIFAR-10 Batch 3:  [416.18301, 0.57499999]\n",
      "Epoch  1, CIFAR-10 Batch 4:  [255.5937, 0.55000001]\n",
      "Epoch  1, CIFAR-10 Batch 5:  [256.59097, 0.52499998]\n",
      "Epoch  2, CIFAR-10 Batch 1:  [268.29767, 0.57499999]\n",
      "Epoch  2, CIFAR-10 Batch 2:  [184.72871, 0.64999998]\n",
      "Epoch  2, CIFAR-10 Batch 3:  [129.47456, 0.72500002]\n",
      "Epoch  2, CIFAR-10 Batch 4:  [111.91563, 0.64999998]\n",
      "Epoch  2, CIFAR-10 Batch 5:  [80.4412, 0.60000002]\n",
      "Epoch  3, CIFAR-10 Batch 1:  [129.91058, 0.64999998]\n",
      "Epoch  3, CIFAR-10 Batch 2:  [55.24807, 0.67500001]\n",
      "Epoch  3, CIFAR-10 Batch 3:  [51.160316, 0.75]\n",
      "Epoch  3, CIFAR-10 Batch 4:  [58.133125, 0.69999999]\n",
      "Epoch  3, CIFAR-10 Batch 5:  [23.361731, 0.69999999]\n",
      "Epoch  4, CIFAR-10 Batch 1:  [58.399456, 0.67500001]\n",
      "Epoch  4, CIFAR-10 Batch 2:  [18.31074, 0.72500002]\n",
      "Epoch  4, CIFAR-10 Batch 3:  [23.347183, 0.75]\n",
      "Epoch  4, CIFAR-10 Batch 4:  [21.663292, 0.75]\n",
      "Epoch  4, CIFAR-10 Batch 5:  [11.759304, 0.64999998]\n",
      "Epoch  5, CIFAR-10 Batch 1:  [23.738956, 0.64999998]\n",
      "Epoch  5, CIFAR-10 Batch 2:  [5.9199924, 0.82499999]\n",
      "Epoch  5, CIFAR-10 Batch 3:  [9.0563765, 0.67500001]\n",
      "Epoch  5, CIFAR-10 Batch 4:  [6.8570213, 0.69999999]\n",
      "Epoch  5, CIFAR-10 Batch 5:  [5.4724274, 0.64999998]\n",
      "Epoch  6, CIFAR-10 Batch 1:  [10.535347, 0.67500001]\n",
      "Epoch  6, CIFAR-10 Batch 2:  [2.4277349, 0.80000001]\n",
      "Epoch  6, CIFAR-10 Batch 3:  [1.712822, 0.72500002]\n",
      "Epoch  6, CIFAR-10 Batch 4:  [2.6697471, 0.69999999]\n",
      "Epoch  6, CIFAR-10 Batch 5:  [1.4727077, 0.57499999]\n",
      "Epoch  7, CIFAR-10 Batch 1:  [1.7225233, 0.67500001]\n",
      "Epoch  7, CIFAR-10 Batch 2:  [1.0682865, 0.69999999]\n",
      "Epoch  7, CIFAR-10 Batch 3:  [1.3538148, 0.69999999]\n",
      "Epoch  7, CIFAR-10 Batch 4:  [1.0125631, 0.67500001]\n",
      "Epoch  7, CIFAR-10 Batch 5:  [0.83558881, 0.77499998]\n",
      "Epoch  8, CIFAR-10 Batch 1:  [1.5183017, 0.60000002]\n",
      "Epoch  8, CIFAR-10 Batch 2:  [0.82866204, 0.82499999]\n",
      "Epoch  8, CIFAR-10 Batch 3:  [1.1368854, 0.64999998]\n",
      "Epoch  8, CIFAR-10 Batch 4:  [1.2959572, 0.625]\n",
      "Epoch  8, CIFAR-10 Batch 5:  [1.4369226, 0.64999998]\n",
      "Epoch  9, CIFAR-10 Batch 1:  [1.6311347, 0.72500002]\n",
      "Epoch  9, CIFAR-10 Batch 2:  [1.4943644, 0.67500001]\n",
      "Epoch  9, CIFAR-10 Batch 3:  [1.4126456, 0.72500002]\n",
      "Epoch  9, CIFAR-10 Batch 4:  [1.6762276, 0.60000002]\n",
      "Epoch  9, CIFAR-10 Batch 5:  [1.0078537, 0.67500001]\n",
      "Epoch 10, CIFAR-10 Batch 1:  [1.9648905, 0.69999999]\n",
      "Epoch 10, CIFAR-10 Batch 2:  [1.3219321, 0.75]\n",
      "Epoch 10, CIFAR-10 Batch 3:  [1.762521, 0.625]\n",
      "Epoch 10, CIFAR-10 Batch 4:  [1.9719975, 0.60000002]\n",
      "Epoch 10, CIFAR-10 Batch 5:  [1.1933451, 0.72500002]\n",
      "Epoch 11, CIFAR-10 Batch 1:  [1.821714, 0.67500001]\n",
      "Epoch 11, CIFAR-10 Batch 2:  [0.68536633, 0.77499998]\n",
      "Epoch 11, CIFAR-10 Batch 3:  [1.6734056, 0.72500002]\n",
      "Epoch 11, CIFAR-10 Batch 4:  [1.4249357, 0.67500001]\n",
      "Epoch 11, CIFAR-10 Batch 5:  [1.0596368, 0.72500002]\n",
      "Epoch 12, CIFAR-10 Batch 1:  [1.7174485, 0.72500002]\n",
      "Epoch 12, CIFAR-10 Batch 2:  [1.0275601, 0.82499999]\n",
      "Epoch 12, CIFAR-10 Batch 3:  [1.2978065, 0.72500002]\n",
      "Epoch 12, CIFAR-10 Batch 4:  [1.5647691, 0.60000002]\n",
      "Epoch 12, CIFAR-10 Batch 5:  [0.96383846, 0.72500002]\n",
      "Epoch 13, CIFAR-10 Batch 1:  [2.0891242, 0.64999998]\n",
      "Epoch 13, CIFAR-10 Batch 2:  [1.0182917, 0.77499998]\n",
      "Epoch 13, CIFAR-10 Batch 3:  [1.2865849, 0.72500002]\n",
      "Epoch 13, CIFAR-10 Batch 4:  [1.4379293, 0.69999999]\n",
      "Epoch 13, CIFAR-10 Batch 5:  [1.3224185, 0.64999998]\n",
      "Epoch 14, CIFAR-10 Batch 1:  [1.8571697, 0.67500001]\n",
      "Epoch 14, CIFAR-10 Batch 2:  [1.0535797, 0.80000001]\n",
      "Epoch 14, CIFAR-10 Batch 3:  [1.7181505, 0.67500001]\n",
      "Epoch 14, CIFAR-10 Batch 4:  [1.5583961, 0.625]\n",
      "Epoch 14, CIFAR-10 Batch 5:  [0.94811189, 0.69999999]\n",
      "Epoch 15, CIFAR-10 Batch 1:  [1.4908106, 0.77499998]\n",
      "Epoch 15, CIFAR-10 Batch 2:  [1.3471196, 0.72500002]\n",
      "Epoch 15, CIFAR-10 Batch 3:  [1.2780638, 0.77499998]\n",
      "Epoch 15, CIFAR-10 Batch 4:  [1.2388228, 0.77499998]\n",
      "Epoch 15, CIFAR-10 Batch 5:  [1.4776769, 0.67500001]\n",
      "Epoch 16, CIFAR-10 Batch 1:  [1.1370175, 0.75]\n",
      "Epoch 16, CIFAR-10 Batch 2:  [1.5997485, 0.80000001]\n",
      "Epoch 16, CIFAR-10 Batch 3:  [0.90027666, 0.77499998]\n",
      "Epoch 16, CIFAR-10 Batch 4:  [1.4242711, 0.77499998]\n",
      "Epoch 16, CIFAR-10 Batch 5:  [0.88285369, 0.72500002]\n",
      "Epoch 17, CIFAR-10 Batch 1:  [1.909, 0.64999998]\n",
      "Epoch 17, CIFAR-10 Batch 2:  [1.282513, 0.77499998]\n",
      "Epoch 17, CIFAR-10 Batch 3:  [1.4741329, 0.75]\n",
      "Epoch 17, CIFAR-10 Batch 4:  [1.7719845, 0.67500001]\n",
      "Epoch 17, CIFAR-10 Batch 5:  [1.0333809, 0.67500001]\n",
      "Epoch 18, CIFAR-10 Batch 1:  [1.3949156, 0.69999999]\n",
      "Epoch 18, CIFAR-10 Batch 2:  [0.74365085, 0.85000002]\n",
      "Epoch 18, CIFAR-10 Batch 3:  [1.098978, 0.80000001]\n",
      "Epoch 18, CIFAR-10 Batch 4:  [0.56619728, 0.77499998]\n",
      "Epoch 18, CIFAR-10 Batch 5:  [0.94962728, 0.72500002]\n",
      "Epoch 19, CIFAR-10 Batch 1:  [1.0261725, 0.82499999]\n",
      "Epoch 19, CIFAR-10 Batch 2:  [0.50515169, 0.82499999]\n",
      "Epoch 19, CIFAR-10 Batch 3:  [0.98928607, 0.77499998]\n",
      "Epoch 19, CIFAR-10 Batch 4:  [0.45194331, 0.85000002]\n",
      "Epoch 19, CIFAR-10 Batch 5:  [0.94529325, 0.77499998]\n",
      "Epoch 20, CIFAR-10 Batch 1:  [1.0925871, 0.72500002]\n",
      "Epoch 20, CIFAR-10 Batch 2:  [0.75206584, 0.69999999]\n",
      "Epoch 20, CIFAR-10 Batch 3:  [1.2826493, 0.69999999]\n",
      "Epoch 20, CIFAR-10 Batch 4:  [1.1068507, 0.75]\n",
      "Epoch 20, CIFAR-10 Batch 5:  [0.81382543, 0.72500002]\n",
      "Epoch 21, CIFAR-10 Batch 1:  [1.36123, 0.64999998]\n",
      "Epoch 21, CIFAR-10 Batch 2:  [0.83149034, 0.69999999]\n",
      "Epoch 21, CIFAR-10 Batch 3:  [0.75019324, 0.85000002]\n",
      "Epoch 21, CIFAR-10 Batch 4:  [0.80832213, 0.77499998]\n",
      "Epoch 21, CIFAR-10 Batch 5:  [0.94616413, 0.77499998]\n",
      "Epoch 22, CIFAR-10 Batch 1:  [0.58502275, 0.85000002]\n",
      "Epoch 22, CIFAR-10 Batch 2:  [0.77232653, 0.75]\n",
      "Epoch 22, CIFAR-10 Batch 3:  [1.0441353, 0.82499999]\n",
      "Epoch 22, CIFAR-10 Batch 4:  [0.84838599, 0.77499998]\n",
      "Epoch 22, CIFAR-10 Batch 5:  [0.59799612, 0.82499999]\n",
      "Epoch 23, CIFAR-10 Batch 1:  [0.64684474, 0.85000002]\n",
      "Epoch 23, CIFAR-10 Batch 2:  [0.59172153, 0.85000002]\n",
      "Epoch 23, CIFAR-10 Batch 3:  [0.70005238, 0.85000002]\n",
      "Epoch 23, CIFAR-10 Batch 4:  [0.71119225, 0.75]\n",
      "Epoch 23, CIFAR-10 Batch 5:  [0.5327481, 0.82499999]\n",
      "Epoch 24, CIFAR-10 Batch 1:  [1.1929219, 0.69999999]\n",
      "Epoch 24, CIFAR-10 Batch 2:  [0.36609274, 0.94999999]\n",
      "Epoch 24, CIFAR-10 Batch 3:  [0.5895648, 0.85000002]\n",
      "Epoch 24, CIFAR-10 Batch 4:  [0.62774861, 0.75]\n",
      "Epoch 24, CIFAR-10 Batch 5:  [0.72785836, 0.77499998]\n",
      "Epoch 25, CIFAR-10 Batch 1:  [0.69874889, 0.80000001]\n",
      "Epoch 25, CIFAR-10 Batch 2:  [0.4112249, 0.875]\n",
      "Epoch 25, CIFAR-10 Batch 3:  [0.64921224, 0.77499998]\n",
      "Epoch 25, CIFAR-10 Batch 4:  [0.57813758, 0.77499998]\n",
      "Epoch 25, CIFAR-10 Batch 5:  [0.62718165, 0.77499998]\n"
     ]
    }
   ],
   "source": [
    "\"\"\"\n",
    "DON'T MODIFY ANYTHING IN THIS CELL\n",
    "\"\"\"\n",
    "save_model_path = './image_classification'\n",
    "\n",
    "print('Training...')\n",
    "with tf.Session() as sess:\n",
    "    # Initializing the variables\n",
    "    sess.run(tf.global_variables_initializer())\n",
    "    \n",
    "    # Training cycle\n",
    "    for epoch in range(epochs):\n",
    "        # Loop over all batches\n",
    "        n_batches = 5\n",
    "        for batch_i in range(1, n_batches + 1):\n",
    "            for batch_features, batch_labels in helper.load_preprocess_training_batch(batch_i, batch_size):\n",
    "                train_neural_network(sess, optimizer, keep_probability, batch_features, batch_labels)\n",
    "            print('Epoch {:>2}, CIFAR-10 Batch {}:  '.format(epoch + 1, batch_i), end='')\n",
    "            print_stats(sess, batch_features, batch_labels, cost, accuracy)\n",
    "            \n",
    "    # Save Model\n",
    "    saver = tf.train.Saver()\n",
    "    save_path = saver.save(sess, save_model_path)"
   ]
  },
  {
   "cell_type": "code",
   "execution_count": 26,
   "metadata": {},
   "outputs": [
    {
     "name": "stdout",
     "output_type": "stream",
     "text": [
      "INFO:tensorflow:Restoring parameters from ./image_classification\n",
      "Testing Accuracy: 0.569620253164557\n",
      "\n"
     ]
    },
    {
     "data": {
      "image/png": "[encoded data removed]",
      "text/plain": [
       "<matplotlib.figure.Figure at 0x12932f9e8>"
      ]
     },
     "metadata": {
      "image/png": {
       "height": 319,
       "width": 355
      }
     },
     "output_type": "display_data"
    }
   ],
   "source": [
    "\"\"\"\n",
    "DON'T MODIFY ANYTHING IN THIS CELL\n",
    "\"\"\"\n",
    "%matplotlib inline\n",
    "%config InlineBackend.figure_format = 'retina'\n",
    "\n",
    "import tensorflow as tf\n",
    "import pickle\n",
    "import helper\n",
    "import random\n",
    "\n",
    "# Set batch size if not already set\n",
    "try:\n",
    "    if batch_size:\n",
    "        pass\n",
    "except NameError:\n",
    "    batch_size = 64\n",
    "\n",
    "save_model_path = './image_classification'\n",
    "n_samples = 4\n",
    "top_n_predictions = 3\n",
    "\n",
    "def test_model():\n",
    "    \"\"\"\n",
    "    Test the saved model against the test dataset\n",
    "    \"\"\"\n",
    "\n",
    "    test_features, test_labels = pickle.load(open('preprocess_test.p', mode='rb'))\n",
    "    loaded_graph = tf.Graph()\n",
    "\n",
    "    with tf.Session(graph=loaded_graph) as sess:\n",
    "        # Load model\n",
    "        loader = tf.train.import_meta_graph(save_model_path + '.meta')\n",
    "        loader.restore(sess, save_model_path)\n",
    "\n",
    "        # Get Tensors from loaded model\n",
    "        loaded_x = loaded_graph.get_tensor_by_name('x:0')\n",
    "        loaded_y = loaded_graph.get_tensor_by_name('y:0')\n",
    "        loaded_keep_prob = loaded_graph.get_tensor_by_name('keep_prob:0')\n",
    "        loaded_logits = loaded_graph.get_tensor_by_name('logits:0')\n",
    "        loaded_acc = loaded_graph.get_tensor_by_name('accuracy:0')\n",
    "        \n",
    "        # Get accuracy in batches for memory limitations\n",
    "        test_batch_acc_total = 0\n",
    "        test_batch_count = 0\n",
    "        \n",
    "        for test_feature_batch, test_label_batch in helper.batch_features_labels(test_features, test_labels, batch_size):\n",
    "            test_batch_acc_total += sess.run(\n",
    "                loaded_acc,\n",
    "                feed_dict={loaded_x: test_feature_batch, loaded_y: test_label_batch, loaded_keep_prob: 1.0})\n",
    "            test_batch_count += 1\n",
    "\n",
    "        print('Testing Accuracy: {}\\n'.format(test_batch_acc_total/test_batch_count))\n",
    "\n",
    "        # Print Random Samples\n",
    "        random_test_features, random_test_labels = tuple(zip(*random.sample(list(zip(test_features, test_labels)), n_samples)))\n",
    "        random_test_predictions = sess.run(\n",
    "            tf.nn.top_k(tf.nn.softmax(loaded_logits), top_n_predictions),\n",
    "            feed_dict={loaded_x: random_test_features, loaded_y: random_test_labels, loaded_keep_prob: 1.0})\n",
    "        helper.display_image_predictions(random_test_features, random_test_labels, random_test_predictions)\n",
    "\n",
    "\n",
    "test_model()"
   ]
  },
  {
   "cell_type": "code",
   "execution_count": null,
   "metadata": {
    "collapsed": true
   },
   "outputs": [],
   "source": []
  }
 ],
 "metadata": {
  "kernelspec": {
   "display_name": "Python 3.6 (dlnd)",
   "language": "python",
   "name": "dlnd"
  },
  "language_info": {
   "codemirror_mode": {
    "name": "ipython",
    "version": 3
   },
   "file_extension": ".py",
   "mimetype": "text/x-python",
   "name": "python",
   "nbconvert_exporter": "python",
   "pygments_lexer": "ipython3",
   "version": "3.6.1"
  }
 },
 "nbformat": 4,
 "nbformat_minor": 2
}
