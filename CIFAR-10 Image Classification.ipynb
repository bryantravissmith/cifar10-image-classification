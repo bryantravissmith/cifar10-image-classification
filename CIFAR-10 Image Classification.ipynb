{
 "cells": [
  {
   "cell_type": "markdown",
   "metadata": {
    "deletable": true,
    "editable": true
   },
   "source": [
    "# Download CIFAR-10 Dataset"
   ]
  },
  {
   "cell_type": "code",
   "execution_count": 1,
   "metadata": {
    "collapsed": false,
    "deletable": true,
    "editable": true
   },
   "outputs": [
    {
     "name": "stdout",
     "output_type": "stream",
     "text": [
      "All files found!\n"
     ]
    }
   ],
   "source": [
    "from urllib.request import urlretrieve\n",
    "from os.path import isfile, isdir\n",
    "from tqdm import tqdm\n",
    "import problem_unittests as tests\n",
    "import tarfile\n",
    "\n",
    "cifar10_dataset_folder_path = 'cifar-10-batches-py'\n",
    "\n",
    "# Use Floyd's cifar-10 dataset if present\n",
    "cifar10_location = './python.tar.gz'\n",
    "if isfile(cifar10_location):\n",
    "    tar_gz_path = cifar10_location\n",
    "else:\n",
    "    tar_gz_path = 'cifar-10-python.tar.gz'\n",
    "\n",
    "class DLProgress(tqdm):\n",
    "    last_block = 0\n",
    "\n",
    "    def hook(self, block_num=1, block_size=1, total_size=None):\n",
    "        self.total = total_size\n",
    "        self.update((block_num - self.last_block) * block_size)\n",
    "        self.last_block = block_num\n",
    "\n",
    "if not isfile(tar_gz_path):\n",
    "    with DLProgress(unit='B', unit_scale=True, miniters=1, desc='CIFAR-10 Dataset') as pbar:\n",
    "        urlretrieve(\n",
    "            'https://www.cs.toronto.edu/~kriz/cifar-10-python.tar.gz',\n",
    "            tar_gz_path,\n",
    "            pbar.hook)\n",
    "\n",
    "if not isdir(cifar10_dataset_folder_path):\n",
    "    with tarfile.open(tar_gz_path) as tar:\n",
    "        tar.extractall()\n",
    "        tar.close()\n",
    "\n",
    "\n",
    "tests.test_folder_path(cifar10_dataset_folder_path)"
   ]
  },
  {
   "cell_type": "markdown",
   "metadata": {
    "deletable": true,
    "editable": true
   },
   "source": [
    "# Explore Dataset"
   ]
  },
  {
   "cell_type": "code",
   "execution_count": 2,
   "metadata": {
    "collapsed": false,
    "deletable": true,
    "editable": true
   },
   "outputs": [
    {
     "name": "stdout",
     "output_type": "stream",
     "text": [
      "\n",
      "Stats of batch 1:\n",
      "Samples: 10000\n",
      "Label Counts: {0: 1005, 1: 974, 2: 1032, 3: 1016, 4: 999, 5: 937, 6: 1030, 7: 1001, 8: 1025, 9: 981}\n",
      "First 20 Labels: [6, 9, 9, 4, 1, 1, 2, 7, 8, 3, 4, 7, 7, 2, 9, 9, 9, 3, 2, 6]\n",
      "\n",
      "Example of Image 5:\n",
      "Image - Min Value: 0 Max Value: 252\n",
      "Image - Shape: (32, 32, 3)\n",
      "Label - Label Id: 1 Name: automobile\n"
     ]
    },
    {
     "data": {
      "image/png": "[encoded data removed]",
      "text/plain": [
       "<matplotlib.figure.Figure at 0x7f67cfe86da0>"
      ]
     },
     "metadata": {
      "image/png": {
       "height": 250,
       "width": 253
      }
     },
     "output_type": "display_data"
    }
   ],
   "source": [
    "%matplotlib inline\n",
    "%config InlineBackend.figure_format = 'retina'\n",
    "\n",
    "import helper\n",
    "import numpy as np\n",
    "\n",
    "# Explore the dataset\n",
    "batch_id = 1\n",
    "sample_id = 5\n",
    "helper.display_stats(cifar10_dataset_folder_path, batch_id, sample_id)"
   ]
  },
  {
   "cell_type": "markdown",
   "metadata": {
    "deletable": true,
    "editable": true
   },
   "source": [
    "# Normalize Images"
   ]
  },
  {
   "cell_type": "code",
   "execution_count": 3,
   "metadata": {
    "collapsed": false,
    "deletable": true,
    "editable": true
   },
   "outputs": [
    {
     "name": "stdout",
     "output_type": "stream",
     "text": [
      "Tests Passed\n"
     ]
    }
   ],
   "source": [
    "\n",
    "def normalize(x):\n",
    "    \"\"\"\n",
    "    Normalize a list of sample image data in the range of 0 to 1\n",
    "    : x: List of image data.  The image shape is (32, 32, 3)\n",
    "    : return: Numpy array of normalize data\n",
    "    \"\"\"\n",
    "    # TODO: Implement Function\n",
    "    return x/255.\n",
    "\n",
    "\n",
    "\"\"\"\n",
    "DON'T MODIFY ANYTHING IN THIS CELL THAT IS BELOW THIS LINE\n",
    "\"\"\"\n",
    "tests.test_normalize(normalize)"
   ]
  },
  {
   "cell_type": "markdown",
   "metadata": {
    "deletable": true,
    "editable": true
   },
   "source": [
    "# One-hot Encode Labels"
   ]
  },
  {
   "cell_type": "code",
   "execution_count": 4,
   "metadata": {
    "collapsed": false,
    "deletable": true,
    "editable": true
   },
   "outputs": [
    {
     "name": "stdout",
     "output_type": "stream",
     "text": [
      "Tests Passed\n"
     ]
    }
   ],
   "source": [
    "import sklearn.preprocessing\n",
    "label_binarizer = sklearn.preprocessing.LabelBinarizer()\n",
    "\n",
    "def one_hot_encode(x):\n",
    "    \"\"\"\n",
    "    One hot encode a list of sample labels. Return a one-hot encoded vector for each label.\n",
    "    : x: List of sample Labels\n",
    "    : return: Numpy array of one-hot encoded labels\n",
    "    \"\"\"\n",
    "    global label_binarizer\n",
    "    try:\n",
    "        return label_binarizer.transform(x)\n",
    "    except:\n",
    "        label_binarizer.fit(x)\n",
    "        return label_binarizer.transform(x)\n",
    "    \n",
    "\"\"\"\n",
    "DON'T MODIFY ANYTHING IN THIS CELL THAT IS BELOW THIS LINE\n",
    "\"\"\"\n",
    "tests.test_one_hot_encode(one_hot_encode)\n"
   ]
  },
  {
   "cell_type": "markdown",
   "metadata": {
    "deletable": true,
    "editable": true
   },
   "source": [
    "# Preprocess Data"
   ]
  },
  {
   "cell_type": "code",
   "execution_count": 5,
   "metadata": {
    "collapsed": true,
    "deletable": true,
    "editable": true
   },
   "outputs": [],
   "source": [
    "\"\"\"\n",
    "DON'T MODIFY ANYTHING IN THIS CELL\n",
    "\"\"\"\n",
    "# Preprocess Training, Validation, and Testing Data\n",
    "helper.preprocess_and_save_data(cifar10_dataset_folder_path, normalize, one_hot_encode)"
   ]
  },
  {
   "cell_type": "markdown",
   "metadata": {
    "deletable": true,
    "editable": true
   },
   "source": [
    "# Check Point"
   ]
  },
  {
   "cell_type": "code",
   "execution_count": 6,
   "metadata": {
    "collapsed": true,
    "deletable": true,
    "editable": true
   },
   "outputs": [],
   "source": [
    "\n",
    "\"\"\"\n",
    "DON'T MODIFY ANYTHING IN THIS CELL\n",
    "\"\"\"\n",
    "import pickle\n",
    "import problem_unittests as tests\n",
    "import helper\n",
    "\n",
    "# Load the Preprocessed Validation data\n",
    "valid_features, valid_labels = pickle.load(open('preprocess_validation.p', mode='rb'))"
   ]
  },
  {
   "cell_type": "markdown",
   "metadata": {
    "deletable": true,
    "editable": true
   },
   "source": [
    "## Inputs"
   ]
  },
  {
   "cell_type": "code",
   "execution_count": 7,
   "metadata": {
    "collapsed": false,
    "deletable": true,
    "editable": true
   },
   "outputs": [
    {
     "name": "stdout",
     "output_type": "stream",
     "text": [
      "Image Input Tests Passed.\n",
      "Label Input Tests Passed.\n",
      "Keep Prob Tests Passed.\n"
     ]
    }
   ],
   "source": [
    "import tensorflow as tf\n",
    "\n",
    "def neural_net_image_input(image_shape):\n",
    "    \"\"\"\n",
    "    Return a Tensor for a batch of image input\n",
    "    : image_shape: Shape of the images\n",
    "    : return: Tensor for image input.\n",
    "    \"\"\"\n",
    "    # TODO: Implement Function\n",
    "    return tf.placeholder(\n",
    "        tf.float32, \n",
    "        shape=[None,32, 32, 3],\n",
    "        name='x'\n",
    "    )\n",
    "\n",
    "\n",
    "def neural_net_label_input(n_classes):\n",
    "    \"\"\"\n",
    "    Return a Tensor for a batch of label input\n",
    "    : n_classes: Number of classes\n",
    "    : return: Tensor for label input.\n",
    "    \"\"\"\n",
    "    # TODO: Implement Function\n",
    "    return tf.placeholder(\n",
    "        tf.float32, \n",
    "        shape=[None, 10],\n",
    "        name='y'\n",
    "    )\n",
    "\n",
    "\n",
    "def neural_net_keep_prob_input():\n",
    "    \"\"\"\n",
    "    Return a Tensor for keep probability\n",
    "    : return: Tensor for keep probability.\n",
    "    \"\"\"\n",
    "    # TODO: Implement Function\n",
    "    return tf.placeholder(\n",
    "        tf.float32,\n",
    "        name='keep_prob'\n",
    "    )\n",
    "\n",
    "\n",
    "\"\"\"\n",
    "DON'T MODIFY ANYTHING IN THIS CELL THAT IS BELOW THIS LINE\n",
    "\"\"\"\n",
    "tf.reset_default_graph()\n",
    "tests.test_nn_image_inputs(neural_net_image_input)\n",
    "tests.test_nn_label_inputs(neural_net_label_input)\n",
    "tests.test_nn_keep_prob_inputs(neural_net_keep_prob_input)"
   ]
  },
  {
   "cell_type": "markdown",
   "metadata": {
    "deletable": true,
    "editable": true
   },
   "source": [
    "# Convolution and Max Pooling"
   ]
  },
  {
   "cell_type": "code",
   "execution_count": 8,
   "metadata": {
    "collapsed": false,
    "deletable": true,
    "editable": true,
    "scrolled": false
   },
   "outputs": [
    {
     "name": "stdout",
     "output_type": "stream",
     "text": [
      "(?, 32, 32, 5)\n",
      "Tests Passed\n"
     ]
    }
   ],
   "source": [
    "def conv2d_maxpool(x_tensor, conv_num_outputs, conv_ksize, conv_strides, pool_ksize, pool_strides):\n",
    "    \"\"\"\n",
    "    Apply convolution then max pooling to x_tensor\n",
    "    :param x_tensor: TensorFlow Tensor\n",
    "    :param conv_num_outputs: Number of outputs for the convolutional layer\n",
    "    :param conv_ksize: kernal size 2-D Tuple for the convolutional layer\n",
    "    :param conv_strides: Stride 2-D Tuple for convolution\n",
    "    :param pool_ksize: kernal size 2-D Tuple for pool\n",
    "    :param pool_strides: Stride 2-D Tuple for pool\n",
    "    : return: A tensor that represents convolution and max pooling of x_tensor\n",
    "    \"\"\"\n",
    "    print(x_tensor.shape)\n",
    "    # TODO: Implement Function\n",
    "    w = tf.Variable(tf.random_normal(\n",
    "        [conv_ksize[0], conv_ksize[1], x_tensor.shape[3].value, conv_num_outputs]\n",
    "    ))\n",
    "                    \n",
    "    b = tf.Variable(tf.zeros(conv_num_outputs))\n",
    "                    \n",
    "    conv_output = tf.nn.conv2d(\n",
    "        x_tensor,\n",
    "        w,\n",
    "        strides=[1,conv_strides[0],conv_strides[1],1],\n",
    "        padding='SAME'\n",
    "    )\n",
    "                    \n",
    "    conv_output = tf.nn.relu(tf.nn.bias_add(conv_output, b))\n",
    "         \n",
    "    pool_output = tf.nn.max_pool(\n",
    "        conv_output,\n",
    "        ksize=[1,pool_ksize[0],pool_ksize[1],1],\n",
    "        strides=[1,pool_strides[0],pool_strides[1],1],\n",
    "        padding='SAME'\n",
    "        \n",
    "    )\n",
    "    return pool_output \n",
    "\n",
    "\n",
    "\"\"\"\n",
    "DON'T MODIFY ANYTHING IN THIS CELL THAT IS BELOW THIS LINE\n",
    "\"\"\"\n",
    "tests.test_con_pool(conv2d_maxpool)"
   ]
  },
  {
   "cell_type": "markdown",
   "metadata": {
    "deletable": true,
    "editable": true
   },
   "source": [
    "## Flatten Layer\n"
   ]
  },
  {
   "cell_type": "code",
   "execution_count": 9,
   "metadata": {
    "collapsed": false,
    "deletable": true,
    "editable": true
   },
   "outputs": [
    {
     "name": "stdout",
     "output_type": "stream",
     "text": [
      "Tests Passed\n"
     ]
    }
   ],
   "source": [
    "def flatten(x_tensor):\n",
    "    \"\"\"\n",
    "    Flatten x_tensor to (Batch Size, Flattened Image Size)\n",
    "    : x_tensor: A tensor of size (Batch Size, ...), where ... are the image dimensions.\n",
    "    : return: A tensor of size (Batch Size, Flattened Image Size).\n",
    "    \"\"\"\n",
    "    # TODO: Implement Function\n",
    "    return tf.contrib.layers.flatten(x_tensor)\n",
    "\n",
    "\"\"\"\n",
    "DON'T MODIFY ANYTHING IN THIS CELL THAT IS BELOW THIS LINE\n",
    "\"\"\"\n",
    "tests.test_flatten(flatten)"
   ]
  },
  {
   "cell_type": "code",
   "execution_count": 10,
   "metadata": {
    "collapsed": false,
    "deletable": true,
    "editable": true
   },
   "outputs": [
    {
     "name": "stdout",
     "output_type": "stream",
     "text": [
      "Tests Passed\n"
     ]
    }
   ],
   "source": [
    "def fully_conn(x_tensor, num_outputs):\n",
    "    \"\"\"\n",
    "    Apply a fully connected layer to x_tensor using weight and bias\n",
    "    : x_tensor: A 2-D tensor where the first dimension is batch size.\n",
    "    : num_outputs: The number of output that the new tensor should be.\n",
    "    : return: A 2-D tensor where the second dimension is num_outputs.\n",
    "    \"\"\"\n",
    "    # TODO: Implement Function\n",
    "    return tf.layers.dense(\n",
    "        inputs=x_tensor, \n",
    "        units=num_outputs, \n",
    "        activation=tf.nn.relu,\n",
    "        trainable=True\n",
    "    )\n",
    "\n",
    "\"\"\"\n",
    "DON'T MODIFY ANYTHING IN THIS CELL THAT IS BELOW THIS LINE\n",
    "\"\"\"\n",
    "tests.test_fully_conn(fully_conn)"
   ]
  },
  {
   "cell_type": "code",
   "execution_count": 11,
   "metadata": {
    "collapsed": false,
    "deletable": true,
    "editable": true
   },
   "outputs": [
    {
     "name": "stdout",
     "output_type": "stream",
     "text": [
      "Tests Passed\n"
     ]
    }
   ],
   "source": [
    "def output(x_tensor, num_outputs):\n",
    "    \"\"\"\n",
    "    Apply a output layer to x_tensor using weight and bias\n",
    "    : x_tensor: A 2-D tensor where the first dimension is batch size.\n",
    "    : num_outputs: The number of output that the new tensor should be.\n",
    "    : return: A 2-D tensor where the second dimension is num_outputs.\n",
    "    \"\"\"\n",
    "    # TODO: Implement Function\n",
    "    return tf.layers.dense(\n",
    "        inputs=x_tensor, \n",
    "        units=num_outputs, \n",
    "        activation=None,\n",
    "        trainable=True\n",
    "    )\n",
    "\n",
    "\n",
    "\"\"\"\n",
    "DON'T MODIFY ANYTHING IN THIS CELL THAT IS BELOW THIS LINE\n",
    "\"\"\"\n",
    "tests.test_output(output)"
   ]
  },
  {
   "cell_type": "code",
   "execution_count": 12,
   "metadata": {
    "collapsed": false,
    "deletable": true,
    "editable": true
   },
   "outputs": [
    {
     "name": "stdout",
     "output_type": "stream",
     "text": [
      "(?, 32, 32, 3)\n",
      "(?, 16, 16, 64)\n",
      "(?, 32, 32, 3)\n",
      "(?, 16, 16, 64)\n",
      "Neural Network Built!\n"
     ]
    }
   ],
   "source": [
    "def conv_net(x, keep_prob):\n",
    "    \"\"\"\n",
    "    Create a convolutional neural network model\n",
    "    : x: Placeholder tensor that holds image data.\n",
    "    : keep_prob: Placeholder tensor that hold dropout keep probability.\n",
    "    : return: Tensor that represents logits\n",
    "    \"\"\"\n",
    "    # TODO: Apply 1, 2, or 3 Convolution and Max Pool layers\n",
    "    #    Play around with different number of outputs, kernel size and stride\n",
    "    # Function Definition from Above:\n",
    "    #    conv2d_maxpool(x_tensor, conv_num_outputs, conv_ksize, conv_strides, pool_ksize, pool_strides)\n",
    "    \n",
    "    layer_1 = conv2d_maxpool(x, 64,(3,3),(1,1),(2,2),(2,2))\n",
    "    layer_2 = conv2d_maxpool(layer_1, 128,(3,3),(1,1),(2,2),(2,2))\n",
    "    # TODO: Apply a Flatten Layer\n",
    "    # Function Definition from Above:\n",
    "    #   flatten(x_tensor)\n",
    "    \n",
    "    flat = flatten(layer_2)\n",
    "    flat = tf.nn.dropout(flat, keep_prob=keep_prob)\n",
    "    # TODO: Apply 1, 2, or 3 Fully Connected Layers\n",
    "    #    Play around with different number of outputs\n",
    "    # Function Definition from Above:\n",
    "    #   fully_conn(x_tensor, num_outputs)\n",
    "    \n",
    "    fc_1 = fully_conn(flat,512)\n",
    "    #fc_2 = tf.nn.dropout(fc_2, keep_prob=keep_prob)\n",
    "    \n",
    "    # TODO: Apply an Output Layer\n",
    "    #    Set this to the number of classes\n",
    "    # Function Definition from Above:\n",
    "    #   output(x_tensor, num_outputs)\n",
    "    return output(fc_1, 10)\n",
    "    \n",
    "\n",
    "\"\"\"\n",
    "DON'T MODIFY ANYTHING IN THIS CELL THAT IS BELOW THIS LINE\n",
    "\"\"\"\n",
    "\n",
    "##############################\n",
    "## Build the Neural Network ##\n",
    "##############################\n",
    "\n",
    "# Remove previous weights, bias, inputs, etc..\n",
    "tf.reset_default_graph()\n",
    "\n",
    "# Inputs\n",
    "x = neural_net_image_input((32, 32, 3))\n",
    "y = neural_net_label_input(10)\n",
    "keep_prob = neural_net_keep_prob_input()\n",
    "\n",
    "# Model\n",
    "logits = conv_net(x, keep_prob)\n",
    "\n",
    "# Name logits Tensor, so that is can be loaded from disk after training\n",
    "logits = tf.identity(logits, name='logits')\n",
    "\n",
    "# Loss and Optimizer\n",
    "cost = tf.reduce_mean(tf.nn.softmax_cross_entropy_with_logits(logits=logits, labels=y))\n",
    "optimizer = tf.train.AdamOptimizer().minimize(cost)\n",
    "\n",
    "# Accuracy\n",
    "correct_pred = tf.equal(tf.argmax(logits, 1), tf.argmax(y, 1))\n",
    "accuracy = tf.reduce_mean(tf.cast(correct_pred, tf.float32), name='accuracy')\n",
    "\n",
    "tests.test_conv_net(conv_net)"
   ]
  },
  {
   "cell_type": "code",
   "execution_count": 16,
   "metadata": {
    "collapsed": false,
    "deletable": true,
    "editable": true
   },
   "outputs": [
    {
     "name": "stdout",
     "output_type": "stream",
     "text": [
      "Tests Passed\n"
     ]
    }
   ],
   "source": [
    "def train_neural_network(session, optimizer, keep_probability, feature_batch, label_batch):\n",
    "    \"\"\"\n",
    "    Optimize the session on a batch of images and labels\n",
    "    : session: Current TensorFlow session\n",
    "    : optimizer: TensorFlow optimizer function\n",
    "    : keep_probability: keep probability\n",
    "    : feature_batch: Batch of Numpy image data\n",
    "    : label_batch: Batch of Numpy label data\n",
    "    \"\"\"\n",
    "    # TODO: Implement Function\n",
    "    session.run(optimizer, feed_dict={\n",
    "        x: feature_batch,\n",
    "        y: label_batch,\n",
    "        keep_prob: keep_probability\n",
    "    })\n",
    "\n",
    "\n",
    "\"\"\"\n",
    "DON'T MODIFY ANYTHING IN THIS CELL THAT IS BELOW THIS LINE\n",
    "\"\"\"\n",
    "tests.test_train_nn(train_neural_network)"
   ]
  },
  {
   "cell_type": "code",
   "execution_count": 17,
   "metadata": {
    "collapsed": true,
    "deletable": true,
    "editable": true
   },
   "outputs": [],
   "source": [
    "def print_stats(session, feature_batch, label_batch, cost, accuracy):\n",
    "    \"\"\"\n",
    "    Print information about loss and validation accuracy\n",
    "    : session: Current TensorFlow session\n",
    "    : feature_batch: Batch of Numpy image data\n",
    "    : label_batch: Batch of Numpy label data\n",
    "    : cost: TensorFlow cost function\n",
    "    : accuracy: TensorFlow accuracy function\n",
    "    \"\"\"\n",
    "    # TODO: Implement Function\n",
    "    global valid_features, valid_labels \n",
    "    valid_cost, valid_acc = session.run(\n",
    "        [cost, accuracy],\n",
    "        feed_dict={\n",
    "            x:valid_features,\n",
    "            y:valid_labels,\n",
    "            keep_prob:1.0\n",
    "        }\n",
    "    )\n",
    "    train_cost, train_acc = session.run(\n",
    "        [cost, accuracy],\n",
    "        feed_dict={\n",
    "            x:valid_features,\n",
    "            y:valid_labels,\n",
    "            keep_prob:1.0\n",
    "        }\n",
    "    )\n",
    "    print(\"\\n Train Cost:      {}\\n Train: Accuracy: {}\\n Validation Cost:      {}\\n Validation: Accuracy: {}\"\\\n",
    "         .format(train_cost, train_acc, valid_cost, valid_acc))"
   ]
  },
  {
   "cell_type": "code",
   "execution_count": 18,
   "metadata": {
    "collapsed": true,
    "deletable": true,
    "editable": true
   },
   "outputs": [],
   "source": [
    "# TODO: Tune Parameters\n",
    "epochs = 5\n",
    "batch_size = 128\n",
    "keep_probability = 0.6"
   ]
  },
  {
   "cell_type": "code",
   "execution_count": 19,
   "metadata": {
    "collapsed": false,
    "deletable": true,
    "editable": true
   },
   "outputs": [
    {
     "name": "stdout",
     "output_type": "stream",
     "text": [
      "Checking the Training on a Single Batch...\n",
      "Epoch  1, CIFAR-10 Batch 1:  \n",
      " Train Cost:      2.270791530609131\n",
      " Train: Accuracy: 0.1249999850988388\n",
      " Validation Cost:      2.270791530609131\n",
      " Validation: Accuracy: 0.1249999850988388\n",
      "Epoch  2, CIFAR-10 Batch 1:  \n",
      " Train Cost:      2.2518973350524902\n",
      " Train: Accuracy: 0.14139999449253082\n",
      " Validation Cost:      2.2518973350524902\n",
      " Validation: Accuracy: 0.14139999449253082\n",
      "Epoch  3, CIFAR-10 Batch 1:  \n",
      " Train Cost:      2.249610424041748\n",
      " Train: Accuracy: 0.1395999938249588\n",
      " Validation Cost:      2.249610424041748\n",
      " Validation: Accuracy: 0.1395999938249588\n",
      "Epoch  4, CIFAR-10 Batch 1:  \n",
      " Train Cost:      2.2177629470825195\n",
      " Train: Accuracy: 0.15699999034404755\n",
      " Validation Cost:      2.2177631855010986\n",
      " Validation: Accuracy: 0.15699999034404755\n",
      "Epoch  5, CIFAR-10 Batch 1:  \n",
      " Train Cost:      2.1942062377929688\n",
      " Train: Accuracy: 0.16179999709129333\n",
      " Validation Cost:      2.1942059993743896\n",
      " Validation: Accuracy: 0.16179998219013214\n"
     ]
    }
   ],
   "source": [
    "\"\"\"\n",
    "DON'T MODIFY ANYTHING IN THIS CELL\n",
    "\"\"\"\n",
    "print('Checking the Training on a Single Batch...')\n",
    "with tf.Session() as sess:\n",
    "    # Initializing the variables\n",
    "    sess.run(tf.global_variables_initializer())\n",
    "    \n",
    "    # Training cycle\n",
    "    for epoch in range(epochs):\n",
    "        batch_i = 1\n",
    "        for batch_features, batch_labels in helper.load_preprocess_training_batch(batch_i, batch_size):\n",
    "            train_neural_network(sess, optimizer, keep_probability, batch_features, batch_labels)\n",
    "        print('Epoch {:>2}, CIFAR-10 Batch {}:  '.format(epoch + 1, batch_i), end='')\n",
    "        print_stats(sess, batch_features, batch_labels, cost, accuracy)"
   ]
  },
  {
   "cell_type": "markdown",
   "metadata": {
    "deletable": true,
    "editable": true
   },
   "source": [
    "# Training"
   ]
  },
  {
   "cell_type": "code",
   "execution_count": 20,
   "metadata": {
    "collapsed": true,
    "deletable": true,
    "editable": true
   },
   "outputs": [],
   "source": [
    "# TODO: Tune Parameters\n",
    "epochs = 10\n",
    "batch_size = 128\n",
    "keep_probability = 0.9"
   ]
  },
  {
   "cell_type": "code",
   "execution_count": 21,
   "metadata": {
    "collapsed": false,
    "deletable": true,
    "editable": true,
    "scrolled": false
   },
   "outputs": [
    {
     "name": "stdout",
     "output_type": "stream",
     "text": [
      "Training...\n",
      "Epoch  1, CIFAR-10 Batch 1:  \n",
      " Train Cost:      2.7011780738830566\n",
      " Train: Accuracy: 0.26899999380111694\n",
      " Validation Cost:      2.7011780738830566\n",
      " Validation: Accuracy: 0.26899999380111694\n",
      "Epoch  1, CIFAR-10 Batch 2:  \n",
      " Train Cost:      2.140683650970459\n",
      " Train: Accuracy: 0.18439999222755432\n",
      " Validation Cost:      2.140683650970459\n",
      " Validation: Accuracy: 0.18439999222755432\n",
      "Epoch  1, CIFAR-10 Batch 3:  \n",
      " Train Cost:      2.0896661281585693\n",
      " Train: Accuracy: 0.21199998259544373\n",
      " Validation Cost:      2.0896661281585693\n",
      " Validation: Accuracy: 0.21199998259544373\n",
      "Epoch  1, CIFAR-10 Batch 4:  \n",
      " Train Cost:      2.035039186477661\n",
      " Train: Accuracy: 0.26979997754096985\n",
      " Validation Cost:      2.035039186477661\n",
      " Validation: Accuracy: 0.26979997754096985\n",
      "Epoch  1, CIFAR-10 Batch 5:  \n",
      " Train Cost:      2.116952896118164\n",
      " Train: Accuracy: 0.2491999864578247\n",
      " Validation Cost:      2.116952896118164\n",
      " Validation: Accuracy: 0.24919995665550232\n",
      "Epoch  2, CIFAR-10 Batch 1:  \n",
      " Train Cost:      1.9485911130905151\n",
      " Train: Accuracy: 0.29819998145103455\n",
      " Validation Cost:      1.9485911130905151\n",
      " Validation: Accuracy: 0.29819998145103455\n",
      "Epoch  2, CIFAR-10 Batch 2:  \n",
      " Train Cost:      1.9377120733261108\n",
      " Train: Accuracy: 0.30239999294281006\n",
      " Validation Cost:      1.9377119541168213\n",
      " Validation: Accuracy: 0.30239999294281006\n",
      "Epoch  2, CIFAR-10 Batch 3:  \n",
      " Train Cost:      1.877664566040039\n",
      " Train: Accuracy: 0.3046000003814697\n",
      " Validation Cost:      1.877664566040039\n",
      " Validation: Accuracy: 0.3046000003814697\n",
      "Epoch  2, CIFAR-10 Batch 4:  \n",
      " Train Cost:      1.8258249759674072\n",
      " Train: Accuracy: 0.3521999716758728\n",
      " Validation Cost:      1.8258247375488281\n",
      " Validation: Accuracy: 0.3521999716758728\n",
      "Epoch  2, CIFAR-10 Batch 5:  \n",
      " Train Cost:      1.7064058780670166\n",
      " Train: Accuracy: 0.3773999810218811\n",
      " Validation Cost:      1.7064058780670166\n",
      " Validation: Accuracy: 0.3773999810218811\n",
      "Epoch  3, CIFAR-10 Batch 1:  \n",
      " Train Cost:      1.7919822931289673\n",
      " Train: Accuracy: 0.3251999616622925\n",
      " Validation Cost:      1.7919822931289673\n",
      " Validation: Accuracy: 0.3251999616622925\n",
      "Epoch  3, CIFAR-10 Batch 2:  \n",
      " Train Cost:      1.699252963066101\n",
      " Train: Accuracy: 0.3961999714374542\n",
      " Validation Cost:      1.6992528438568115\n",
      " Validation: Accuracy: 0.3962000012397766\n",
      "Epoch  3, CIFAR-10 Batch 3:  \n",
      " Train Cost:      1.6924484968185425\n",
      " Train: Accuracy: 0.376800000667572\n",
      " Validation Cost:      1.6924484968185425\n",
      " Validation: Accuracy: 0.376800000667572\n",
      "Epoch  3, CIFAR-10 Batch 4:  \n",
      " Train Cost:      1.655336618423462\n",
      " Train: Accuracy: 0.3755999803543091\n",
      " Validation Cost:      1.655336618423462\n",
      " Validation: Accuracy: 0.3755999803543091\n",
      "Epoch  3, CIFAR-10 Batch 5:  \n",
      " Train Cost:      1.6933673620224\n",
      " Train: Accuracy: 0.3739999830722809\n",
      " Validation Cost:      1.6933673620224\n",
      " Validation: Accuracy: 0.3739999830722809\n",
      "Epoch  4, CIFAR-10 Batch 1:  \n",
      " Train Cost:      1.728348970413208\n",
      " Train: Accuracy: 0.3149999678134918\n",
      " Validation Cost:      1.7283490896224976\n",
      " Validation: Accuracy: 0.3149999678134918\n",
      "Epoch  4, CIFAR-10 Batch 2:  \n",
      " Train Cost:      1.599216341972351\n",
      " Train: Accuracy: 0.3792000114917755\n",
      " Validation Cost:      1.599216341972351\n",
      " Validation: Accuracy: 0.3792000114917755\n",
      "Epoch  4, CIFAR-10 Batch 3:  \n",
      " Train Cost:      1.644223928451538\n",
      " Train: Accuracy: 0.37379997968673706\n",
      " Validation Cost:      1.644223928451538\n",
      " Validation: Accuracy: 0.37379997968673706\n",
      "Epoch  4, CIFAR-10 Batch 4:  \n",
      " Train Cost:      1.596809983253479\n",
      " Train: Accuracy: 0.3744000196456909\n",
      " Validation Cost:      1.596809983253479\n",
      " Validation: Accuracy: 0.3744000196456909\n",
      "Epoch  4, CIFAR-10 Batch 5:  \n",
      " Train Cost:      1.563949465751648\n",
      " Train: Accuracy: 0.38179993629455566\n",
      " Validation Cost:      1.563949704170227\n",
      " Validation: Accuracy: 0.38179993629455566\n",
      "Epoch  5, CIFAR-10 Batch 1:  \n",
      " Train Cost:      1.5824885368347168\n",
      " Train: Accuracy: 0.39659997820854187\n",
      " Validation Cost:      1.5824885368347168\n",
      " Validation: Accuracy: 0.39659997820854187\n",
      "Epoch  5, CIFAR-10 Batch 2:  \n",
      " Train Cost:      1.5702431201934814\n",
      " Train: Accuracy: 0.3999999761581421\n",
      " Validation Cost:      1.5702431201934814\n",
      " Validation: Accuracy: 0.3999999761581421\n",
      "Epoch  5, CIFAR-10 Batch 3:  \n",
      " Train Cost:      1.5647518634796143\n",
      " Train: Accuracy: 0.37439996004104614\n",
      " Validation Cost:      1.5647519826889038\n",
      " Validation: Accuracy: 0.37439996004104614\n",
      "Epoch  5, CIFAR-10 Batch 4:  \n",
      " Train Cost:      1.5773038864135742\n",
      " Train: Accuracy: 0.3831999897956848\n",
      " Validation Cost:      1.5773038864135742\n",
      " Validation: Accuracy: 0.3831999897956848\n",
      "Epoch  5, CIFAR-10 Batch 5:  \n",
      " Train Cost:      1.5952130556106567\n",
      " Train: Accuracy: 0.39079996943473816\n",
      " Validation Cost:      1.5952131748199463\n",
      " Validation: Accuracy: 0.39079996943473816\n",
      "Epoch  6, CIFAR-10 Batch 1:  \n",
      " Train Cost:      1.5669888257980347\n",
      " Train: Accuracy: 0.37699997425079346\n",
      " Validation Cost:      1.5669887065887451\n",
      " Validation: Accuracy: 0.37700000405311584\n",
      "Epoch  6, CIFAR-10 Batch 2:  \n",
      " Train Cost:      1.5199893712997437\n",
      " Train: Accuracy: 0.4217999577522278\n",
      " Validation Cost:      1.5199893712997437\n",
      " Validation: Accuracy: 0.4217999577522278\n",
      "Epoch  6, CIFAR-10 Batch 3:  \n",
      " Train Cost:      1.565065860748291\n",
      " Train: Accuracy: 0.37880000472068787\n",
      " Validation Cost:      1.565065860748291\n",
      " Validation: Accuracy: 0.3787999749183655\n",
      "Epoch  6, CIFAR-10 Batch 4:  \n",
      " Train Cost:      1.4821580648422241\n",
      " Train: Accuracy: 0.42979997396469116\n",
      " Validation Cost:      1.4821580648422241\n",
      " Validation: Accuracy: 0.42980000376701355\n",
      "Epoch  6, CIFAR-10 Batch 5:  \n",
      " Train Cost:      1.4772915840148926\n",
      " Train: Accuracy: 0.4405999779701233\n",
      " Validation Cost:      1.4772915840148926\n",
      " Validation: Accuracy: 0.4405999779701233\n",
      "Epoch  7, CIFAR-10 Batch 1:  \n",
      " Train Cost:      1.4495084285736084\n",
      " Train: Accuracy: 0.4405999779701233\n",
      " Validation Cost:      1.4495084285736084\n",
      " Validation: Accuracy: 0.4405999779701233\n",
      "Epoch  7, CIFAR-10 Batch 2:  \n",
      " Train Cost:      1.41898512840271\n",
      " Train: Accuracy: 0.45319998264312744\n",
      " Validation Cost:      1.4189850091934204\n",
      " Validation: Accuracy: 0.45319998264312744\n",
      "Epoch  7, CIFAR-10 Batch 3:  \n",
      " Train Cost:      1.5302292108535767\n",
      " Train: Accuracy: 0.39639997482299805\n",
      " Validation Cost:      1.5302292108535767\n",
      " Validation: Accuracy: 0.39639997482299805\n",
      "Epoch  7, CIFAR-10 Batch 4:  \n",
      " Train Cost:      1.4319603443145752\n",
      " Train: Accuracy: 0.4367999732494354\n",
      " Validation Cost:      1.4319603443145752\n",
      " Validation: Accuracy: 0.4368000030517578\n",
      "Epoch  7, CIFAR-10 Batch 5:  \n",
      " Train Cost:      1.4295216798782349\n",
      " Train: Accuracy: 0.4501999616622925\n",
      " Validation Cost:      1.4295215606689453\n",
      " Validation: Accuracy: 0.4501999616622925\n",
      "Epoch  8, CIFAR-10 Batch 1:  \n",
      " Train Cost:      1.4627716541290283\n",
      " Train: Accuracy: 0.43999993801116943\n",
      " Validation Cost:      1.4627716541290283\n",
      " Validation: Accuracy: 0.4399999678134918\n",
      "Epoch  8, CIFAR-10 Batch 2:  \n",
      " Train Cost:      1.3932167291641235\n",
      " Train: Accuracy: 0.46619996428489685\n",
      " Validation Cost:      1.3932167291641235\n",
      " Validation: Accuracy: 0.46619996428489685\n",
      "Epoch  8, CIFAR-10 Batch 3:  \n",
      " Train Cost:      1.3695119619369507\n",
      " Train: Accuracy: 0.48979994654655457\n",
      " Validation Cost:      1.3695119619369507\n",
      " Validation: Accuracy: 0.48979997634887695\n",
      "Epoch  8, CIFAR-10 Batch 4:  \n",
      " Train Cost:      1.3626322746276855\n",
      " Train: Accuracy: 0.498399943113327\n",
      " Validation Cost:      1.3626322746276855\n",
      " Validation: Accuracy: 0.498399943113327\n",
      "Epoch  8, CIFAR-10 Batch 5:  \n",
      " Train Cost:      1.3882575035095215\n",
      " Train: Accuracy: 0.47979995608329773\n",
      " Validation Cost:      1.3882575035095215\n",
      " Validation: Accuracy: 0.47979995608329773\n",
      "Epoch  9, CIFAR-10 Batch 1:  \n",
      " Train Cost:      1.3772830963134766\n",
      " Train: Accuracy: 0.4697999358177185\n",
      " Validation Cost:      1.3772830963134766\n",
      " Validation: Accuracy: 0.4697999358177185\n",
      "Epoch  9, CIFAR-10 Batch 2:  \n",
      " Train Cost:      1.2936131954193115\n",
      " Train: Accuracy: 0.5161999464035034\n",
      " Validation Cost:      1.2936131954193115\n",
      " Validation: Accuracy: 0.5161999464035034\n",
      "Epoch  9, CIFAR-10 Batch 3:  \n",
      " Train Cost:      1.372956395149231\n",
      " Train: Accuracy: 0.491599977016449\n",
      " Validation Cost:      1.372956395149231\n",
      " Validation: Accuracy: 0.491599977016449\n",
      "Epoch  9, CIFAR-10 Batch 4:  \n",
      " Train Cost:      1.356484055519104\n",
      " Train: Accuracy: 0.4901999235153198\n",
      " Validation Cost:      1.356484055519104\n",
      " Validation: Accuracy: 0.4901999831199646\n",
      "Epoch  9, CIFAR-10 Batch 5:  \n",
      " Train Cost:      1.317819356918335\n",
      " Train: Accuracy: 0.5095999240875244\n",
      " Validation Cost:      1.317819356918335\n",
      " Validation: Accuracy: 0.5095999836921692\n",
      "Epoch 10, CIFAR-10 Batch 1:  \n",
      " Train Cost:      1.298388957977295\n",
      " Train: Accuracy: 0.5099999904632568\n",
      " Validation Cost:      1.298388957977295\n",
      " Validation: Accuracy: 0.5099999904632568\n",
      "Epoch 10, CIFAR-10 Batch 2:  \n",
      " Train Cost:      1.279028058052063\n",
      " Train: Accuracy: 0.5273998975753784\n",
      " Validation Cost:      1.279028058052063\n",
      " Validation: Accuracy: 0.527400016784668\n",
      "Epoch 10, CIFAR-10 Batch 3:  \n",
      " Train Cost:      1.2970515489578247\n",
      " Train: Accuracy: 0.5363999009132385\n",
      " Validation Cost:      1.2970515489578247\n",
      " Validation: Accuracy: 0.5363999605178833\n",
      "Epoch 10, CIFAR-10 Batch 4:  \n",
      " Train Cost:      1.2785183191299438\n",
      " Train: Accuracy: 0.5309999585151672\n",
      " Validation Cost:      1.2785183191299438\n",
      " Validation: Accuracy: 0.5309999585151672\n",
      "Epoch 10, CIFAR-10 Batch 5:  \n",
      " Train Cost:      1.284185767173767\n",
      " Train: Accuracy: 0.527199923992157\n",
      " Validation Cost:      1.284185767173767\n",
      " Validation: Accuracy: 0.527199923992157\n"
     ]
    }
   ],
   "source": [
    "\"\"\"\n",
    "DON'T MODIFY ANYTHING IN THIS CELL\n",
    "\"\"\"\n",
    "save_model_path = './image_classification'\n",
    "\n",
    "print('Training...')\n",
    "with tf.Session() as sess:\n",
    "    # Initializing the variables\n",
    "    sess.run(tf.global_variables_initializer())\n",
    "    \n",
    "    # Training cycle\n",
    "    for epoch in range(epochs):\n",
    "        # Loop over all batches\n",
    "        n_batches = 5\n",
    "        for batch_i in range(1, n_batches + 1):\n",
    "            for batch_features, batch_labels in helper.load_preprocess_training_batch(batch_i, batch_size):\n",
    "                train_neural_network(sess, optimizer, keep_probability, batch_features, batch_labels)\n",
    "            print('Epoch {:>2}, CIFAR-10 Batch {}:  '.format(epoch + 1, batch_i), end='')\n",
    "            print_stats(sess, batch_features, batch_labels, cost, accuracy)\n",
    "            \n",
    "    # Save Model\n",
    "    saver = tf.train.Saver()\n",
    "    save_path = saver.save(sess, save_model_path)"
   ]
  },
  {
   "cell_type": "code",
   "execution_count": 22,
   "metadata": {
    "collapsed": false,
    "deletable": true,
    "editable": true
   },
   "outputs": [
    {
     "name": "stdout",
     "output_type": "stream",
     "text": [
      "INFO:tensorflow:Restoring parameters from ./image_classification\n",
      "Testing Accuracy: 0.5243275316455697\n",
      "\n"
     ]
    },
    {
     "data": {
      "image/png": "[encoded data removed]",
      "text/plain": [
       "<matplotlib.figure.Figure at 0x7f67b41f3b00>"
      ]
     },
     "metadata": {
      "image/png": {
       "height": 319,
       "width": 355
      }
     },
     "output_type": "display_data"
    }
   ],
   "source": [
    "\"\"\"\n",
    "DON'T MODIFY ANYTHING IN THIS CELL\n",
    "\"\"\"\n",
    "%matplotlib inline\n",
    "%config InlineBackend.figure_format = 'retina'\n",
    "\n",
    "import tensorflow as tf\n",
    "import pickle\n",
    "import helper\n",
    "import random\n",
    "\n",
    "# Set batch size if not already set\n",
    "try:\n",
    "    if batch_size:\n",
    "        pass\n",
    "except NameError:\n",
    "    batch_size = 64\n",
    "\n",
    "save_model_path = './image_classification'\n",
    "n_samples = 4\n",
    "top_n_predictions = 3\n",
    "\n",
    "def test_model():\n",
    "    \"\"\"\n",
    "    Test the saved model against the test dataset\n",
    "    \"\"\"\n",
    "\n",
    "    test_features, test_labels = pickle.load(open('preprocess_test.p', mode='rb'))\n",
    "    loaded_graph = tf.Graph()\n",
    "\n",
    "    with tf.Session(graph=loaded_graph) as sess:\n",
    "        # Load model\n",
    "        loader = tf.train.import_meta_graph(save_model_path + '.meta')\n",
    "        loader.restore(sess, save_model_path)\n",
    "\n",
    "        # Get Tensors from loaded model\n",
    "        loaded_x = loaded_graph.get_tensor_by_name('x:0')\n",
    "        loaded_y = loaded_graph.get_tensor_by_name('y:0')\n",
    "        loaded_keep_prob = loaded_graph.get_tensor_by_name('keep_prob:0')\n",
    "        loaded_logits = loaded_graph.get_tensor_by_name('logits:0')\n",
    "        loaded_acc = loaded_graph.get_tensor_by_name('accuracy:0')\n",
    "        \n",
    "        # Get accuracy in batches for memory limitations\n",
    "        test_batch_acc_total = 0\n",
    "        test_batch_count = 0\n",
    "        \n",
    "        for test_feature_batch, test_label_batch in helper.batch_features_labels(test_features, test_labels, batch_size):\n",
    "            test_batch_acc_total += sess.run(\n",
    "                loaded_acc,\n",
    "                feed_dict={loaded_x: test_feature_batch, loaded_y: test_label_batch, loaded_keep_prob: 1.0})\n",
    "            test_batch_count += 1\n",
    "\n",
    "        print('Testing Accuracy: {}\\n'.format(test_batch_acc_total/test_batch_count))\n",
    "\n",
    "        # Print Random Samples\n",
    "        random_test_features, random_test_labels = tuple(zip(*random.sample(list(zip(test_features, test_labels)), n_samples)))\n",
    "        random_test_predictions = sess.run(\n",
    "            tf.nn.top_k(tf.nn.softmax(loaded_logits), top_n_predictions),\n",
    "            feed_dict={loaded_x: random_test_features, loaded_y: random_test_labels, loaded_keep_prob: 1.0})\n",
    "        helper.display_image_predictions(random_test_features, random_test_labels, random_test_predictions)\n",
    "\n",
    "\n",
    "test_model()"
   ]
  },
  {
   "cell_type": "code",
   "execution_count": null,
   "metadata": {
    "collapsed": true,
    "deletable": true,
    "editable": true
   },
   "outputs": [],
   "source": []
  }
 ],
 "metadata": {
  "kernelspec": {
   "display_name": "Python 3",
   "language": "python",
   "name": "python3"
  },
  "language_info": {
   "codemirror_mode": {
    "name": "ipython",
    "version": 3
   },
   "file_extension": ".py",
   "mimetype": "text/x-python",
   "name": "python",
   "nbconvert_exporter": "python",
   "pygments_lexer": "ipython3",
   "version": "3.5.2"
  },
  "widgets": {
   "state": {},
   "version": "1.1.2"
  }
 },
 "nbformat": 4,
 "nbformat_minor": 2
}
