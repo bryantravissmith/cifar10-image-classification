{
 "cells": [
  {
   "cell_type": "markdown",
   "metadata": {
    "deletable": true,
    "editable": true
   },
   "source": [
    "# Download CIFAR-10 Dataset"
   ]
  },
  {
   "cell_type": "code",
   "execution_count": 1,
   "metadata": {
    "collapsed": false,
    "deletable": true,
    "editable": true
   },
   "outputs": [
    {
     "name": "stdout",
     "output_type": "stream",
     "text": [
      "All files found!\n"
     ]
    }
   ],
   "source": [
    "from urllib.request import urlretrieve\n",
    "from os.path import isfile, isdir\n",
    "from tqdm import tqdm\n",
    "import problem_unittests as tests\n",
    "import tarfile\n",
    "\n",
    "cifar10_dataset_folder_path = 'cifar-10-batches-py'\n",
    "\n",
    "# Use Floyd's cifar-10 dataset if present\n",
    "cifar10_location = './python.tar.gz'\n",
    "if isfile(cifar10_location):\n",
    "    tar_gz_path = cifar10_location\n",
    "else:\n",
    "    tar_gz_path = 'cifar-10-python.tar.gz'\n",
    "\n",
    "class DLProgress(tqdm):\n",
    "    last_block = 0\n",
    "\n",
    "    def hook(self, block_num=1, block_size=1, total_size=None):\n",
    "        self.total = total_size\n",
    "        self.update((block_num - self.last_block) * block_size)\n",
    "        self.last_block = block_num\n",
    "\n",
    "if not isfile(tar_gz_path):\n",
    "    with DLProgress(unit='B', unit_scale=True, miniters=1, desc='CIFAR-10 Dataset') as pbar:\n",
    "        urlretrieve(\n",
    "            'https://www.cs.toronto.edu/~kriz/cifar-10-python.tar.gz',\n",
    "            tar_gz_path,\n",
    "            pbar.hook)\n",
    "\n",
    "if not isdir(cifar10_dataset_folder_path):\n",
    "    with tarfile.open(tar_gz_path) as tar:\n",
    "        tar.extractall()\n",
    "        tar.close()\n",
    "\n",
    "\n",
    "tests.test_folder_path(cifar10_dataset_folder_path)"
   ]
  },
  {
   "cell_type": "markdown",
   "metadata": {
    "deletable": true,
    "editable": true
   },
   "source": [
    "# Explore Dataset"
   ]
  },
  {
   "cell_type": "code",
   "execution_count": 2,
   "metadata": {
    "collapsed": false,
    "deletable": true,
    "editable": true
   },
   "outputs": [
    {
     "name": "stdout",
     "output_type": "stream",
     "text": [
      "\n",
      "Stats of batch 1:\n",
      "Samples: 10000\n",
      "Label Counts: {0: 1005, 1: 974, 2: 1032, 3: 1016, 4: 999, 5: 937, 6: 1030, 7: 1001, 8: 1025, 9: 981}\n",
      "First 20 Labels: [6, 9, 9, 4, 1, 1, 2, 7, 8, 3, 4, 7, 7, 2, 9, 9, 9, 3, 2, 6]\n",
      "\n",
      "Example of Image 5:\n",
      "Image - Min Value: 0 Max Value: 252\n",
      "Image - Shape: (32, 32, 3)\n",
      "Label - Label Id: 1 Name: automobile\n"
     ]
    },
    {
     "data": {
      "image/png": "[encoded data removed]",
      "text/plain": [
       "<matplotlib.figure.Figure at 0x7f5b72430d68>"
      ]
     },
     "metadata": {
      "image/png": {
       "height": 250,
       "width": 253
      }
     },
     "output_type": "display_data"
    }
   ],
   "source": [
    "%matplotlib inline\n",
    "%config InlineBackend.figure_format = 'retina'\n",
    "\n",
    "import helper\n",
    "import numpy as np\n",
    "\n",
    "# Explore the dataset\n",
    "batch_id = 1\n",
    "sample_id = 5\n",
    "helper.display_stats(cifar10_dataset_folder_path, batch_id, sample_id)"
   ]
  },
  {
   "cell_type": "markdown",
   "metadata": {
    "deletable": true,
    "editable": true
   },
   "source": [
    "# Normalize Images"
   ]
  },
  {
   "cell_type": "code",
   "execution_count": 3,
   "metadata": {
    "collapsed": false,
    "deletable": true,
    "editable": true
   },
   "outputs": [
    {
     "name": "stdout",
     "output_type": "stream",
     "text": [
      "Tests Passed\n"
     ]
    }
   ],
   "source": [
    "\n",
    "def normalize(x):\n",
    "    \"\"\"\n",
    "    Normalize a list of sample image data in the range of 0 to 1\n",
    "    : x: List of image data.  The image shape is (32, 32, 3)\n",
    "    : return: Numpy array of normalize data\n",
    "    \"\"\"\n",
    "    # TODO: Implement Function\n",
    "    return x/255.\n",
    "\n",
    "\n",
    "\"\"\"\n",
    "DON'T MODIFY ANYTHING IN THIS CELL THAT IS BELOW THIS LINE\n",
    "\"\"\"\n",
    "tests.test_normalize(normalize)"
   ]
  },
  {
   "cell_type": "markdown",
   "metadata": {
    "deletable": true,
    "editable": true
   },
   "source": [
    "# One-hot Encode Labels"
   ]
  },
  {
   "cell_type": "code",
   "execution_count": 4,
   "metadata": {
    "collapsed": false,
    "deletable": true,
    "editable": true
   },
   "outputs": [
    {
     "name": "stdout",
     "output_type": "stream",
     "text": [
      "Tests Passed\n"
     ]
    }
   ],
   "source": [
    "import sklearn.preprocessing\n",
    "label_binarizer = sklearn.preprocessing.LabelBinarizer()\n",
    "\n",
    "def one_hot_encode(x):\n",
    "    \"\"\"\n",
    "    One hot encode a list of sample labels. Return a one-hot encoded vector for each label.\n",
    "    : x: List of sample Labels\n",
    "    : return: Numpy array of one-hot encoded labels\n",
    "    \"\"\"\n",
    "    global label_binarizer\n",
    "    try:\n",
    "        return label_binarizer.transform(x)\n",
    "    except:\n",
    "        label_binarizer.fit(x)\n",
    "        return label_binarizer.transform(x)\n",
    "    \n",
    "\"\"\"\n",
    "DON'T MODIFY ANYTHING IN THIS CELL THAT IS BELOW THIS LINE\n",
    "\"\"\"\n",
    "tests.test_one_hot_encode(one_hot_encode)\n"
   ]
  },
  {
   "cell_type": "markdown",
   "metadata": {
    "deletable": true,
    "editable": true
   },
   "source": [
    "# Preprocess Data"
   ]
  },
  {
   "cell_type": "code",
   "execution_count": 5,
   "metadata": {
    "collapsed": true,
    "deletable": true,
    "editable": true
   },
   "outputs": [],
   "source": [
    "\"\"\"\n",
    "DON'T MODIFY ANYTHING IN THIS CELL\n",
    "\"\"\"\n",
    "# Preprocess Training, Validation, and Testing Data\n",
    "helper.preprocess_and_save_data(cifar10_dataset_folder_path, normalize, one_hot_encode)"
   ]
  },
  {
   "cell_type": "markdown",
   "metadata": {
    "deletable": true,
    "editable": true
   },
   "source": [
    "# Check Point"
   ]
  },
  {
   "cell_type": "code",
   "execution_count": 5,
   "metadata": {
    "collapsed": true,
    "deletable": true,
    "editable": true
   },
   "outputs": [],
   "source": [
    "\n",
    "\"\"\"\n",
    "DON'T MODIFY ANYTHING IN THIS CELL\n",
    "\"\"\"\n",
    "import pickle\n",
    "import problem_unittests as tests\n",
    "import helper\n",
    "\n",
    "# Load the Preprocessed Validation data\n",
    "valid_features, valid_labels = pickle.load(open('preprocess_validation.p', mode='rb'))"
   ]
  },
  {
   "cell_type": "markdown",
   "metadata": {
    "deletable": true,
    "editable": true
   },
   "source": [
    "## Inputs"
   ]
  },
  {
   "cell_type": "code",
   "execution_count": 6,
   "metadata": {
    "collapsed": false,
    "deletable": true,
    "editable": true
   },
   "outputs": [
    {
     "name": "stdout",
     "output_type": "stream",
     "text": [
      "Image Input Tests Passed.\n",
      "Label Input Tests Passed.\n",
      "Keep Prob Tests Passed.\n"
     ]
    }
   ],
   "source": [
    "import tensorflow as tf\n",
    "\n",
    "def neural_net_image_input(image_shape):\n",
    "    \"\"\"\n",
    "    Return a Tensor for a batch of image input\n",
    "    : image_shape: Shape of the images\n",
    "    : return: Tensor for image input.\n",
    "    \"\"\"\n",
    "    # TODO: Implement Function\n",
    "    return tf.placeholder(\n",
    "        tf.float32, \n",
    "        shape=[None,32, 32, 3],\n",
    "        name='x'\n",
    "    )\n",
    "\n",
    "\n",
    "def neural_net_label_input(n_classes):\n",
    "    \"\"\"\n",
    "    Return a Tensor for a batch of label input\n",
    "    : n_classes: Number of classes\n",
    "    : return: Tensor for label input.\n",
    "    \"\"\"\n",
    "    # TODO: Implement Function\n",
    "    return tf.placeholder(\n",
    "        tf.float32, \n",
    "        shape=[None, 10],\n",
    "        name='y'\n",
    "    )\n",
    "\n",
    "\n",
    "def neural_net_keep_prob_input():\n",
    "    \"\"\"\n",
    "    Return a Tensor for keep probability\n",
    "    : return: Tensor for keep probability.\n",
    "    \"\"\"\n",
    "    # TODO: Implement Function\n",
    "    return tf.placeholder(\n",
    "        tf.float32,\n",
    "        name='keep_prob'\n",
    "    )\n",
    "\n",
    "\n",
    "\"\"\"\n",
    "DON'T MODIFY ANYTHING IN THIS CELL THAT IS BELOW THIS LINE\n",
    "\"\"\"\n",
    "tf.reset_default_graph()\n",
    "tests.test_nn_image_inputs(neural_net_image_input)\n",
    "tests.test_nn_label_inputs(neural_net_label_input)\n",
    "tests.test_nn_keep_prob_inputs(neural_net_keep_prob_input)"
   ]
  },
  {
   "cell_type": "markdown",
   "metadata": {
    "deletable": true,
    "editable": true
   },
   "source": [
    "# Convolution and Max Pooling"
   ]
  },
  {
   "cell_type": "code",
   "execution_count": 7,
   "metadata": {
    "collapsed": false,
    "deletable": true,
    "editable": true,
    "scrolled": false
   },
   "outputs": [
    {
     "name": "stdout",
     "output_type": "stream",
     "text": [
      "(?, 32, 32, 5)\n",
      "Tests Passed\n"
     ]
    }
   ],
   "source": [
    "def conv2d_maxpool(x_tensor, conv_num_outputs, conv_ksize, conv_strides, pool_ksize, pool_strides):\n",
    "    \"\"\"\n",
    "    Apply convolution then max pooling to x_tensor\n",
    "    :param x_tensor: TensorFlow Tensor\n",
    "    :param conv_num_outputs: Number of outputs for the convolutional layer\n",
    "    :param conv_ksize: kernal size 2-D Tuple for the convolutional layer\n",
    "    :param conv_strides: Stride 2-D Tuple for convolution\n",
    "    :param pool_ksize: kernal size 2-D Tuple for pool\n",
    "    :param pool_strides: Stride 2-D Tuple for pool\n",
    "    : return: A tensor that represents convolution and max pooling of x_tensor\n",
    "    \"\"\"\n",
    "    print(x_tensor.shape)\n",
    "    # TODO: Implement Function\n",
    "    w = tf.Variable(tf.random_normal(\n",
    "        [conv_ksize[0], conv_ksize[1], x_tensor.shape[3].value, conv_num_outputs]\n",
    "    ))\n",
    "                    \n",
    "    b = tf.Variable(tf.zeros(conv_num_outputs))\n",
    "                    \n",
    "    conv_output = tf.nn.conv2d(\n",
    "        x_tensor,\n",
    "        w,\n",
    "        strides=[1,conv_strides[0],conv_strides[1],1],\n",
    "        padding='SAME'\n",
    "    )\n",
    "                    \n",
    "    conv_output = tf.nn.relu(tf.nn.bias_add(conv_output, b))\n",
    "         \n",
    "    pool_output = tf.nn.max_pool(\n",
    "        conv_output,\n",
    "        ksize=[1,pool_ksize[0],pool_ksize[1],1],\n",
    "        strides=[1,pool_strides[0],pool_strides[1],1],\n",
    "        padding='SAME'\n",
    "        \n",
    "    )\n",
    "    return pool_output \n",
    "\n",
    "\n",
    "\"\"\"\n",
    "DON'T MODIFY ANYTHING IN THIS CELL THAT IS BELOW THIS LINE\n",
    "\"\"\"\n",
    "tests.test_con_pool(conv2d_maxpool)"
   ]
  },
  {
   "cell_type": "markdown",
   "metadata": {
    "deletable": true,
    "editable": true
   },
   "source": [
    "## Flatten Layer\n"
   ]
  },
  {
   "cell_type": "code",
   "execution_count": 8,
   "metadata": {
    "collapsed": false,
    "deletable": true,
    "editable": true
   },
   "outputs": [
    {
     "name": "stdout",
     "output_type": "stream",
     "text": [
      "Tests Passed\n"
     ]
    }
   ],
   "source": [
    "def flatten(x_tensor):\n",
    "    \"\"\"\n",
    "    Flatten x_tensor to (Batch Size, Flattened Image Size)\n",
    "    : x_tensor: A tensor of size (Batch Size, ...), where ... are the image dimensions.\n",
    "    : return: A tensor of size (Batch Size, Flattened Image Size).\n",
    "    \"\"\"\n",
    "    # TODO: Implement Function\n",
    "    return tf.contrib.layers.flatten(x_tensor)\n",
    "\n",
    "\"\"\"\n",
    "DON'T MODIFY ANYTHING IN THIS CELL THAT IS BELOW THIS LINE\n",
    "\"\"\"\n",
    "tests.test_flatten(flatten)"
   ]
  },
  {
   "cell_type": "code",
   "execution_count": 43,
   "metadata": {
    "collapsed": false,
    "deletable": true,
    "editable": true
   },
   "outputs": [
    {
     "name": "stdout",
     "output_type": "stream",
     "text": [
      "Tests Passed\n"
     ]
    }
   ],
   "source": [
    "def fully_conn(x_tensor, num_outputs):\n",
    "    \"\"\"\n",
    "    Apply a fully connected layer to x_tensor using weight and bias\n",
    "    : x_tensor: A 2-D tensor where the first dimension is batch size.\n",
    "    : num_outputs: The number of output that the new tensor should be.\n",
    "    : return: A 2-D tensor where the second dimension is num_outputs.\n",
    "    \"\"\"\n",
    "    # TODO: Implement Function\n",
    "    return tf.layers.dense(\n",
    "        inputs=x_tensor, \n",
    "        units=num_outputs, \n",
    "        activation=tf.nn.relu,\n",
    "        trainable=True\n",
    "    )\n",
    "\n",
    "\"\"\"\n",
    "DON'T MODIFY ANYTHING IN THIS CELL THAT IS BELOW THIS LINE\n",
    "\"\"\"\n",
    "tests.test_fully_conn(fully_conn)"
   ]
  },
  {
   "cell_type": "code",
   "execution_count": 44,
   "metadata": {
    "collapsed": false,
    "deletable": true,
    "editable": true
   },
   "outputs": [
    {
     "name": "stdout",
     "output_type": "stream",
     "text": [
      "Tests Passed\n"
     ]
    }
   ],
   "source": [
    "def output(x_tensor, num_outputs):\n",
    "    \"\"\"\n",
    "    Apply a output layer to x_tensor using weight and bias\n",
    "    : x_tensor: A 2-D tensor where the first dimension is batch size.\n",
    "    : num_outputs: The number of output that the new tensor should be.\n",
    "    : return: A 2-D tensor where the second dimension is num_outputs.\n",
    "    \"\"\"\n",
    "    # TODO: Implement Function\n",
    "    return tf.layers.dense(\n",
    "        inputs=x_tensor, \n",
    "        units=num_outputs, \n",
    "        activation=None,\n",
    "        trainable=True\n",
    "    )\n",
    "\n",
    "\n",
    "\"\"\"\n",
    "DON'T MODIFY ANYTHING IN THIS CELL THAT IS BELOW THIS LINE\n",
    "\"\"\"\n",
    "tests.test_output(output)"
   ]
  },
  {
   "cell_type": "code",
   "execution_count": 75,
   "metadata": {
    "collapsed": false,
    "deletable": true,
    "editable": true
   },
   "outputs": [
    {
     "name": "stdout",
     "output_type": "stream",
     "text": [
      "(?, 32, 32, 3)\n",
      "(?, 16, 16, 64)\n",
      "(?, 32, 32, 3)\n",
      "(?, 16, 16, 64)\n",
      "Neural Network Built!\n"
     ]
    }
   ],
   "source": [
    "def conv_net(x, keep_prob):\n",
    "    \"\"\"\n",
    "    Create a convolutional neural network model\n",
    "    : x: Placeholder tensor that holds image data.\n",
    "    : keep_prob: Placeholder tensor that hold dropout keep probability.\n",
    "    : return: Tensor that represents logits\n",
    "    \"\"\"\n",
    "    # TODO: Apply 1, 2, or 3 Convolution and Max Pool layers\n",
    "    #    Play around with different number of outputs, kernel size and stride\n",
    "    # Function Definition from Above:\n",
    "    #    conv2d_maxpool(x_tensor, conv_num_outputs, conv_ksize, conv_strides, pool_ksize, pool_strides)\n",
    "    \n",
    "    layer_1 = conv2d_maxpool(x, 64,(3,3),(1,1),(2,2),(2,2))\n",
    "    layer_2 = conv2d_maxpool(layer_1, 128,(3,3),(1,1),(2,2),(2,2))\n",
    "    # TODO: Apply a Flatten Layer\n",
    "    # Function Definition from Above:\n",
    "    #   flatten(x_tensor)\n",
    "    \n",
    "    flat = flatten(layer_2)\n",
    "    flat = tf.nn.dropout(flat, keep_prob=keep_prob)\n",
    "    # TODO: Apply 1, 2, or 3 Fully Connected Layers\n",
    "    #    Play around with different number of outputs\n",
    "    # Function Definition from Above:\n",
    "    #   fully_conn(x_tensor, num_outputs)\n",
    "    \n",
    "    fc_1 = fully_conn(flat,512)\n",
    "    #fc_2 = tf.nn.dropout(fc_2, keep_prob=keep_prob)\n",
    "    \n",
    "    # TODO: Apply an Output Layer\n",
    "    #    Set this to the number of classes\n",
    "    # Function Definition from Above:\n",
    "    #   output(x_tensor, num_outputs)\n",
    "    return output(fc_1, 10)\n",
    "    \n",
    "\n",
    "\"\"\"\n",
    "DON'T MODIFY ANYTHING IN THIS CELL THAT IS BELOW THIS LINE\n",
    "\"\"\"\n",
    "\n",
    "##############################\n",
    "## Build the Neural Network ##\n",
    "##############################\n",
    "\n",
    "# Remove previous weights, bias, inputs, etc..\n",
    "tf.reset_default_graph()\n",
    "\n",
    "# Inputs\n",
    "x = neural_net_image_input((32, 32, 3))\n",
    "y = neural_net_label_input(10)\n",
    "keep_prob = neural_net_keep_prob_input()\n",
    "\n",
    "# Model\n",
    "logits = conv_net(x, keep_prob)\n",
    "\n",
    "# Name logits Tensor, so that is can be loaded from disk after training\n",
    "logits = tf.identity(logits, name='logits')\n",
    "\n",
    "# Loss and Optimizer\n",
    "cost = tf.reduce_mean(tf.nn.softmax_cross_entropy_with_logits(logits=logits, labels=y))\n",
    "optimizer = tf.train.AdamOptimizer().minimize(cost)\n",
    "\n",
    "# Accuracy\n",
    "correct_pred = tf.equal(tf.argmax(logits, 1), tf.argmax(y, 1))\n",
    "accuracy = tf.reduce_mean(tf.cast(correct_pred, tf.float32), name='accuracy')\n",
    "\n",
    "tests.test_conv_net(conv_net)"
   ]
  },
  {
   "cell_type": "code",
   "execution_count": 76,
   "metadata": {
    "collapsed": false,
    "deletable": true,
    "editable": true
   },
   "outputs": [
    {
     "name": "stdout",
     "output_type": "stream",
     "text": [
      "Tests Passed\n"
     ]
    }
   ],
   "source": [
    "def train_neural_network(session, optimizer, keep_probability, feature_batch, label_batch):\n",
    "    \"\"\"\n",
    "    Optimize the session on a batch of images and labels\n",
    "    : session: Current TensorFlow session\n",
    "    : optimizer: TensorFlow optimizer function\n",
    "    : keep_probability: keep probability\n",
    "    : feature_batch: Batch of Numpy image data\n",
    "    : label_batch: Batch of Numpy label data\n",
    "    \"\"\"\n",
    "    # TODO: Implement Function\n",
    "    session.run(optimizer, feed_dict={\n",
    "        x: feature_batch,\n",
    "        y: label_batch,\n",
    "        keep_prob: keep_probability\n",
    "    })\n",
    "\n",
    "\n",
    "\"\"\"\n",
    "DON'T MODIFY ANYTHING IN THIS CELL THAT IS BELOW THIS LINE\n",
    "\"\"\"\n",
    "tests.test_train_nn(train_neural_network)"
   ]
  },
  {
   "cell_type": "code",
   "execution_count": 77,
   "metadata": {
    "collapsed": true,
    "deletable": true,
    "editable": true
   },
   "outputs": [],
   "source": [
    "def print_stats(session, feature_batch, label_batch, cost, accuracy):\n",
    "    \"\"\"\n",
    "    Print information about loss and validation accuracy\n",
    "    : session: Current TensorFlow session\n",
    "    : feature_batch: Batch of Numpy image data\n",
    "    : label_batch: Batch of Numpy label data\n",
    "    : cost: TensorFlow cost function\n",
    "    : accuracy: TensorFlow accuracy function\n",
    "    \"\"\"\n",
    "    # TODO: Implement Function\n",
    "    global valid_features, valid_labels \n",
    "    valid_cost, valid_acc = session.run(\n",
    "        [cost, accuracy],\n",
    "        feed_dict={\n",
    "            x:valid_features,\n",
    "            y:valid_labels,\n",
    "            keep_prob:1.0\n",
    "        }\n",
    "    )\n",
    "    print(\"\\n Validation Cost:      {}\\n Validation: Accuracy: {}\"\\\n",
    "         .format(valid_cost, valid_acc))"
   ]
  },
  {
   "cell_type": "code",
   "execution_count": 80,
   "metadata": {
    "collapsed": true,
    "deletable": true,
    "editable": true
   },
   "outputs": [],
   "source": [
    "# TODO: Tune Parameters\n",
    "epochs = 5\n",
    "batch_size = 128\n",
    "keep_probability = 0.6"
   ]
  },
  {
   "cell_type": "code",
   "execution_count": 81,
   "metadata": {
    "collapsed": false,
    "deletable": true,
    "editable": true
   },
   "outputs": [
    {
     "name": "stdout",
     "output_type": "stream",
     "text": [
      "Checking the Training on a Single Batch...\n",
      "Epoch  1, CIFAR-10 Batch 1:  \n",
      " Validation Cost:      2.295245409011841\n",
      " Validation: Accuracy: 0.1096000000834465\n",
      "Epoch  2, CIFAR-10 Batch 1:  \n",
      " Validation Cost:      2.277247428894043\n",
      " Validation: Accuracy: 0.12380000948905945\n",
      "Epoch  3, CIFAR-10 Batch 1:  \n",
      " Validation Cost:      2.2710072994232178\n",
      " Validation: Accuracy: 0.12299999594688416\n",
      "Epoch  4, CIFAR-10 Batch 1:  \n",
      " Validation Cost:      2.1929214000701904\n",
      " Validation: Accuracy: 0.15439999103546143\n",
      "Epoch  5, CIFAR-10 Batch 1:  \n",
      " Validation Cost:      2.1955366134643555\n",
      " Validation: Accuracy: 0.15059998631477356\n"
     ]
    }
   ],
   "source": [
    "\"\"\"\n",
    "DON'T MODIFY ANYTHING IN THIS CELL\n",
    "\"\"\"\n",
    "print('Checking the Training on a Single Batch...')\n",
    "with tf.Session() as sess:\n",
    "    # Initializing the variables\n",
    "    sess.run(tf.global_variables_initializer())\n",
    "    \n",
    "    # Training cycle\n",
    "    for epoch in range(epochs):\n",
    "        batch_i = 1\n",
    "        for batch_features, batch_labels in helper.load_preprocess_training_batch(batch_i, batch_size):\n",
    "            train_neural_network(sess, optimizer, keep_probability, batch_features, batch_labels)\n",
    "        print('Epoch {:>2}, CIFAR-10 Batch {}:  '.format(epoch + 1, batch_i), end='')\n",
    "        print_stats(sess, batch_features, batch_labels, cost, accuracy)"
   ]
  },
  {
   "cell_type": "markdown",
   "metadata": {
    "deletable": true,
    "editable": true
   },
   "source": [
    "# Training"
   ]
  },
  {
   "cell_type": "code",
   "execution_count": 84,
   "metadata": {
    "collapsed": true,
    "deletable": true,
    "editable": true
   },
   "outputs": [],
   "source": [
    "# TODO: Tune Parameters\n",
    "epochs = 30\n",
    "batch_size = 128\n",
    "keep_probability = 0.9"
   ]
  },
  {
   "cell_type": "code",
   "execution_count": 85,
   "metadata": {
    "collapsed": false,
    "deletable": true,
    "editable": true,
    "scrolled": false
   },
   "outputs": [
    {
     "name": "stdout",
     "output_type": "stream",
     "text": [
      "Training...\n",
      "Epoch  1, CIFAR-10 Batch 1:  \n",
      " Validation Cost:      5.1372270584106445\n",
      " Validation: Accuracy: 0.26019999384880066\n",
      "Epoch  1, CIFAR-10 Batch 2:  \n",
      " Validation Cost:      3.5451951026916504\n",
      " Validation: Accuracy: 0.329399973154068\n",
      "Epoch  1, CIFAR-10 Batch 3:  \n",
      " Validation Cost:      2.7109484672546387\n",
      " Validation: Accuracy: 0.4155999720096588\n",
      "Epoch  1, CIFAR-10 Batch 4:  \n",
      " Validation Cost:      3.313610076904297\n",
      " Validation: Accuracy: 0.34200000762939453\n",
      "Epoch  1, CIFAR-10 Batch 5:  \n",
      " Validation Cost:      2.248711109161377\n",
      " Validation: Accuracy: 0.43139997124671936\n",
      "Epoch  2, CIFAR-10 Batch 1:  \n",
      " Validation Cost:      2.1625211238861084\n",
      " Validation: Accuracy: 0.4471999704837799\n",
      "Epoch  2, CIFAR-10 Batch 2:  \n",
      " Validation Cost:      2.098912000656128\n",
      " Validation: Accuracy: 0.4431999921798706\n",
      "Epoch  2, CIFAR-10 Batch 3:  \n",
      " Validation Cost:      1.6476213932037354\n",
      " Validation: Accuracy: 0.4923999309539795\n",
      "Epoch  2, CIFAR-10 Batch 4:  \n",
      " Validation Cost:      1.6921415328979492\n",
      " Validation: Accuracy: 0.4809999465942383\n",
      "Epoch  2, CIFAR-10 Batch 5:  \n",
      " Validation Cost:      1.656511664390564\n",
      " Validation: Accuracy: 0.4869999587535858\n",
      "Epoch  3, CIFAR-10 Batch 1:  \n",
      " Validation Cost:      1.5365018844604492\n",
      " Validation: Accuracy: 0.4821999669075012\n",
      "Epoch  3, CIFAR-10 Batch 2:  \n",
      " Validation Cost:      1.6919432878494263\n",
      " Validation: Accuracy: 0.433199942111969\n",
      "Epoch  3, CIFAR-10 Batch 3:  \n",
      " Validation Cost:      1.4444245100021362\n",
      " Validation: Accuracy: 0.507599949836731\n",
      "Epoch  3, CIFAR-10 Batch 4:  \n",
      " Validation Cost:      1.4954313039779663\n",
      " Validation: Accuracy: 0.4877999424934387\n",
      "Epoch  3, CIFAR-10 Batch 5:  \n",
      " Validation Cost:      1.5151821374893188\n",
      " Validation: Accuracy: 0.49779996275901794\n",
      "Epoch  4, CIFAR-10 Batch 1:  \n",
      " Validation Cost:      1.4000117778778076\n",
      " Validation: Accuracy: 0.5283999443054199\n",
      "Epoch  4, CIFAR-10 Batch 2:  \n",
      " Validation Cost:      1.4254664182662964\n",
      " Validation: Accuracy: 0.5121999382972717\n",
      "Epoch  4, CIFAR-10 Batch 3:  \n",
      " Validation Cost:      1.3629131317138672\n",
      " Validation: Accuracy: 0.5295999050140381\n",
      "Epoch  4, CIFAR-10 Batch 4:  \n",
      " Validation Cost:      1.3169503211975098\n",
      " Validation: Accuracy: 0.5463999509811401\n",
      "Epoch  4, CIFAR-10 Batch 5:  \n",
      " Validation Cost:      1.3317363262176514\n",
      " Validation: Accuracy: 0.5463999509811401\n",
      "Epoch  5, CIFAR-10 Batch 1:  \n",
      " Validation Cost:      1.3374485969543457\n",
      " Validation: Accuracy: 0.5461999177932739\n",
      "Epoch  5, CIFAR-10 Batch 2:  \n",
      " Validation Cost:      1.4337841272354126\n",
      " Validation: Accuracy: 0.5073999166488647\n",
      "Epoch  5, CIFAR-10 Batch 3:  \n",
      " Validation Cost:      1.2765319347381592\n",
      " Validation: Accuracy: 0.556999921798706\n",
      "Epoch  5, CIFAR-10 Batch 4:  \n",
      " Validation Cost:      1.2450897693634033\n",
      " Validation: Accuracy: 0.58079993724823\n",
      "Epoch  5, CIFAR-10 Batch 5:  \n",
      " Validation Cost:      1.287980556488037\n",
      " Validation: Accuracy: 0.5655999183654785\n",
      "Epoch  6, CIFAR-10 Batch 1:  \n",
      " Validation Cost:      1.248887300491333\n",
      " Validation: Accuracy: 0.5741999745368958\n",
      "Epoch  6, CIFAR-10 Batch 2:  \n",
      " Validation Cost:      1.268880844116211\n",
      " Validation: Accuracy: 0.558199942111969\n",
      "Epoch  6, CIFAR-10 Batch 3:  \n",
      " Validation Cost:      1.2502493858337402\n",
      " Validation: Accuracy: 0.5631999969482422\n",
      "Epoch  6, CIFAR-10 Batch 4:  \n",
      " Validation Cost:      1.2131261825561523\n",
      " Validation: Accuracy: 0.5757998824119568\n",
      "Epoch  6, CIFAR-10 Batch 5:  \n",
      " Validation Cost:      1.2017476558685303\n",
      " Validation: Accuracy: 0.5897998809814453\n",
      "Epoch  7, CIFAR-10 Batch 1:  \n",
      " Validation Cost:      1.2430118322372437\n",
      " Validation: Accuracy: 0.5759999752044678\n",
      "Epoch  7, CIFAR-10 Batch 2:  \n",
      " Validation Cost:      1.198695421218872\n",
      " Validation: Accuracy: 0.5827999114990234\n",
      "Epoch  7, CIFAR-10 Batch 3:  \n",
      " Validation Cost:      1.153574824333191\n",
      " Validation: Accuracy: 0.5991998910903931\n",
      "Epoch  7, CIFAR-10 Batch 4:  \n",
      " Validation Cost:      1.1622649431228638\n",
      " Validation: Accuracy: 0.595599889755249\n",
      "Epoch  7, CIFAR-10 Batch 5:  \n",
      " Validation Cost:      1.15463387966156\n",
      " Validation: Accuracy: 0.6005998849868774\n",
      "Epoch  8, CIFAR-10 Batch 1:  \n",
      " Validation Cost:      1.3101019859313965\n",
      " Validation: Accuracy: 0.5729998350143433\n",
      "Epoch  8, CIFAR-10 Batch 2:  \n",
      " Validation Cost:      1.1787207126617432\n",
      " Validation: Accuracy: 0.6027998924255371\n",
      "Epoch  8, CIFAR-10 Batch 3:  \n",
      " Validation Cost:      1.136840581893921\n",
      " Validation: Accuracy: 0.6139998435974121\n",
      "Epoch  8, CIFAR-10 Batch 4:  \n",
      " Validation Cost:      1.1576707363128662\n",
      " Validation: Accuracy: 0.6067999601364136\n",
      "Epoch  8, CIFAR-10 Batch 5:  \n",
      " Validation Cost:      1.182397484779358\n",
      " Validation: Accuracy: 0.5859999656677246\n",
      "Epoch  9, CIFAR-10 Batch 1:  \n",
      " Validation Cost:      1.1985595226287842\n",
      " Validation: Accuracy: 0.5997998714447021\n",
      "Epoch  9, CIFAR-10 Batch 2:  \n",
      " Validation Cost:      1.1315972805023193\n",
      " Validation: Accuracy: 0.6141998767852783\n",
      "Epoch  9, CIFAR-10 Batch 3:  \n",
      " Validation Cost:      1.117723822593689\n",
      " Validation: Accuracy: 0.626599907875061\n",
      "Epoch  9, CIFAR-10 Batch 4:  \n",
      " Validation Cost:      1.1373181343078613\n",
      " Validation: Accuracy: 0.615199863910675\n",
      "Epoch  9, CIFAR-10 Batch 5:  \n",
      " Validation Cost:      1.1412811279296875\n",
      " Validation: Accuracy: 0.6153998374938965\n",
      "Epoch 10, CIFAR-10 Batch 1:  \n",
      " Validation Cost:      1.1511136293411255\n",
      " Validation: Accuracy: 0.6141999363899231\n",
      "Epoch 10, CIFAR-10 Batch 2:  \n",
      " Validation Cost:      1.1265286207199097\n",
      " Validation: Accuracy: 0.6255999207496643\n",
      "Epoch 10, CIFAR-10 Batch 3:  \n",
      " Validation Cost:      1.102048635482788\n",
      " Validation: Accuracy: 0.6287999153137207\n",
      "Epoch 10, CIFAR-10 Batch 4:  \n",
      " Validation Cost:      1.1302484273910522\n",
      " Validation: Accuracy: 0.6205998659133911\n",
      "Epoch 10, CIFAR-10 Batch 5:  \n",
      " Validation Cost:      1.1344138383865356\n",
      " Validation: Accuracy: 0.622999906539917\n",
      "Epoch 11, CIFAR-10 Batch 1:  \n",
      " Validation Cost:      1.1605029106140137\n",
      " Validation: Accuracy: 0.6165999174118042\n",
      "Epoch 11, CIFAR-10 Batch 2:  \n",
      " Validation Cost:      1.1259734630584717\n",
      " Validation: Accuracy: 0.6281999349594116\n",
      "Epoch 11, CIFAR-10 Batch 3:  \n",
      " Validation Cost:      1.1082547903060913\n",
      " Validation: Accuracy: 0.6351999044418335\n",
      "Epoch 11, CIFAR-10 Batch 4:  \n",
      " Validation Cost:      1.1802966594696045\n",
      " Validation: Accuracy: 0.6105998754501343\n",
      "Epoch 11, CIFAR-10 Batch 5:  \n",
      " Validation Cost:      1.1347215175628662\n",
      " Validation: Accuracy: 0.6177999973297119\n",
      "Epoch 12, CIFAR-10 Batch 1:  \n",
      " Validation Cost:      1.0906935930252075\n",
      " Validation: Accuracy: 0.6409998536109924\n",
      "Epoch 12, CIFAR-10 Batch 2:  \n",
      " Validation Cost:      1.2113724946975708\n",
      " Validation: Accuracy: 0.6089999079704285\n",
      "Epoch 12, CIFAR-10 Batch 3:  \n",
      " Validation Cost:      1.1291863918304443\n",
      " Validation: Accuracy: 0.6321998834609985\n",
      "Epoch 12, CIFAR-10 Batch 4:  \n",
      " Validation Cost:      1.1630308628082275\n",
      " Validation: Accuracy: 0.6255999207496643\n",
      "Epoch 12, CIFAR-10 Batch 5:  \n",
      " Validation Cost:      1.1664990186691284\n",
      " Validation: Accuracy: 0.6241998672485352\n",
      "Epoch 13, CIFAR-10 Batch 1:  \n",
      " Validation Cost:      1.095273733139038\n",
      " Validation: Accuracy: 0.644399881362915\n",
      "Epoch 13, CIFAR-10 Batch 2:  \n",
      " Validation Cost:      1.187546968460083\n",
      " Validation: Accuracy: 0.6097999215126038\n",
      "Epoch 13, CIFAR-10 Batch 3:  \n",
      " Validation Cost:      1.1177538633346558\n",
      " Validation: Accuracy: 0.6363998651504517\n",
      "Epoch 13, CIFAR-10 Batch 4:  \n",
      " Validation Cost:      1.171940565109253\n",
      " Validation: Accuracy: 0.6197998523712158\n",
      "Epoch 13, CIFAR-10 Batch 5:  \n",
      " Validation Cost:      1.2169269323349\n",
      " Validation: Accuracy: 0.6109999418258667\n",
      "Epoch 14, CIFAR-10 Batch 1:  \n",
      " Validation Cost:      1.1295050382614136\n",
      " Validation: Accuracy: 0.6403999328613281\n",
      "Epoch 14, CIFAR-10 Batch 2:  \n",
      " Validation Cost:      1.2093162536621094\n",
      " Validation: Accuracy: 0.6109999418258667\n",
      "Epoch 14, CIFAR-10 Batch 3:  \n",
      " Validation Cost:      1.1599011421203613\n",
      " Validation: Accuracy: 0.6297999024391174\n",
      "Epoch 14, CIFAR-10 Batch 4:  \n",
      " Validation Cost:      1.1515141725540161\n",
      " Validation: Accuracy: 0.6203999519348145\n",
      "Epoch 14, CIFAR-10 Batch 5:  \n",
      " Validation Cost:      1.1904901266098022\n",
      " Validation: Accuracy: 0.6263998746871948\n",
      "Epoch 15, CIFAR-10 Batch 1:  \n",
      " Validation Cost:      1.156200885772705\n",
      " Validation: Accuracy: 0.6419998407363892\n",
      "Epoch 15, CIFAR-10 Batch 2:  \n",
      " Validation Cost:      1.1714558601379395\n",
      " Validation: Accuracy: 0.624799907207489\n",
      "Epoch 15, CIFAR-10 Batch 3:  \n",
      " Validation Cost:      1.1439764499664307\n",
      " Validation: Accuracy: 0.6395999193191528\n",
      "Epoch 15, CIFAR-10 Batch 4:  \n",
      " Validation Cost:      1.1751986742019653\n",
      " Validation: Accuracy: 0.6251999139785767\n",
      "Epoch 15, CIFAR-10 Batch 5:  \n",
      " Validation Cost:      1.184011459350586\n",
      " Validation: Accuracy: 0.6321998238563538\n",
      "Epoch 16, CIFAR-10 Batch 1:  \n",
      " Validation Cost:      1.1693553924560547\n",
      " Validation: Accuracy: 0.6401998400688171\n",
      "Epoch 16, CIFAR-10 Batch 2:  \n",
      " Validation Cost:      1.1892355680465698\n",
      " Validation: Accuracy: 0.6255998611450195\n",
      "Epoch 16, CIFAR-10 Batch 3:  \n",
      " Validation Cost:      1.167029857635498\n",
      " Validation: Accuracy: 0.6403998732566833\n",
      "Epoch 16, CIFAR-10 Batch 4:  \n",
      " Validation Cost:      1.1937038898468018\n",
      " Validation: Accuracy: 0.6255998611450195\n",
      "Epoch 16, CIFAR-10 Batch 5:  \n",
      " Validation Cost:      1.1711002588272095\n",
      " Validation: Accuracy: 0.6339998841285706\n",
      "Epoch 17, CIFAR-10 Batch 1:  \n",
      " Validation Cost:      1.2601404190063477\n",
      " Validation: Accuracy: 0.6293998956680298\n",
      "Epoch 17, CIFAR-10 Batch 2:  \n",
      " Validation Cost:      1.1798862218856812\n",
      " Validation: Accuracy: 0.63319993019104\n",
      "Epoch 17, CIFAR-10 Batch 3:  \n",
      " Validation Cost:      1.1586300134658813\n",
      " Validation: Accuracy: 0.6459999084472656\n",
      "Epoch 17, CIFAR-10 Batch 4:  \n",
      " Validation Cost:      1.1837937831878662\n",
      " Validation: Accuracy: 0.6369999051094055\n",
      "Epoch 17, CIFAR-10 Batch 5:  \n",
      " Validation Cost:      1.2306872606277466\n",
      " Validation: Accuracy: 0.6339998841285706\n",
      "Epoch 18, CIFAR-10 Batch 1:  \n",
      " Validation Cost:      1.2365671396255493\n",
      " Validation: Accuracy: 0.6401998400688171\n",
      "Epoch 18, CIFAR-10 Batch 2:  \n",
      " Validation Cost:      1.2074240446090698\n",
      " Validation: Accuracy: 0.6327998638153076\n",
      "Epoch 18, CIFAR-10 Batch 3:  \n",
      " Validation Cost:      1.2198569774627686\n",
      " Validation: Accuracy: 0.6401998996734619\n",
      "Epoch 18, CIFAR-10 Batch 4:  \n",
      " Validation Cost:      1.2438405752182007\n",
      " Validation: Accuracy: 0.6235999464988708\n",
      "Epoch 18, CIFAR-10 Batch 5:  \n",
      " Validation Cost:      1.2909713983535767\n",
      " Validation: Accuracy: 0.6243999004364014\n",
      "Epoch 19, CIFAR-10 Batch 1:  \n",
      " Validation Cost:      1.2443400621414185\n",
      " Validation: Accuracy: 0.6421998739242554\n",
      "Epoch 19, CIFAR-10 Batch 2:  \n",
      " Validation Cost:      1.2602474689483643\n",
      " Validation: Accuracy: 0.6333998441696167\n",
      "Epoch 19, CIFAR-10 Batch 3:  \n",
      " Validation Cost:      1.3169654607772827\n",
      " Validation: Accuracy: 0.63239985704422\n",
      "Epoch 19, CIFAR-10 Batch 4:  \n",
      " Validation Cost:      1.2623438835144043\n",
      " Validation: Accuracy: 0.634199857711792\n",
      "Epoch 19, CIFAR-10 Batch 5:  \n",
      " Validation Cost:      1.3238502740859985\n",
      " Validation: Accuracy: 0.6247998476028442\n",
      "Epoch 20, CIFAR-10 Batch 1:  \n",
      " Validation Cost:      1.256382703781128\n",
      " Validation: Accuracy: 0.6529998779296875\n",
      "Epoch 20, CIFAR-10 Batch 2:  \n",
      " Validation Cost:      1.2729873657226562\n",
      " Validation: Accuracy: 0.6335998773574829\n",
      "Epoch 20, CIFAR-10 Batch 3:  \n",
      " Validation Cost:      1.3338968753814697\n",
      " Validation: Accuracy: 0.631399929523468\n",
      "Epoch 20, CIFAR-10 Batch 4:  \n",
      " Validation Cost:      1.3771108388900757\n",
      " Validation: Accuracy: 0.6171998977661133\n",
      "Epoch 20, CIFAR-10 Batch 5:  \n",
      " Validation Cost:      1.4468342065811157\n",
      " Validation: Accuracy: 0.6049999594688416\n",
      "Epoch 21, CIFAR-10 Batch 1:  \n",
      " Validation Cost:      1.285048007965088\n",
      " Validation: Accuracy: 0.6457999348640442\n",
      "Epoch 21, CIFAR-10 Batch 2:  \n",
      " Validation Cost:      1.2879910469055176\n",
      " Validation: Accuracy: 0.6283998489379883\n",
      "Epoch 21, CIFAR-10 Batch 3:  \n",
      " Validation Cost:      1.5086394548416138\n",
      " Validation: Accuracy: 0.6029999256134033\n",
      "Epoch 21, CIFAR-10 Batch 4:  \n",
      " Validation Cost:      1.356291651725769\n",
      " Validation: Accuracy: 0.630599856376648\n",
      "Epoch 21, CIFAR-10 Batch 5:  \n",
      " Validation Cost:      1.5061583518981934\n",
      " Validation: Accuracy: 0.6033998727798462\n",
      "Epoch 22, CIFAR-10 Batch 1:  \n",
      " Validation Cost:      1.3535057306289673\n",
      " Validation: Accuracy: 0.631399929523468\n",
      "Epoch 22, CIFAR-10 Batch 2:  \n",
      " Validation Cost:      1.3726966381072998\n",
      " Validation: Accuracy: 0.6251999139785767\n",
      "Epoch 22, CIFAR-10 Batch 3:  \n",
      " Validation Cost:      1.391444444656372\n",
      " Validation: Accuracy: 0.6225999593734741\n",
      "Epoch 22, CIFAR-10 Batch 4:  \n",
      " Validation Cost:      1.3680462837219238\n",
      " Validation: Accuracy: 0.631399929523468\n",
      "Epoch 22, CIFAR-10 Batch 5:  \n",
      " Validation Cost:      1.3763943910598755\n",
      " Validation: Accuracy: 0.6329998970031738\n",
      "Epoch 23, CIFAR-10 Batch 1:  \n",
      " Validation Cost:      1.3809213638305664\n",
      " Validation: Accuracy: 0.6437998414039612\n",
      "Epoch 23, CIFAR-10 Batch 2:  \n",
      " Validation Cost:      1.448751449584961\n",
      " Validation: Accuracy: 0.6267998814582825\n",
      "Epoch 23, CIFAR-10 Batch 3:  \n",
      " Validation Cost:      1.402987003326416\n",
      " Validation: Accuracy: 0.6315999031066895\n",
      "Epoch 23, CIFAR-10 Batch 4:  \n",
      " Validation Cost:      1.4271588325500488\n",
      " Validation: Accuracy: 0.6333999037742615\n",
      "Epoch 23, CIFAR-10 Batch 5:  \n",
      " Validation Cost:      1.4098182916641235\n",
      " Validation: Accuracy: 0.630599856376648\n",
      "Epoch 24, CIFAR-10 Batch 1:  \n",
      " Validation Cost:      1.466430902481079\n",
      " Validation: Accuracy: 0.6329998970031738\n",
      "Epoch 24, CIFAR-10 Batch 2:  \n",
      " Validation Cost:      1.46547532081604\n",
      " Validation: Accuracy: 0.6291998624801636\n",
      "Epoch 24, CIFAR-10 Batch 3:  \n",
      " Validation Cost:      1.4756585359573364\n",
      " Validation: Accuracy: 0.6267999410629272\n",
      "Epoch 24, CIFAR-10 Batch 4:  \n",
      " Validation Cost:      1.5340243577957153\n",
      " Validation: Accuracy: 0.6153998970985413\n",
      "Epoch 24, CIFAR-10 Batch 5:  \n",
      " Validation Cost:      1.4940721988677979\n",
      " Validation: Accuracy: 0.6271998882293701\n",
      "Epoch 25, CIFAR-10 Batch 1:  \n",
      " Validation Cost:      1.511186122894287\n",
      " Validation: Accuracy: 0.6261999011039734\n",
      "Epoch 25, CIFAR-10 Batch 2:  \n",
      " Validation Cost:      1.4507293701171875\n",
      " Validation: Accuracy: 0.6289998888969421\n",
      "Epoch 25, CIFAR-10 Batch 3:  \n",
      " Validation Cost:      1.5299557447433472\n",
      " Validation: Accuracy: 0.6235998868942261\n",
      "Epoch 25, CIFAR-10 Batch 4:  \n",
      " Validation Cost:      1.5875684022903442\n",
      " Validation: Accuracy: 0.621799886226654\n",
      "Epoch 25, CIFAR-10 Batch 5:  \n",
      " Validation Cost:      1.503321886062622\n",
      " Validation: Accuracy: 0.6375998854637146\n",
      "Epoch 26, CIFAR-10 Batch 1:  \n",
      " Validation Cost:      1.5981868505477905\n",
      " Validation: Accuracy: 0.6241998672485352\n",
      "Epoch 26, CIFAR-10 Batch 2:  \n",
      " Validation Cost:      1.5548369884490967\n",
      " Validation: Accuracy: 0.6197999119758606\n",
      "Epoch 26, CIFAR-10 Batch 3:  \n",
      " Validation Cost:      1.6085467338562012\n",
      " Validation: Accuracy: 0.6137999296188354\n",
      "Epoch 26, CIFAR-10 Batch 4:  \n",
      " Validation Cost:      1.6925170421600342\n",
      " Validation: Accuracy: 0.6197998523712158\n",
      "Epoch 26, CIFAR-10 Batch 5:  \n",
      " Validation Cost:      1.6450674533843994\n",
      " Validation: Accuracy: 0.6281998753547668\n",
      "Epoch 27, CIFAR-10 Batch 1:  \n",
      " Validation Cost:      1.6903868913650513\n",
      " Validation: Accuracy: 0.629599928855896\n",
      "Epoch 27, CIFAR-10 Batch 2:  \n",
      " Validation Cost:      1.5708492994308472\n",
      " Validation: Accuracy: 0.6251999139785767\n",
      "Epoch 27, CIFAR-10 Batch 3:  \n",
      " Validation Cost:      1.7092759609222412\n",
      " Validation: Accuracy: 0.602199912071228\n",
      "Epoch 27, CIFAR-10 Batch 4:  \n",
      " Validation Cost:      1.756880521774292\n",
      " Validation: Accuracy: 0.6191998720169067\n",
      "Epoch 27, CIFAR-10 Batch 5:  \n",
      " Validation Cost:      1.6345635652542114\n",
      " Validation: Accuracy: 0.6343998908996582\n",
      "Epoch 28, CIFAR-10 Batch 1:  \n",
      " Validation Cost:      1.734110713005066\n",
      " Validation: Accuracy: 0.6217999458312988\n",
      "Epoch 28, CIFAR-10 Batch 2:  \n",
      " Validation Cost:      1.6531109809875488\n",
      " Validation: Accuracy: 0.6237998604774475\n",
      "Epoch 28, CIFAR-10 Batch 3:  \n",
      " Validation Cost:      1.7916595935821533\n",
      " Validation: Accuracy: 0.605199933052063\n",
      "Epoch 28, CIFAR-10 Batch 4:  \n",
      " Validation Cost:      1.7869492769241333\n",
      " Validation: Accuracy: 0.6153998374938965\n",
      "Epoch 28, CIFAR-10 Batch 5:  \n",
      " Validation Cost:      1.7838019132614136\n",
      " Validation: Accuracy: 0.6291999220848083\n",
      "Epoch 29, CIFAR-10 Batch 1:  \n",
      " Validation Cost:      1.8278595209121704\n",
      " Validation: Accuracy: 0.6211998462677002\n",
      "Epoch 29, CIFAR-10 Batch 2:  \n",
      " Validation Cost:      1.7728230953216553\n",
      " Validation: Accuracy: 0.6173999309539795\n",
      "Epoch 29, CIFAR-10 Batch 3:  \n",
      " Validation Cost:      1.6659693717956543\n",
      " Validation: Accuracy: 0.6273999214172363\n",
      "Epoch 29, CIFAR-10 Batch 4:  \n",
      " Validation Cost:      1.8228068351745605\n",
      " Validation: Accuracy: 0.6119999289512634\n",
      "Epoch 29, CIFAR-10 Batch 5:  \n",
      " Validation Cost:      1.8182146549224854\n",
      " Validation: Accuracy: 0.629599928855896\n",
      "Epoch 30, CIFAR-10 Batch 1:  \n",
      " Validation Cost:      1.8794504404067993\n",
      " Validation: Accuracy: 0.615399956703186\n",
      "Epoch 30, CIFAR-10 Batch 2:  \n",
      " Validation Cost:      1.742368459701538\n",
      " Validation: Accuracy: 0.6339999437332153\n",
      "Epoch 30, CIFAR-10 Batch 3:  \n",
      " Validation Cost:      1.8246171474456787\n",
      " Validation: Accuracy: 0.6129999160766602\n",
      "Epoch 30, CIFAR-10 Batch 4:  \n",
      " Validation Cost:      1.7861872911453247\n",
      " Validation: Accuracy: 0.6313998699188232\n",
      "Epoch 30, CIFAR-10 Batch 5:  \n",
      " Validation Cost:      1.9213852882385254\n",
      " Validation: Accuracy: 0.627799928188324\n"
     ]
    }
   ],
   "source": [
    "\"\"\"\n",
    "DON'T MODIFY ANYTHING IN THIS CELL\n",
    "\"\"\"\n",
    "save_model_path = './image_classification'\n",
    "\n",
    "print('Training...')\n",
    "with tf.Session() as sess:\n",
    "    # Initializing the variables\n",
    "    sess.run(tf.global_variables_initializer())\n",
    "    \n",
    "    # Training cycle\n",
    "    for epoch in range(epochs):\n",
    "        # Loop over all batches\n",
    "        n_batches = 5\n",
    "        for batch_i in range(1, n_batches + 1):\n",
    "            for batch_features, batch_labels in helper.load_preprocess_training_batch(batch_i, batch_size):\n",
    "                train_neural_network(sess, optimizer, keep_probability, batch_features, batch_labels)\n",
    "            print('Epoch {:>2}, CIFAR-10 Batch {}:  '.format(epoch + 1, batch_i), end='')\n",
    "            print_stats(sess, batch_features, batch_labels, cost, accuracy)\n",
    "            \n",
    "    # Save Model\n",
    "    saver = tf.train.Saver()\n",
    "    save_path = saver.save(sess, save_model_path)"
   ]
  },
  {
   "cell_type": "code",
   "execution_count": 86,
   "metadata": {
    "collapsed": false,
    "deletable": true,
    "editable": true
   },
   "outputs": [
    {
     "name": "stdout",
     "output_type": "stream",
     "text": [
      "INFO:tensorflow:Restoring parameters from ./image_classification\n",
      "Testing Accuracy: 0.6222310126582279\n",
      "\n"
     ]
    },
    {
     "data": {
      "image/png": "[encoded data removed]",
      "text/plain": [
       "<matplotlib.figure.Figure at 0x7f5b10d38dd8>"
      ]
     },
     "metadata": {
      "image/png": {
       "height": 319,
       "width": 351
      }
     },
     "output_type": "display_data"
    }
   ],
   "source": [
    "\"\"\"\n",
    "DON'T MODIFY ANYTHING IN THIS CELL\n",
    "\"\"\"\n",
    "%matplotlib inline\n",
    "%config InlineBackend.figure_format = 'retina'\n",
    "\n",
    "import tensorflow as tf\n",
    "import pickle\n",
    "import helper\n",
    "import random\n",
    "\n",
    "# Set batch size if not already set\n",
    "try:\n",
    "    if batch_size:\n",
    "        pass\n",
    "except NameError:\n",
    "    batch_size = 64\n",
    "\n",
    "save_model_path = './image_classification'\n",
    "n_samples = 4\n",
    "top_n_predictions = 3\n",
    "\n",
    "def test_model():\n",
    "    \"\"\"\n",
    "    Test the saved model against the test dataset\n",
    "    \"\"\"\n",
    "\n",
    "    test_features, test_labels = pickle.load(open('preprocess_test.p', mode='rb'))\n",
    "    loaded_graph = tf.Graph()\n",
    "\n",
    "    with tf.Session(graph=loaded_graph) as sess:\n",
    "        # Load model\n",
    "        loader = tf.train.import_meta_graph(save_model_path + '.meta')\n",
    "        loader.restore(sess, save_model_path)\n",
    "\n",
    "        # Get Tensors from loaded model\n",
    "        loaded_x = loaded_graph.get_tensor_by_name('x:0')\n",
    "        loaded_y = loaded_graph.get_tensor_by_name('y:0')\n",
    "        loaded_keep_prob = loaded_graph.get_tensor_by_name('keep_prob:0')\n",
    "        loaded_logits = loaded_graph.get_tensor_by_name('logits:0')\n",
    "        loaded_acc = loaded_graph.get_tensor_by_name('accuracy:0')\n",
    "        \n",
    "        # Get accuracy in batches for memory limitations\n",
    "        test_batch_acc_total = 0\n",
    "        test_batch_count = 0\n",
    "        \n",
    "        for test_feature_batch, test_label_batch in helper.batch_features_labels(test_features, test_labels, batch_size):\n",
    "            test_batch_acc_total += sess.run(\n",
    "                loaded_acc,\n",
    "                feed_dict={loaded_x: test_feature_batch, loaded_y: test_label_batch, loaded_keep_prob: 1.0})\n",
    "            test_batch_count += 1\n",
    "\n",
    "        print('Testing Accuracy: {}\\n'.format(test_batch_acc_total/test_batch_count))\n",
    "\n",
    "        # Print Random Samples\n",
    "        random_test_features, random_test_labels = tuple(zip(*random.sample(list(zip(test_features, test_labels)), n_samples)))\n",
    "        random_test_predictions = sess.run(\n",
    "            tf.nn.top_k(tf.nn.softmax(loaded_logits), top_n_predictions),\n",
    "            feed_dict={loaded_x: random_test_features, loaded_y: random_test_labels, loaded_keep_prob: 1.0})\n",
    "        helper.display_image_predictions(random_test_features, random_test_labels, random_test_predictions)\n",
    "\n",
    "\n",
    "test_model()"
   ]
  },
  {
   "cell_type": "code",
   "execution_count": null,
   "metadata": {
    "collapsed": true,
    "deletable": true,
    "editable": true
   },
   "outputs": [],
   "source": []
  }
 ],
 "metadata": {
  "kernelspec": {
   "display_name": "Python 3",
   "language": "python",
   "name": "python3"
  },
  "language_info": {
   "codemirror_mode": {
    "name": "ipython",
    "version": 3
   },
   "file_extension": ".py",
   "mimetype": "text/x-python",
   "name": "python",
   "nbconvert_exporter": "python",
   "pygments_lexer": "ipython3",
   "version": "3.5.2"
  },
  "widgets": {
   "state": {},
   "version": "1.1.2"
  }
 },
 "nbformat": 4,
 "nbformat_minor": 2
}
