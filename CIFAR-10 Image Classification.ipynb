{
 "cells": [
  {
   "cell_type": "markdown",
   "metadata": {
    "deletable": true,
    "editable": true
   },
   "source": [
    "# Download CIFAR-10 Dataset"
   ]
  },
  {
   "cell_type": "code",
   "execution_count": 1,
   "metadata": {
    "collapsed": false,
    "deletable": true,
    "editable": true
   },
   "outputs": [
    {
     "name": "stdout",
     "output_type": "stream",
     "text": [
      "All files found!\n"
     ]
    }
   ],
   "source": [
    "from urllib.request import urlretrieve\n",
    "from os.path import isfile, isdir\n",
    "from tqdm import tqdm\n",
    "import problem_unittests as tests\n",
    "import tarfile\n",
    "\n",
    "cifar10_dataset_folder_path = 'cifar-10-batches-py'\n",
    "\n",
    "# Use Floyd's cifar-10 dataset if present\n",
    "cifar10_location = './python.tar.gz'\n",
    "if isfile(cifar10_location):\n",
    "    tar_gz_path = cifar10_location\n",
    "else:\n",
    "    tar_gz_path = 'cifar-10-python.tar.gz'\n",
    "\n",
    "class DLProgress(tqdm):\n",
    "    last_block = 0\n",
    "\n",
    "    def hook(self, block_num=1, block_size=1, total_size=None):\n",
    "        self.total = total_size\n",
    "        self.update((block_num - self.last_block) * block_size)\n",
    "        self.last_block = block_num\n",
    "\n",
    "if not isfile(tar_gz_path):\n",
    "    with DLProgress(unit='B', unit_scale=True, miniters=1, desc='CIFAR-10 Dataset') as pbar:\n",
    "        urlretrieve(\n",
    "            'https://www.cs.toronto.edu/~kriz/cifar-10-python.tar.gz',\n",
    "            tar_gz_path,\n",
    "            pbar.hook)\n",
    "\n",
    "if not isdir(cifar10_dataset_folder_path):\n",
    "    with tarfile.open(tar_gz_path) as tar:\n",
    "        tar.extractall()\n",
    "        tar.close()\n",
    "\n",
    "\n",
    "tests.test_folder_path(cifar10_dataset_folder_path)"
   ]
  },
  {
   "cell_type": "markdown",
   "metadata": {
    "deletable": true,
    "editable": true
   },
   "source": [
    "# Explore Dataset"
   ]
  },
  {
   "cell_type": "code",
   "execution_count": 2,
   "metadata": {
    "collapsed": false,
    "deletable": true,
    "editable": true
   },
   "outputs": [
    {
     "name": "stdout",
     "output_type": "stream",
     "text": [
      "\n",
      "Stats of batch 1:\n",
      "Samples: 10000\n",
      "Label Counts: {0: 1005, 1: 974, 2: 1032, 3: 1016, 4: 999, 5: 937, 6: 1030, 7: 1001, 8: 1025, 9: 981}\n",
      "First 20 Labels: [6, 9, 9, 4, 1, 1, 2, 7, 8, 3, 4, 7, 7, 2, 9, 9, 9, 3, 2, 6]\n",
      "\n",
      "Example of Image 5:\n",
      "Image - Min Value: 0 Max Value: 252\n",
      "Image - Shape: (32, 32, 3)\n",
      "Label - Label Id: 1 Name: automobile\n"
     ]
    },
    {
     "data": {
      "image/png": "[encoded data removed]",
      "text/plain": [
       "<matplotlib.figure.Figure at 0x7f160746c5f8>"
      ]
     },
     "metadata": {
      "image/png": {
       "height": 250,
       "width": 253
      }
     },
     "output_type": "display_data"
    }
   ],
   "source": [
    "%matplotlib inline\n",
    "%config InlineBackend.figure_format = 'retina'\n",
    "\n",
    "import helper\n",
    "import numpy as np\n",
    "\n",
    "# Explore the dataset\n",
    "batch_id = 1\n",
    "sample_id = 5\n",
    "helper.display_stats(cifar10_dataset_folder_path, batch_id, sample_id)"
   ]
  },
  {
   "cell_type": "markdown",
   "metadata": {
    "deletable": true,
    "editable": true
   },
   "source": [
    "# Normalize Images"
   ]
  },
  {
   "cell_type": "code",
   "execution_count": 3,
   "metadata": {
    "collapsed": false,
    "deletable": true,
    "editable": true
   },
   "outputs": [
    {
     "name": "stdout",
     "output_type": "stream",
     "text": [
      "Tests Passed\n"
     ]
    }
   ],
   "source": [
    "\n",
    "def normalize(x):\n",
    "    \"\"\"\n",
    "    Normalize a list of sample image data in the range of 0 to 1\n",
    "    : x: List of image data.  The image shape is (32, 32, 3)\n",
    "    : return: Numpy array of normalize data\n",
    "    \"\"\"\n",
    "    # TODO: Implement Function\n",
    "    return x/255.\n",
    "\n",
    "\n",
    "\"\"\"\n",
    "DON'T MODIFY ANYTHING IN THIS CELL THAT IS BELOW THIS LINE\n",
    "\"\"\"\n",
    "tests.test_normalize(normalize)"
   ]
  },
  {
   "cell_type": "markdown",
   "metadata": {
    "deletable": true,
    "editable": true
   },
   "source": [
    "# One-hot Encode Labels"
   ]
  },
  {
   "cell_type": "code",
   "execution_count": 4,
   "metadata": {
    "collapsed": false,
    "deletable": true,
    "editable": true
   },
   "outputs": [
    {
     "name": "stdout",
     "output_type": "stream",
     "text": [
      "Tests Passed\n"
     ]
    }
   ],
   "source": [
    "import sklearn.preprocessing\n",
    "label_binarizer = sklearn.preprocessing.LabelBinarizer()\n",
    "\n",
    "def one_hot_encode(x):\n",
    "    \"\"\"\n",
    "    One hot encode a list of sample labels. Return a one-hot encoded vector for each label.\n",
    "    : x: List of sample Labels\n",
    "    : return: Numpy array of one-hot encoded labels\n",
    "    \"\"\"\n",
    "    global label_binarizer\n",
    "    try:\n",
    "        return label_binarizer.transform(x)\n",
    "    except:\n",
    "        label_binarizer.fit(x)\n",
    "        return label_binarizer.transform(x)\n",
    "    \n",
    "\"\"\"\n",
    "DON'T MODIFY ANYTHING IN THIS CELL THAT IS BELOW THIS LINE\n",
    "\"\"\"\n",
    "tests.test_one_hot_encode(one_hot_encode)\n"
   ]
  },
  {
   "cell_type": "markdown",
   "metadata": {
    "deletable": true,
    "editable": true
   },
   "source": [
    "# Preprocess Data"
   ]
  },
  {
   "cell_type": "code",
   "execution_count": 5,
   "metadata": {
    "collapsed": true,
    "deletable": true,
    "editable": true
   },
   "outputs": [],
   "source": [
    "\"\"\"\n",
    "DON'T MODIFY ANYTHING IN THIS CELL\n",
    "\"\"\"\n",
    "# Preprocess Training, Validation, and Testing Data\n",
    "helper.preprocess_and_save_data(cifar10_dataset_folder_path, normalize, one_hot_encode)"
   ]
  },
  {
   "cell_type": "markdown",
   "metadata": {
    "deletable": true,
    "editable": true
   },
   "source": [
    "# Check Point"
   ]
  },
  {
   "cell_type": "code",
   "execution_count": 5,
   "metadata": {
    "collapsed": true,
    "deletable": true,
    "editable": true
   },
   "outputs": [],
   "source": [
    "\n",
    "\"\"\"\n",
    "DON'T MODIFY ANYTHING IN THIS CELL\n",
    "\"\"\"\n",
    "import pickle\n",
    "import problem_unittests as tests\n",
    "import helper\n",
    "\n",
    "# Load the Preprocessed Validation data\n",
    "valid_features, valid_labels = pickle.load(open('preprocess_validation.p', mode='rb'))"
   ]
  },
  {
   "cell_type": "markdown",
   "metadata": {
    "deletable": true,
    "editable": true
   },
   "source": [
    "## Inputs"
   ]
  },
  {
   "cell_type": "code",
   "execution_count": 6,
   "metadata": {
    "collapsed": false,
    "deletable": true,
    "editable": true
   },
   "outputs": [
    {
     "name": "stdout",
     "output_type": "stream",
     "text": [
      "Image Input Tests Passed.\n",
      "Label Input Tests Passed.\n",
      "Keep Prob Tests Passed.\n"
     ]
    }
   ],
   "source": [
    "import tensorflow as tf\n",
    "\n",
    "def neural_net_image_input(image_shape):\n",
    "    \"\"\"\n",
    "    Return a Tensor for a batch of image input\n",
    "    : image_shape: Shape of the images\n",
    "    : return: Tensor for image input.\n",
    "    \"\"\"\n",
    "    # TODO: Implement Function\n",
    "    return tf.placeholder(\n",
    "        tf.float32, \n",
    "        shape=[None,32, 32, 3],\n",
    "        name='x'\n",
    "    )\n",
    "\n",
    "\n",
    "def neural_net_label_input(n_classes):\n",
    "    \"\"\"\n",
    "    Return a Tensor for a batch of label input\n",
    "    : n_classes: Number of classes\n",
    "    : return: Tensor for label input.\n",
    "    \"\"\"\n",
    "    # TODO: Implement Function\n",
    "    return tf.placeholder(\n",
    "        tf.float32, \n",
    "        shape=[None, 10],\n",
    "        name='y'\n",
    "    )\n",
    "\n",
    "\n",
    "def neural_net_keep_prob_input():\n",
    "    \"\"\"\n",
    "    Return a Tensor for keep probability\n",
    "    : return: Tensor for keep probability.\n",
    "    \"\"\"\n",
    "    # TODO: Implement Function\n",
    "    return tf.placeholder(\n",
    "        tf.float32,\n",
    "        name='keep_prob'\n",
    "    )\n",
    "\n",
    "\n",
    "\"\"\"\n",
    "DON'T MODIFY ANYTHING IN THIS CELL THAT IS BELOW THIS LINE\n",
    "\"\"\"\n",
    "tf.reset_default_graph()\n",
    "tests.test_nn_image_inputs(neural_net_image_input)\n",
    "tests.test_nn_label_inputs(neural_net_label_input)\n",
    "tests.test_nn_keep_prob_inputs(neural_net_keep_prob_input)"
   ]
  },
  {
   "cell_type": "markdown",
   "metadata": {
    "deletable": true,
    "editable": true
   },
   "source": [
    "# Convolution and Max Pooling"
   ]
  },
  {
   "cell_type": "code",
   "execution_count": 34,
   "metadata": {
    "collapsed": false,
    "deletable": true,
    "editable": true,
    "scrolled": false
   },
   "outputs": [
    {
     "name": "stdout",
     "output_type": "stream",
     "text": [
      "(?, 32, 32, 5)\n",
      "Tests Passed\n"
     ]
    }
   ],
   "source": [
    "def conv2d_maxpool(x_tensor, conv_num_outputs, conv_ksize, conv_strides, pool_ksize, pool_strides):\n",
    "    \"\"\"\n",
    "    Apply convolution then max pooling to x_tensor\n",
    "    :param x_tensor: TensorFlow Tensor\n",
    "    :param conv_num_outputs: Number of outputs for the convolutional layer\n",
    "    :param conv_ksize: kernal size 2-D Tuple for the convolutional layer\n",
    "    :param conv_strides: Stride 2-D Tuple for convolution\n",
    "    :param pool_ksize: kernal size 2-D Tuple for pool\n",
    "    :param pool_strides: Stride 2-D Tuple for pool\n",
    "    : return: A tensor that represents convolution and max pooling of x_tensor\n",
    "    \"\"\"\n",
    "    print(x_tensor.shape)\n",
    "    # TODO: Implement Function\n",
    "    w = tf.Variable(tf.random_normal(\n",
    "        [conv_ksize[0], conv_ksize[1], x_tensor.shape[3].value, conv_num_outputs]\n",
    "    ))\n",
    "                    \n",
    "    b = tf.Variable(tf.zeros(conv_num_outputs))\n",
    "                    \n",
    "    conv_output = tf.nn.conv2d(\n",
    "        x_tensor,\n",
    "        w,\n",
    "        strides=[1,conv_strides[0],conv_strides[1],1],\n",
    "        padding='SAME'\n",
    "    )\n",
    "                    \n",
    "    conv_output = tf.nn.relu(tf.nn.bias_add(conv_output, b))\n",
    "         \n",
    "    pool_output = tf.nn.max_pool(\n",
    "        conv_output,\n",
    "        ksize=[1,pool_ksize[0],pool_ksize[1],1],\n",
    "        strides=[1,pool_strides[0],pool_strides[1],1],\n",
    "        padding='SAME'\n",
    "        \n",
    "    )\n",
    "    return pool_output \n",
    "\n",
    "\n",
    "\"\"\"\n",
    "DON'T MODIFY ANYTHING IN THIS CELL THAT IS BELOW THIS LINE\n",
    "\"\"\"\n",
    "tests.test_con_pool(conv2d_maxpool)"
   ]
  },
  {
   "cell_type": "markdown",
   "metadata": {
    "deletable": true,
    "editable": true
   },
   "source": [
    "## Flatten Layer\n"
   ]
  },
  {
   "cell_type": "code",
   "execution_count": 35,
   "metadata": {
    "collapsed": false,
    "deletable": true,
    "editable": true
   },
   "outputs": [
    {
     "name": "stdout",
     "output_type": "stream",
     "text": [
      "Tests Passed\n"
     ]
    }
   ],
   "source": [
    "def flatten(x_tensor):\n",
    "    \"\"\"\n",
    "    Flatten x_tensor to (Batch Size, Flattened Image Size)\n",
    "    : x_tensor: A tensor of size (Batch Size, ...), where ... are the image dimensions.\n",
    "    : return: A tensor of size (Batch Size, Flattened Image Size).\n",
    "    \"\"\"\n",
    "    # TODO: Implement Function\n",
    "    return tf.contrib.layers.flatten(x_tensor)\n",
    "\n",
    "\"\"\"\n",
    "DON'T MODIFY ANYTHING IN THIS CELL THAT IS BELOW THIS LINE\n",
    "\"\"\"\n",
    "tests.test_flatten(flatten)"
   ]
  },
  {
   "cell_type": "code",
   "execution_count": 36,
   "metadata": {
    "collapsed": false,
    "deletable": true,
    "editable": true
   },
   "outputs": [
    {
     "name": "stdout",
     "output_type": "stream",
     "text": [
      "Tests Passed\n"
     ]
    }
   ],
   "source": [
    "def fully_conn(x_tensor, num_outputs):\n",
    "    \"\"\"\n",
    "    Apply a fully connected layer to x_tensor using weight and bias\n",
    "    : x_tensor: A 2-D tensor where the first dimension is batch size.\n",
    "    : num_outputs: The number of output that the new tensor should be.\n",
    "    : return: A 2-D tensor where the second dimension is num_outputs.\n",
    "    \"\"\"\n",
    "    # TODO: Implement Function\n",
    "    return tf.nn.relu(tf.layers.dense(x_tensor, num_outputs))\n",
    "\n",
    "\n",
    "\"\"\"\n",
    "DON'T MODIFY ANYTHING IN THIS CELL THAT IS BELOW THIS LINE\n",
    "\"\"\"\n",
    "tests.test_fully_conn(fully_conn)"
   ]
  },
  {
   "cell_type": "code",
   "execution_count": 37,
   "metadata": {
    "collapsed": false,
    "deletable": true,
    "editable": true
   },
   "outputs": [
    {
     "name": "stdout",
     "output_type": "stream",
     "text": [
      "Tests Passed\n"
     ]
    }
   ],
   "source": [
    "def output(x_tensor, num_outputs):\n",
    "    \"\"\"\n",
    "    Apply a output layer to x_tensor using weight and bias\n",
    "    : x_tensor: A 2-D tensor where the first dimension is batch size.\n",
    "    : num_outputs: The number of output that the new tensor should be.\n",
    "    : return: A 2-D tensor where the second dimension is num_outputs.\n",
    "    \"\"\"\n",
    "    # TODO: Implement Function\n",
    "    return tf.layers.dense(x_tensor, num_outputs, activation=None)\n",
    "\n",
    "\n",
    "\"\"\"\n",
    "DON'T MODIFY ANYTHING IN THIS CELL THAT IS BELOW THIS LINE\n",
    "\"\"\"\n",
    "tests.test_output(output)"
   ]
  },
  {
   "cell_type": "code",
   "execution_count": 116,
   "metadata": {
    "collapsed": false,
    "deletable": true,
    "editable": true
   },
   "outputs": [
    {
     "name": "stdout",
     "output_type": "stream",
     "text": [
      "(?, 32, 32, 3)\n",
      "(?, 16, 16, 64)\n",
      "(?, 32, 32, 3)\n",
      "(?, 16, 16, 64)\n",
      "Neural Network Built!\n"
     ]
    }
   ],
   "source": [
    "def conv_net(x, keep_prob):\n",
    "    \"\"\"\n",
    "    Create a convolutional neural network model\n",
    "    : x: Placeholder tensor that holds image data.\n",
    "    : keep_prob: Placeholder tensor that hold dropout keep probability.\n",
    "    : return: Tensor that represents logits\n",
    "    \"\"\"\n",
    "    # TODO: Apply 1, 2, or 3 Convolution and Max Pool layers\n",
    "    #    Play around with different number of outputs, kernel size and stride\n",
    "    # Function Definition from Above:\n",
    "    #    conv2d_maxpool(x_tensor, conv_num_outputs, conv_ksize, conv_strides, pool_ksize, pool_strides)\n",
    "    \n",
    "    layer_1 = conv2d_maxpool(x, 64,(3,3),(1,1),(2,2),(2,2))\n",
    "    layer_2 = conv2d_maxpool(layer_1, 128,(3,3),(1,1),(2,2),(2,2))\n",
    "    # TODO: Apply a Flatten Layer\n",
    "    # Function Definition from Above:\n",
    "    #   flatten(x_tensor)\n",
    "    flat = flatten(layer_2)\n",
    "    flat = tf.nn.dropout(flat, keep_prob=keep_prob)\n",
    "    # TODO: Apply 1, 2, or 3 Fully Connected Layers\n",
    "    #    Play around with different number of outputs\n",
    "    # Function Definition from Above:\n",
    "    #   fully_conn(x_tensor, num_outputs)\n",
    "    #f\n",
    "    #fc_2 = fully_conn(fc_1,32)\n",
    "    #fc_2 = tf.nn.dropout(fc_2, keep_prob=keep_prob)\n",
    "    \n",
    "    # TODO: Apply an Output Layer\n",
    "    #    Set this to the number of classes\n",
    "    # Function Definition from Above:\n",
    "    #   output(x_tensor, num_outputs)\n",
    "    return output(flat, 10)\n",
    "    \n",
    "\n",
    "\"\"\"\n",
    "DON'T MODIFY ANYTHING IN THIS CELL THAT IS BELOW THIS LINE\n",
    "\"\"\"\n",
    "\n",
    "##############################\n",
    "## Build the Neural Network ##\n",
    "##############################\n",
    "\n",
    "# Remove previous weights, bias, inputs, etc..\n",
    "tf.reset_default_graph()\n",
    "\n",
    "# Inputs\n",
    "x = neural_net_image_input((32, 32, 3))\n",
    "y = neural_net_label_input(10)\n",
    "keep_prob = neural_net_keep_prob_input()\n",
    "\n",
    "# Model\n",
    "logits = conv_net(x, keep_prob)\n",
    "\n",
    "# Name logits Tensor, so that is can be loaded from disk after training\n",
    "logits = tf.identity(logits, name='logits')\n",
    "\n",
    "# Loss and Optimizer\n",
    "cost = tf.reduce_mean(tf.nn.softmax_cross_entropy_with_logits(logits=logits, labels=y))\n",
    "optimizer = tf.train.AdamOptimizer().minimize(cost)\n",
    "\n",
    "# Accuracy\n",
    "correct_pred = tf.equal(tf.argmax(logits, 1), tf.argmax(y, 1))\n",
    "accuracy = tf.reduce_mean(tf.cast(correct_pred, tf.float32), name='accuracy')\n",
    "\n",
    "tests.test_conv_net(conv_net)"
   ]
  },
  {
   "cell_type": "code",
   "execution_count": 117,
   "metadata": {
    "collapsed": false,
    "deletable": true,
    "editable": true
   },
   "outputs": [
    {
     "name": "stdout",
     "output_type": "stream",
     "text": [
      "Tests Passed\n"
     ]
    }
   ],
   "source": [
    "def train_neural_network(session, optimizer, keep_probability, feature_batch, label_batch):\n",
    "    \"\"\"\n",
    "    Optimize the session on a batch of images and labels\n",
    "    : session: Current TensorFlow session\n",
    "    : optimizer: TensorFlow optimizer function\n",
    "    : keep_probability: keep probability\n",
    "    : feature_batch: Batch of Numpy image data\n",
    "    : label_batch: Batch of Numpy label data\n",
    "    \"\"\"\n",
    "    # TODO: Implement Function\n",
    "    session.run(optimizer, feed_dict={\n",
    "        x: feature_batch,\n",
    "        y: label_batch,\n",
    "        keep_prob: keep_probability\n",
    "    })\n",
    "\n",
    "\n",
    "\"\"\"\n",
    "DON'T MODIFY ANYTHING IN THIS CELL THAT IS BELOW THIS LINE\n",
    "\"\"\"\n",
    "tests.test_train_nn(train_neural_network)"
   ]
  },
  {
   "cell_type": "code",
   "execution_count": 118,
   "metadata": {
    "collapsed": true,
    "deletable": true,
    "editable": true
   },
   "outputs": [],
   "source": [
    "def print_stats(session, feature_batch, label_batch, cost, accuracy):\n",
    "    \"\"\"\n",
    "    Print information about loss and validation accuracy\n",
    "    : session: Current TensorFlow session\n",
    "    : feature_batch: Batch of Numpy image data\n",
    "    : label_batch: Batch of Numpy label data\n",
    "    : cost: TensorFlow cost function\n",
    "    : accuracy: TensorFlow accuracy function\n",
    "    \"\"\"\n",
    "    # TODO: Implement Function\n",
    "    global valid_features, valid_labels \n",
    "    valid_cost, valid_acc = session.run(\n",
    "        [cost, accuracy],\n",
    "        feed_dict={\n",
    "            x:valid_features,\n",
    "            y:valid_labels,\n",
    "            keep_prob:1.0\n",
    "        }\n",
    "    )\n",
    "    print(\"\\n Validation Cost:      {}\\n Validation: Accuracy: {}\"\\\n",
    "         .format(valid_cost, valid_acc))"
   ]
  },
  {
   "cell_type": "code",
   "execution_count": 119,
   "metadata": {
    "collapsed": true,
    "deletable": true,
    "editable": true
   },
   "outputs": [],
   "source": [
    "# TODO: Tune Parameters\n",
    "epochs = 5\n",
    "batch_size = 128\n",
    "keep_probability = 0.5"
   ]
  },
  {
   "cell_type": "code",
   "execution_count": 120,
   "metadata": {
    "collapsed": false,
    "deletable": true,
    "editable": true
   },
   "outputs": [
    {
     "name": "stdout",
     "output_type": "stream",
     "text": [
      "Checking the Training on a Single Batch...\n",
      "Epoch  1, CIFAR-10 Batch 1:  \n",
      " Validation Cost:      18.513708114624023\n",
      " Validation: Accuracy: 0.3871999979019165\n",
      "Epoch  2, CIFAR-10 Batch 1:  \n",
      " Validation Cost:      13.020379066467285\n",
      " Validation: Accuracy: 0.43059998750686646\n",
      "Epoch  3, CIFAR-10 Batch 1:  \n",
      " Validation Cost:      7.194851398468018\n",
      " Validation: Accuracy: 0.46879997849464417\n",
      "Epoch  4, CIFAR-10 Batch 1:  \n",
      " Validation Cost:      4.911036968231201\n",
      " Validation: Accuracy: 0.4851999580860138\n",
      "Epoch  5, CIFAR-10 Batch 1:  \n",
      " Validation Cost:      3.7823386192321777\n",
      " Validation: Accuracy: 0.48259997367858887\n"
     ]
    }
   ],
   "source": [
    "\"\"\"\n",
    "DON'T MODIFY ANYTHING IN THIS CELL\n",
    "\"\"\"\n",
    "print('Checking the Training on a Single Batch...')\n",
    "with tf.Session() as sess:\n",
    "    # Initializing the variables\n",
    "    sess.run(tf.global_variables_initializer())\n",
    "    \n",
    "    # Training cycle\n",
    "    for epoch in range(epochs):\n",
    "        batch_i = 1\n",
    "        for batch_features, batch_labels in helper.load_preprocess_training_batch(batch_i, batch_size):\n",
    "            train_neural_network(sess, optimizer, keep_probability, batch_features, batch_labels)\n",
    "        print('Epoch {:>2}, CIFAR-10 Batch {}:  '.format(epoch + 1, batch_i), end='')\n",
    "        print_stats(sess, batch_features, batch_labels, cost, accuracy)"
   ]
  },
  {
   "cell_type": "markdown",
   "metadata": {
    "deletable": true,
    "editable": true
   },
   "source": [
    "# Training"
   ]
  },
  {
   "cell_type": "code",
   "execution_count": 121,
   "metadata": {
    "collapsed": true,
    "deletable": true,
    "editable": true
   },
   "outputs": [],
   "source": [
    "# TODO: Tune Parameters\n",
    "epochs = 30\n",
    "batch_size = 128\n",
    "keep_probability = 0.5"
   ]
  },
  {
   "cell_type": "code",
   "execution_count": 122,
   "metadata": {
    "collapsed": false,
    "deletable": true,
    "editable": true,
    "scrolled": false
   },
   "outputs": [
    {
     "name": "stdout",
     "output_type": "stream",
     "text": [
      "Training...\n",
      "Epoch  1, CIFAR-10 Batch 1:  \n",
      " Validation Cost:      24.800107955932617\n",
      " Validation: Accuracy: 0.33299997448921204\n",
      "Epoch  1, CIFAR-10 Batch 2:  \n",
      " Validation Cost:      9.557937622070312\n",
      " Validation: Accuracy: 0.4174000024795532\n",
      "Epoch  1, CIFAR-10 Batch 3:  \n",
      " Validation Cost:      5.3883748054504395\n",
      " Validation: Accuracy: 0.4351999759674072\n",
      "Epoch  1, CIFAR-10 Batch 4:  \n",
      " Validation Cost:      3.2512705326080322\n",
      " Validation: Accuracy: 0.44439998269081116\n",
      "Epoch  1, CIFAR-10 Batch 5:  \n",
      " Validation Cost:      2.4009130001068115\n",
      " Validation: Accuracy: 0.4291999936103821\n",
      "Epoch  2, CIFAR-10 Batch 1:  \n",
      " Validation Cost:      2.0962014198303223\n",
      " Validation: Accuracy: 0.4123999774456024\n",
      "Epoch  2, CIFAR-10 Batch 2:  \n",
      " Validation Cost:      1.9174941778182983\n",
      " Validation: Accuracy: 0.4083999991416931\n",
      "Epoch  2, CIFAR-10 Batch 3:  \n",
      " Validation Cost:      1.821160078048706\n",
      " Validation: Accuracy: 0.423799991607666\n",
      "Epoch  2, CIFAR-10 Batch 4:  \n",
      " Validation Cost:      1.7430989742279053\n",
      " Validation: Accuracy: 0.4187999963760376\n",
      "Epoch  2, CIFAR-10 Batch 5:  \n",
      " Validation Cost:      1.6941486597061157\n",
      " Validation: Accuracy: 0.4296000003814697\n",
      "Epoch  3, CIFAR-10 Batch 1:  \n",
      " Validation Cost:      1.6733742952346802\n",
      " Validation: Accuracy: 0.4333999752998352\n",
      "Epoch  3, CIFAR-10 Batch 2:  \n",
      " Validation Cost:      1.652867078781128\n",
      " Validation: Accuracy: 0.43799999356269836\n",
      "Epoch  3, CIFAR-10 Batch 3:  \n",
      " Validation Cost:      1.6283241510391235\n",
      " Validation: Accuracy: 0.4509999752044678\n",
      "Epoch  3, CIFAR-10 Batch 4:  \n",
      " Validation Cost:      1.5824638605117798\n",
      " Validation: Accuracy: 0.462399959564209\n",
      "Epoch  3, CIFAR-10 Batch 5:  \n",
      " Validation Cost:      1.5695106983184814\n",
      " Validation: Accuracy: 0.4625999629497528\n",
      "Epoch  4, CIFAR-10 Batch 1:  \n",
      " Validation Cost:      1.565550446510315\n",
      " Validation: Accuracy: 0.46059995889663696\n",
      "Epoch  4, CIFAR-10 Batch 2:  \n",
      " Validation Cost:      1.555790901184082\n",
      " Validation: Accuracy: 0.46379995346069336\n",
      "Epoch  4, CIFAR-10 Batch 3:  \n",
      " Validation Cost:      1.531460165977478\n",
      " Validation: Accuracy: 0.4777999818325043\n",
      "Epoch  4, CIFAR-10 Batch 4:  \n",
      " Validation Cost:      1.5110180377960205\n",
      " Validation: Accuracy: 0.47999995946884155\n",
      "Epoch  4, CIFAR-10 Batch 5:  \n",
      " Validation Cost:      1.5044629573822021\n",
      " Validation: Accuracy: 0.477400004863739\n",
      "Epoch  5, CIFAR-10 Batch 1:  \n",
      " Validation Cost:      1.4863756895065308\n",
      " Validation: Accuracy: 0.4875999391078949\n",
      "Epoch  5, CIFAR-10 Batch 2:  \n",
      " Validation Cost:      1.4879035949707031\n",
      " Validation: Accuracy: 0.49059996008872986\n",
      "Epoch  5, CIFAR-10 Batch 3:  \n",
      " Validation Cost:      1.4734604358673096\n",
      " Validation: Accuracy: 0.49639999866485596\n",
      "Epoch  5, CIFAR-10 Batch 4:  \n",
      " Validation Cost:      1.4510754346847534\n",
      " Validation: Accuracy: 0.498399943113327\n",
      "Epoch  5, CIFAR-10 Batch 5:  \n",
      " Validation Cost:      1.4334628582000732\n",
      " Validation: Accuracy: 0.49759992957115173\n",
      "Epoch  6, CIFAR-10 Batch 1:  \n",
      " Validation Cost:      1.434946060180664\n",
      " Validation: Accuracy: 0.5037999153137207\n",
      "Epoch  6, CIFAR-10 Batch 2:  \n",
      " Validation Cost:      1.4466218948364258\n",
      " Validation: Accuracy: 0.49699997901916504\n",
      "Epoch  6, CIFAR-10 Batch 3:  \n",
      " Validation Cost:      1.4320425987243652\n",
      " Validation: Accuracy: 0.5023999810218811\n",
      "Epoch  6, CIFAR-10 Batch 4:  \n",
      " Validation Cost:      1.419793725013733\n",
      " Validation: Accuracy: 0.49939996004104614\n",
      "Epoch  6, CIFAR-10 Batch 5:  \n",
      " Validation Cost:      1.4163453578948975\n",
      " Validation: Accuracy: 0.5105999112129211\n",
      "Epoch  7, CIFAR-10 Batch 1:  \n",
      " Validation Cost:      1.4112234115600586\n",
      " Validation: Accuracy: 0.5079998970031738\n",
      "Epoch  7, CIFAR-10 Batch 2:  \n",
      " Validation Cost:      1.4130685329437256\n",
      " Validation: Accuracy: 0.503600001335144\n",
      "Epoch  7, CIFAR-10 Batch 3:  \n",
      " Validation Cost:      1.4091068506240845\n",
      " Validation: Accuracy: 0.512999951839447\n",
      "Epoch  7, CIFAR-10 Batch 4:  \n",
      " Validation Cost:      1.3933922052383423\n",
      " Validation: Accuracy: 0.5209999680519104\n",
      "Epoch  7, CIFAR-10 Batch 5:  \n",
      " Validation Cost:      1.378483772277832\n",
      " Validation: Accuracy: 0.5215999484062195\n",
      "Epoch  8, CIFAR-10 Batch 1:  \n",
      " Validation Cost:      1.3826589584350586\n",
      " Validation: Accuracy: 0.5175999402999878\n",
      "Epoch  8, CIFAR-10 Batch 2:  \n",
      " Validation Cost:      1.3817293643951416\n",
      " Validation: Accuracy: 0.5171999931335449\n",
      "Epoch  8, CIFAR-10 Batch 3:  \n",
      " Validation Cost:      1.3805915117263794\n",
      " Validation: Accuracy: 0.5257999300956726\n",
      "Epoch  8, CIFAR-10 Batch 4:  \n",
      " Validation Cost:      1.366348147392273\n",
      " Validation: Accuracy: 0.5239999294281006\n",
      "Epoch  8, CIFAR-10 Batch 5:  \n",
      " Validation Cost:      1.3722995519638062\n",
      " Validation: Accuracy: 0.5173999667167664\n",
      "Epoch  9, CIFAR-10 Batch 1:  \n",
      " Validation Cost:      1.3677431344985962\n",
      " Validation: Accuracy: 0.5275999307632446\n",
      "Epoch  9, CIFAR-10 Batch 2:  \n",
      " Validation Cost:      1.3645453453063965\n",
      " Validation: Accuracy: 0.5275999307632446\n",
      "Epoch  9, CIFAR-10 Batch 3:  \n",
      " Validation Cost:      1.3513479232788086\n",
      " Validation: Accuracy: 0.5359999537467957\n",
      "Epoch  9, CIFAR-10 Batch 4:  \n",
      " Validation Cost:      1.3535668849945068\n",
      " Validation: Accuracy: 0.5333998799324036\n",
      "Epoch  9, CIFAR-10 Batch 5:  \n",
      " Validation Cost:      1.3407331705093384\n",
      " Validation: Accuracy: 0.5363999605178833\n",
      "Epoch 10, CIFAR-10 Batch 1:  \n",
      " Validation Cost:      1.3443094491958618\n",
      " Validation: Accuracy: 0.5321999192237854\n",
      "Epoch 10, CIFAR-10 Batch 2:  \n",
      " Validation Cost:      1.3596253395080566\n",
      " Validation: Accuracy: 0.5321999192237854\n",
      "Epoch 10, CIFAR-10 Batch 3:  \n",
      " Validation Cost:      1.3261245489120483\n",
      " Validation: Accuracy: 0.5441999435424805\n",
      "Epoch 10, CIFAR-10 Batch 4:  \n",
      " Validation Cost:      1.328593373298645\n",
      " Validation: Accuracy: 0.5445998907089233\n",
      "Epoch 10, CIFAR-10 Batch 5:  \n",
      " Validation Cost:      1.3390579223632812\n",
      " Validation: Accuracy: 0.5321999192237854\n",
      "Epoch 11, CIFAR-10 Batch 1:  \n",
      " Validation Cost:      1.3298709392547607\n",
      " Validation: Accuracy: 0.5367999076843262\n",
      "Epoch 11, CIFAR-10 Batch 2:  \n",
      " Validation Cost:      1.3482335805892944\n",
      " Validation: Accuracy: 0.5359999537467957\n",
      "Epoch 11, CIFAR-10 Batch 3:  \n",
      " Validation Cost:      1.3210744857788086\n",
      " Validation: Accuracy: 0.5433999300003052\n",
      "Epoch 11, CIFAR-10 Batch 4:  \n",
      " Validation Cost:      1.3245553970336914\n",
      " Validation: Accuracy: 0.5471999645233154\n",
      "Epoch 11, CIFAR-10 Batch 5:  \n",
      " Validation Cost:      1.3266316652297974\n",
      " Validation: Accuracy: 0.5465998649597168\n",
      "Epoch 12, CIFAR-10 Batch 1:  \n",
      " Validation Cost:      1.314101219177246\n",
      " Validation: Accuracy: 0.5481998920440674\n",
      "Epoch 12, CIFAR-10 Batch 2:  \n",
      " Validation Cost:      1.3194847106933594\n",
      " Validation: Accuracy: 0.5441999435424805\n",
      "Epoch 12, CIFAR-10 Batch 3:  \n",
      " Validation Cost:      1.3010164499282837\n",
      " Validation: Accuracy: 0.5585999488830566\n",
      "Epoch 12, CIFAR-10 Batch 4:  \n",
      " Validation Cost:      1.3124206066131592\n",
      " Validation: Accuracy: 0.5527999401092529\n",
      "Epoch 12, CIFAR-10 Batch 5:  \n",
      " Validation Cost:      1.3010703325271606\n",
      " Validation: Accuracy: 0.5545998811721802\n",
      "Epoch 13, CIFAR-10 Batch 1:  \n",
      " Validation Cost:      1.2975659370422363\n",
      " Validation: Accuracy: 0.5547999143600464\n",
      "Epoch 13, CIFAR-10 Batch 2:  \n",
      " Validation Cost:      1.3192633390426636\n",
      " Validation: Accuracy: 0.55159991979599\n",
      "Epoch 13, CIFAR-10 Batch 3:  \n",
      " Validation Cost:      1.3011730909347534\n",
      " Validation: Accuracy: 0.5565999746322632\n",
      "Epoch 13, CIFAR-10 Batch 4:  \n",
      " Validation Cost:      1.3051350116729736\n",
      " Validation: Accuracy: 0.5537999272346497\n",
      "Epoch 13, CIFAR-10 Batch 5:  \n",
      " Validation Cost:      1.3118265867233276\n",
      " Validation: Accuracy: 0.5485999584197998\n",
      "Epoch 14, CIFAR-10 Batch 1:  \n",
      " Validation Cost:      1.2961804866790771\n",
      " Validation: Accuracy: 0.5565999746322632\n",
      "Epoch 14, CIFAR-10 Batch 2:  \n",
      " Validation Cost:      1.2996219396591187\n",
      " Validation: Accuracy: 0.5546000003814697\n",
      "Epoch 14, CIFAR-10 Batch 3:  \n",
      " Validation Cost:      1.2776789665222168\n",
      " Validation: Accuracy: 0.568399965763092\n",
      "Epoch 14, CIFAR-10 Batch 4:  \n",
      " Validation Cost:      1.2739629745483398\n",
      " Validation: Accuracy: 0.5593999028205872\n",
      "Epoch 14, CIFAR-10 Batch 5:  \n",
      " Validation Cost:      1.2626601457595825\n",
      " Validation: Accuracy: 0.5645999312400818\n",
      "Epoch 15, CIFAR-10 Batch 1:  \n",
      " Validation Cost:      1.2925145626068115\n",
      " Validation: Accuracy: 0.5605999827384949\n",
      "Epoch 15, CIFAR-10 Batch 2:  \n",
      " Validation Cost:      1.305365800857544\n",
      " Validation: Accuracy: 0.5543999075889587\n",
      "Epoch 15, CIFAR-10 Batch 3:  \n",
      " Validation Cost:      1.2712587118148804\n",
      " Validation: Accuracy: 0.5679999589920044\n",
      "Epoch 15, CIFAR-10 Batch 4:  \n",
      " Validation Cost:      1.2714539766311646\n",
      " Validation: Accuracy: 0.561799943447113\n",
      "Epoch 15, CIFAR-10 Batch 5:  \n",
      " Validation Cost:      1.2646782398223877\n",
      " Validation: Accuracy: 0.5661998987197876\n",
      "Epoch 16, CIFAR-10 Batch 1:  \n",
      " Validation Cost:      1.2766876220703125\n",
      " Validation: Accuracy: 0.5713999271392822\n",
      "Epoch 16, CIFAR-10 Batch 2:  \n",
      " Validation Cost:      1.2904082536697388\n",
      " Validation: Accuracy: 0.5615999102592468\n",
      "Epoch 16, CIFAR-10 Batch 3:  \n",
      " Validation Cost:      1.2606631517410278\n",
      " Validation: Accuracy: 0.5727999210357666\n",
      "Epoch 16, CIFAR-10 Batch 4:  \n",
      " Validation Cost:      1.2832341194152832\n",
      " Validation: Accuracy: 0.5665999054908752\n",
      "Epoch 16, CIFAR-10 Batch 5:  \n",
      " Validation Cost:      1.2617417573928833\n",
      " Validation: Accuracy: 0.5773999094963074\n",
      "Epoch 17, CIFAR-10 Batch 1:  \n",
      " Validation Cost:      1.2789825201034546\n",
      " Validation: Accuracy: 0.5695999264717102\n",
      "Epoch 17, CIFAR-10 Batch 2:  \n",
      " Validation Cost:      1.292580246925354\n",
      " Validation: Accuracy: 0.561199963092804\n",
      "Epoch 17, CIFAR-10 Batch 3:  \n",
      " Validation Cost:      1.2612431049346924\n",
      " Validation: Accuracy: 0.5715999007225037\n",
      "Epoch 17, CIFAR-10 Batch 4:  \n",
      " Validation Cost:      1.2785050868988037\n",
      " Validation: Accuracy: 0.5697999596595764\n",
      "Epoch 17, CIFAR-10 Batch 5:  \n",
      " Validation Cost:      1.2689945697784424\n",
      " Validation: Accuracy: 0.5711999535560608\n",
      "Epoch 18, CIFAR-10 Batch 1:  \n",
      " Validation Cost:      1.274928331375122\n",
      " Validation: Accuracy: 0.5703999400138855\n",
      "Epoch 18, CIFAR-10 Batch 2:  \n",
      " Validation Cost:      1.275169849395752\n",
      " Validation: Accuracy: 0.5765998959541321\n",
      "Epoch 18, CIFAR-10 Batch 3:  \n",
      " Validation Cost:      1.2670092582702637\n",
      " Validation: Accuracy: 0.5739999413490295\n",
      "Epoch 18, CIFAR-10 Batch 4:  \n",
      " Validation Cost:      1.2555588483810425\n",
      " Validation: Accuracy: 0.5769999623298645\n",
      "Epoch 18, CIFAR-10 Batch 5:  \n",
      " Validation Cost:      1.2608981132507324\n",
      " Validation: Accuracy: 0.5761999487876892\n",
      "Epoch 19, CIFAR-10 Batch 1:  \n",
      " Validation Cost:      1.2824382781982422\n",
      " Validation: Accuracy: 0.5701999664306641\n",
      "Epoch 19, CIFAR-10 Batch 2:  \n",
      " Validation Cost:      1.2626630067825317\n",
      " Validation: Accuracy: 0.5717999339103699\n",
      "Epoch 19, CIFAR-10 Batch 3:  \n",
      " Validation Cost:      1.2499284744262695\n",
      " Validation: Accuracy: 0.5829998850822449\n",
      "Epoch 19, CIFAR-10 Batch 4:  \n",
      " Validation Cost:      1.2535839080810547\n",
      " Validation: Accuracy: 0.5775999426841736\n",
      "Epoch 19, CIFAR-10 Batch 5:  \n",
      " Validation Cost:      1.2571096420288086\n",
      " Validation: Accuracy: 0.5799999237060547\n",
      "Epoch 20, CIFAR-10 Batch 1:  \n",
      " Validation Cost:      1.2726712226867676\n",
      " Validation: Accuracy: 0.5815999507904053\n",
      "Epoch 20, CIFAR-10 Batch 2:  \n",
      " Validation Cost:      1.2527133226394653\n",
      " Validation: Accuracy: 0.5805999040603638\n",
      "Epoch 20, CIFAR-10 Batch 3:  \n",
      " Validation Cost:      1.2370398044586182\n",
      " Validation: Accuracy: 0.584399938583374\n",
      "Epoch 20, CIFAR-10 Batch 4:  \n",
      " Validation Cost:      1.240598440170288\n",
      " Validation: Accuracy: 0.5889999866485596\n",
      "Epoch 20, CIFAR-10 Batch 5:  \n",
      " Validation Cost:      1.2438488006591797\n",
      " Validation: Accuracy: 0.584399938583374\n",
      "Epoch 21, CIFAR-10 Batch 1:  \n",
      " Validation Cost:      1.2727912664413452\n",
      " Validation: Accuracy: 0.574199914932251\n",
      "Epoch 21, CIFAR-10 Batch 2:  \n",
      " Validation Cost:      1.2594735622406006\n",
      " Validation: Accuracy: 0.5779999494552612\n",
      "Epoch 21, CIFAR-10 Batch 3:  \n",
      " Validation Cost:      1.2438185214996338\n",
      " Validation: Accuracy: 0.5877999663352966\n",
      "Epoch 21, CIFAR-10 Batch 4:  \n",
      " Validation Cost:      1.2537139654159546\n",
      " Validation: Accuracy: 0.5853999257087708\n",
      "Epoch 21, CIFAR-10 Batch 5:  \n",
      " Validation Cost:      1.2511225938796997\n",
      " Validation: Accuracy: 0.5777999758720398\n",
      "Epoch 22, CIFAR-10 Batch 1:  \n",
      " Validation Cost:      1.2621339559555054\n",
      " Validation: Accuracy: 0.5881999135017395\n",
      "Epoch 22, CIFAR-10 Batch 2:  \n",
      " Validation Cost:      1.252861738204956\n",
      " Validation: Accuracy: 0.5805999040603638\n",
      "Epoch 22, CIFAR-10 Batch 3:  \n",
      " Validation Cost:      1.24592924118042\n",
      " Validation: Accuracy: 0.5999999046325684\n",
      "Epoch 22, CIFAR-10 Batch 4:  \n",
      " Validation Cost:      1.247498869895935\n",
      " Validation: Accuracy: 0.5899999141693115\n",
      "Epoch 22, CIFAR-10 Batch 5:  \n",
      " Validation Cost:      1.2451891899108887\n",
      " Validation: Accuracy: 0.5891999006271362\n",
      "Epoch 23, CIFAR-10 Batch 1:  \n",
      " Validation Cost:      1.2386577129364014\n",
      " Validation: Accuracy: 0.5977999567985535\n",
      "Epoch 23, CIFAR-10 Batch 2:  \n",
      " Validation Cost:      1.254311203956604\n",
      " Validation: Accuracy: 0.5879999399185181\n",
      "Epoch 23, CIFAR-10 Batch 3:  \n",
      " Validation Cost:      1.2458486557006836\n",
      " Validation: Accuracy: 0.5957998633384705\n",
      "Epoch 23, CIFAR-10 Batch 4:  \n",
      " Validation Cost:      1.2482502460479736\n",
      " Validation: Accuracy: 0.5897998809814453\n",
      "Epoch 23, CIFAR-10 Batch 5:  \n",
      " Validation Cost:      1.2404108047485352\n",
      " Validation: Accuracy: 0.5887998938560486\n",
      "Epoch 24, CIFAR-10 Batch 1:  \n",
      " Validation Cost:      1.2407231330871582\n",
      " Validation: Accuracy: 0.5935999155044556\n",
      "Epoch 24, CIFAR-10 Batch 2:  \n",
      " Validation Cost:      1.2485710382461548\n",
      " Validation: Accuracy: 0.5869998931884766\n",
      "Epoch 24, CIFAR-10 Batch 3:  \n",
      " Validation Cost:      1.2307350635528564\n",
      " Validation: Accuracy: 0.5927999019622803\n",
      "Epoch 24, CIFAR-10 Batch 4:  \n",
      " Validation Cost:      1.227278709411621\n",
      " Validation: Accuracy: 0.5895999670028687\n",
      "Epoch 24, CIFAR-10 Batch 5:  \n",
      " Validation Cost:      1.2434333562850952\n",
      " Validation: Accuracy: 0.5905998945236206\n",
      "Epoch 25, CIFAR-10 Batch 1:  \n",
      " Validation Cost:      1.2481011152267456\n",
      " Validation: Accuracy: 0.5887999534606934\n",
      "Epoch 25, CIFAR-10 Batch 2:  \n",
      " Validation Cost:      1.2338616847991943\n",
      " Validation: Accuracy: 0.5933998823165894\n",
      "Epoch 25, CIFAR-10 Batch 3:  \n",
      " Validation Cost:      1.2126476764678955\n",
      " Validation: Accuracy: 0.6015998721122742\n",
      "Epoch 25, CIFAR-10 Batch 4:  \n",
      " Validation Cost:      1.2251328229904175\n",
      " Validation: Accuracy: 0.596799910068512\n",
      "Epoch 25, CIFAR-10 Batch 5:  \n",
      " Validation Cost:      1.2069532871246338\n",
      " Validation: Accuracy: 0.5961999297142029\n",
      "Epoch 26, CIFAR-10 Batch 1:  \n",
      " Validation Cost:      1.217170000076294\n",
      " Validation: Accuracy: 0.592799961566925\n",
      "Epoch 26, CIFAR-10 Batch 2:  \n",
      " Validation Cost:      1.2256673574447632\n",
      " Validation: Accuracy: 0.5911998748779297\n",
      "Epoch 26, CIFAR-10 Batch 3:  \n",
      " Validation Cost:      1.235722541809082\n",
      " Validation: Accuracy: 0.5861998796463013\n",
      "Epoch 26, CIFAR-10 Batch 4:  \n",
      " Validation Cost:      1.2272768020629883\n",
      " Validation: Accuracy: 0.5919999480247498\n",
      "Epoch 26, CIFAR-10 Batch 5:  \n",
      " Validation Cost:      1.2299258708953857\n",
      " Validation: Accuracy: 0.597599983215332\n",
      "Epoch 27, CIFAR-10 Batch 1:  \n",
      " Validation Cost:      1.2386868000030518\n",
      " Validation: Accuracy: 0.6005999445915222\n",
      "Epoch 27, CIFAR-10 Batch 2:  \n",
      " Validation Cost:      1.206558346748352\n",
      " Validation: Accuracy: 0.6057998538017273\n",
      "Epoch 27, CIFAR-10 Batch 3:  \n",
      " Validation Cost:      1.2368109226226807\n",
      " Validation: Accuracy: 0.6005998849868774\n",
      "Epoch 27, CIFAR-10 Batch 4:  \n",
      " Validation Cost:      1.2265359163284302\n",
      " Validation: Accuracy: 0.6007999181747437\n",
      "Epoch 27, CIFAR-10 Batch 5:  \n",
      " Validation Cost:      1.2133266925811768\n",
      " Validation: Accuracy: 0.6005998849868774\n",
      "Epoch 28, CIFAR-10 Batch 1:  \n",
      " Validation Cost:      1.209436297416687\n",
      " Validation: Accuracy: 0.6033998727798462\n",
      "Epoch 28, CIFAR-10 Batch 2:  \n",
      " Validation Cost:      1.2032852172851562\n",
      " Validation: Accuracy: 0.6063998937606812\n",
      "Epoch 28, CIFAR-10 Batch 3:  \n",
      " Validation Cost:      1.2159398794174194\n",
      " Validation: Accuracy: 0.6059999465942383\n",
      "Epoch 28, CIFAR-10 Batch 4:  \n",
      " Validation Cost:      1.2353535890579224\n",
      " Validation: Accuracy: 0.602199912071228\n",
      "Epoch 28, CIFAR-10 Batch 5:  \n",
      " Validation Cost:      1.2257612943649292\n",
      " Validation: Accuracy: 0.611599862575531\n",
      "Epoch 29, CIFAR-10 Batch 1:  \n",
      " Validation Cost:      1.2303707599639893\n",
      " Validation: Accuracy: 0.6017999649047852\n",
      "Epoch 29, CIFAR-10 Batch 2:  \n",
      " Validation Cost:      1.2466000318527222\n",
      " Validation: Accuracy: 0.5993999242782593\n",
      "Epoch 29, CIFAR-10 Batch 3:  \n",
      " Validation Cost:      1.2440237998962402\n",
      " Validation: Accuracy: 0.6081998944282532\n",
      "Epoch 29, CIFAR-10 Batch 4:  \n",
      " Validation Cost:      1.235394835472107\n",
      " Validation: Accuracy: 0.6049998998641968\n",
      "Epoch 29, CIFAR-10 Batch 5:  \n",
      " Validation Cost:      1.2320687770843506\n",
      " Validation: Accuracy: 0.5975999236106873\n",
      "Epoch 30, CIFAR-10 Batch 1:  \n",
      " Validation Cost:      1.2249749898910522\n",
      " Validation: Accuracy: 0.6015998721122742\n",
      "Epoch 30, CIFAR-10 Batch 2:  \n",
      " Validation Cost:      1.220556378364563\n",
      " Validation: Accuracy: 0.6035999655723572\n",
      "Epoch 30, CIFAR-10 Batch 3:  \n",
      " Validation Cost:      1.2449320554733276\n",
      " Validation: Accuracy: 0.6075999140739441\n",
      "Epoch 30, CIFAR-10 Batch 4:  \n",
      " Validation Cost:      1.221421480178833\n",
      " Validation: Accuracy: 0.6097999215126038\n",
      "Epoch 30, CIFAR-10 Batch 5:  \n",
      " Validation Cost:      1.2356228828430176\n",
      " Validation: Accuracy: 0.6075998544692993\n"
     ]
    }
   ],
   "source": [
    "\"\"\"\n",
    "DON'T MODIFY ANYTHING IN THIS CELL\n",
    "\"\"\"\n",
    "save_model_path = './image_classification'\n",
    "\n",
    "print('Training...')\n",
    "with tf.Session() as sess:\n",
    "    # Initializing the variables\n",
    "    sess.run(tf.global_variables_initializer())\n",
    "    \n",
    "    # Training cycle\n",
    "    for epoch in range(epochs):\n",
    "        # Loop over all batches\n",
    "        n_batches = 5\n",
    "        for batch_i in range(1, n_batches + 1):\n",
    "            for batch_features, batch_labels in helper.load_preprocess_training_batch(batch_i, batch_size):\n",
    "                train_neural_network(sess, optimizer, keep_probability, batch_features, batch_labels)\n",
    "            print('Epoch {:>2}, CIFAR-10 Batch {}:  '.format(epoch + 1, batch_i), end='')\n",
    "            print_stats(sess, batch_features, batch_labels, cost, accuracy)\n",
    "            \n",
    "    # Save Model\n",
    "    saver = tf.train.Saver()\n",
    "    save_path = saver.save(sess, save_model_path)"
   ]
  },
  {
   "cell_type": "code",
   "execution_count": 123,
   "metadata": {
    "collapsed": false,
    "deletable": true,
    "editable": true
   },
   "outputs": [
    {
     "name": "stdout",
     "output_type": "stream",
     "text": [
      "INFO:tensorflow:Restoring parameters from ./image_classification\n",
      "Testing Accuracy: 0.5967167721518988\n",
      "\n"
     ]
    },
    {
     "data": {
      "image/png": "[encoded data removed]",
      "text/plain": [
       "<matplotlib.figure.Figure at 0x7f15ccfbae48>"
      ]
     },
     "metadata": {
      "image/png": {
       "height": 319,
       "width": 355
      }
     },
     "output_type": "display_data"
    }
   ],
   "source": [
    "\"\"\"\n",
    "DON'T MODIFY ANYTHING IN THIS CELL\n",
    "\"\"\"\n",
    "%matplotlib inline\n",
    "%config InlineBackend.figure_format = 'retina'\n",
    "\n",
    "import tensorflow as tf\n",
    "import pickle\n",
    "import helper\n",
    "import random\n",
    "\n",
    "# Set batch size if not already set\n",
    "try:\n",
    "    if batch_size:\n",
    "        pass\n",
    "except NameError:\n",
    "    batch_size = 64\n",
    "\n",
    "save_model_path = './image_classification'\n",
    "n_samples = 4\n",
    "top_n_predictions = 3\n",
    "\n",
    "def test_model():\n",
    "    \"\"\"\n",
    "    Test the saved model against the test dataset\n",
    "    \"\"\"\n",
    "\n",
    "    test_features, test_labels = pickle.load(open('preprocess_test.p', mode='rb'))\n",
    "    loaded_graph = tf.Graph()\n",
    "\n",
    "    with tf.Session(graph=loaded_graph) as sess:\n",
    "        # Load model\n",
    "        loader = tf.train.import_meta_graph(save_model_path + '.meta')\n",
    "        loader.restore(sess, save_model_path)\n",
    "\n",
    "        # Get Tensors from loaded model\n",
    "        loaded_x = loaded_graph.get_tensor_by_name('x:0')\n",
    "        loaded_y = loaded_graph.get_tensor_by_name('y:0')\n",
    "        loaded_keep_prob = loaded_graph.get_tensor_by_name('keep_prob:0')\n",
    "        loaded_logits = loaded_graph.get_tensor_by_name('logits:0')\n",
    "        loaded_acc = loaded_graph.get_tensor_by_name('accuracy:0')\n",
    "        \n",
    "        # Get accuracy in batches for memory limitations\n",
    "        test_batch_acc_total = 0\n",
    "        test_batch_count = 0\n",
    "        \n",
    "        for test_feature_batch, test_label_batch in helper.batch_features_labels(test_features, test_labels, batch_size):\n",
    "            test_batch_acc_total += sess.run(\n",
    "                loaded_acc,\n",
    "                feed_dict={loaded_x: test_feature_batch, loaded_y: test_label_batch, loaded_keep_prob: 1.0})\n",
    "            test_batch_count += 1\n",
    "\n",
    "        print('Testing Accuracy: {}\\n'.format(test_batch_acc_total/test_batch_count))\n",
    "\n",
    "        # Print Random Samples\n",
    "        random_test_features, random_test_labels = tuple(zip(*random.sample(list(zip(test_features, test_labels)), n_samples)))\n",
    "        random_test_predictions = sess.run(\n",
    "            tf.nn.top_k(tf.nn.softmax(loaded_logits), top_n_predictions),\n",
    "            feed_dict={loaded_x: random_test_features, loaded_y: random_test_labels, loaded_keep_prob: 1.0})\n",
    "        helper.display_image_predictions(random_test_features, random_test_labels, random_test_predictions)\n",
    "\n",
    "\n",
    "test_model()"
   ]
  },
  {
   "cell_type": "code",
   "execution_count": null,
   "metadata": {
    "collapsed": true,
    "deletable": true,
    "editable": true
   },
   "outputs": [],
   "source": []
  }
 ],
 "metadata": {
  "kernelspec": {
   "display_name": "Python 3",
   "language": "python",
   "name": "python3"
  },
  "language_info": {
   "codemirror_mode": {
    "name": "ipython",
    "version": 3
   },
   "file_extension": ".py",
   "mimetype": "text/x-python",
   "name": "python",
   "nbconvert_exporter": "python",
   "pygments_lexer": "ipython3",
   "version": "3.5.2"
  },
  "widgets": {
   "state": {},
   "version": "1.1.2"
  }
 },
 "nbformat": 4,
 "nbformat_minor": 2
}
